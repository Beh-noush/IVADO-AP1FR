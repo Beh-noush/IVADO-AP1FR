{
 "cells": [
  {
   "cell_type": "markdown",
   "metadata": {
    "colab_type": "text",
    "id": "p_5PWr7JoIbf"
   },
   "source": [
    "# ÉCOLE IVADO/MILA EN APPRENTISSAGE PROFOND\n",
    "# SESSION D' AUTOMNE 2018 \n",
    "# Tutoriel : Réseaux convolutifs\n",
    "\n",
    "## Auteurs: \n",
    "\n",
    "Margaux Luck <margaux.luck@rd.mila.quebec>\n",
    "\n",
    "Jeremy Pinto <jeremy.pinto@rd.mila.quebec>\n",
    "\n",
    "Mathieu Germain <mathieu.germain@rd.mila.quebec>\n",
    "\n",
    "## Préface\n",
    "\n",
    "Ce tutoriel à pour but d'introduire les concepts fondamentaux sur les réseaux de neurones convolutifs à l'aide d'exemples concrets."
   ]
  },
  {
   "cell_type": "markdown",
   "metadata": {
    "colab_type": "text",
    "id": "A73O9J3necuk"
   },
   "source": [
    "# Initialisation"
   ]
  },
  {
   "cell_type": "markdown",
   "metadata": {
    "colab_type": "text",
    "id": "0PNXwEm-ej9a"
   },
   "source": [
    "Avant de commencer, nous devons nous assurer d'installer les librairies nécessaires pour le tutoriel à l'aide de `pip`.  Pour se faire, exécutez la cellufle suivante en la sélectionnant et en cliquant `shift`+`Enter`. Ceci peut prendre quelques minutes."
   ]
  },
  {
   "cell_type": "code",
   "execution_count": 1,
   "metadata": {
    "colab": {},
    "colab_type": "code",
    "id": "fNlYWG6z9GKT"
   },
   "outputs": [
    {
     "name": "stdout",
     "output_type": "stream",
     "text": [
      "Requirement already satisfied: torch in /home/andrew/anaconda3/lib/python3.7/site-packages (1.6.0)\n",
      "Requirement already satisfied: torchvision in /home/andrew/anaconda3/lib/python3.7/site-packages (0.7.0)\n",
      "Requirement already satisfied: Pillow in /home/andrew/anaconda3/lib/python3.7/site-packages (7.0.0)\n",
      "Requirement already satisfied: matplotlib in /home/andrew/anaconda3/lib/python3.7/site-packages (3.1.3)\n",
      "Requirement already satisfied: numpy in /home/andrew/anaconda3/lib/python3.7/site-packages (from torch) (1.18.1)\n",
      "Requirement already satisfied: future in /home/andrew/anaconda3/lib/python3.7/site-packages (from torch) (0.18.2)\n",
      "Requirement already satisfied: python-dateutil>=2.1 in /home/andrew/anaconda3/lib/python3.7/site-packages (from matplotlib) (2.8.1)\n",
      "Requirement already satisfied: pyparsing!=2.0.4,!=2.1.2,!=2.1.6,>=2.0.1 in /home/andrew/anaconda3/lib/python3.7/site-packages (from matplotlib) (2.4.6)\n",
      "Requirement already satisfied: kiwisolver>=1.0.1 in /home/andrew/anaconda3/lib/python3.7/site-packages (from matplotlib) (1.1.0)\n",
      "Requirement already satisfied: cycler>=0.10 in /home/andrew/anaconda3/lib/python3.7/site-packages (from matplotlib) (0.10.0)\n",
      "Requirement already satisfied: six>=1.5 in /home/andrew/anaconda3/lib/python3.7/site-packages (from python-dateutil>=2.1->matplotlib) (1.14.0)\n",
      "Requirement already satisfied: setuptools in /home/andrew/anaconda3/lib/python3.7/site-packages (from kiwisolver>=1.0.1->matplotlib) (45.2.0.post20200210)\n"
     ]
    }
   ],
   "source": [
    "!pip install torch torchvision Pillow matplotlib"
   ]
  },
  {
   "cell_type": "markdown",
   "metadata": {
    "colab_type": "text",
    "id": "ddGNnGb0lMFJ"
   },
   "source": [
    "Afin de vous assurer que l'installation s'est bien faite, importez toutes les libraries et modules dont nous nous servirons pour ce tutoriel en exécutant la prochaine cellule:"
   ]
  },
  {
   "cell_type": "code",
   "execution_count": 2,
   "metadata": {
    "colab": {},
    "colab_type": "code",
    "id": "QfmCDK-xlRmW"
   },
   "outputs": [
    {
     "name": "stdout",
     "output_type": "stream",
     "text": [
      "Version de torch:  1.6.0\n",
      "GPU disponible: False\n"
     ]
    }
   ],
   "source": [
    "import torch\n",
    "\n",
    "use_gpu = torch.cuda.is_available()\n",
    "device = torch.device(\"cuda:0\" if use_gpu else \"cpu\")\n",
    "\n",
    "print(\"Version de torch: \", torch.__version__)\n",
    "print(\"GPU disponible: {}\".format(use_gpu))"
   ]
  },
  {
   "cell_type": "markdown",
   "metadata": {
    "colab_type": "text",
    "id": "FNomSpLO9LeH"
   },
   "source": [
    "# Le jeu de données MNIST\n",
    "MNIST est le **jeu de données de référence de classification** utilisé en **vision par ordinateur**. Il est hébergé sur <a href=\"http://yann.lecun.com/exdb/mnist/\">le site de Yann LeCun</a>. Il se compose d'**images de chiffres manuscripts**. Quelques exemples sont données ci-dessous :\n",
    "\n",
    "![Alt Text](https://github.com/mila-iqia/ecole_dl_mila_ivado/blob/master/tutoriaux/CNN/images/mnist.png?raw=true)\n",
    "\n",
    "Il inclut également des **étiquettes de classes pour chaque image**, indiquant à quel chiffre elle correspond. Par exemple, les étiquettes des images ci-dessus sont 5, 0, 4 et 1.\n",
    "\n",
    "Il se compose de **60 000 exemples d'entraînement** et de **10 000 exemples de test**. Les images sont toutes de la même taille (**28x28 pixels**). Chaque pixel est représenté par un chiffre entre 0 et 255 indiquant une nuance de gris. En fonction des modèles que nous allons tester les images seront utilisées telles quelles ou bien aplaties.\n",
    "\n",
    "Les classes sont balancées, c'est à dire qu'il y a une proportion plus ou moins égale des différents chiffres dans notre jeu de données."
   ]
  },
  {
   "cell_type": "markdown",
   "metadata": {
    "colab_type": "text",
    "id": "wk9AMaT9hmcX"
   },
   "source": [
    "## Objectif\n",
    "\n",
    "Nous cherchons à concevoir un algorithme pour classifier ces chiffres correctement. Dans notre cas, nous utiliserons comme entrée l'intensité de tous les pixels d'une image et essayerons de prédir la valeur du chiffre en question. Ce problème peut se résumer à:\n",
    "\n",
    "`f(image) = chiffre prédit`\n",
    "\n",
    "où `f` est une fonction quelconque. \n",
    "\n",
    "Dans ce tutoriel, nous considérerons un **perceptron multi-couche** ainsi qu'un **réseau de neurones convolutif**. Ces fonctions prennent en entrée l'intensité des pixels et effectuent des opérations mathématiques sur ces valeurs. La valeur de retour de la fonction est un vecteur de taille *1xN* où chaque entrée correspond à la probabilité que le chiffre en question soit ce chiffre. La somme de toutes ces valeurs est nécessairement de 1. Notre prédiction finale est l'entrée pour laquelle la probabilité est maximale. Par exemple, la prédiction\n",
    "\n",
    "`[0.8, 0.1, 0, 0, 0, 0.05, 0.05, 0.0, 0.0, 0.0, 0.0]`\n",
    "\n",
    "indique à 80% de chances qu'il s'agit du chiffre 0.\n",
    "\n",
    "Pour chacun de ces modèles, nous chercherons à \"apprendre\" la meilleure solution. Pour se faire, nous commencerons à partir d'une solution aléatoire et chercherons à converger vers une solution optimale. À chaque itération, nous comparons les résultats de notre prédiction à la réelle valeure et ajustons nos modèles par la suite jusqu'à ce que nous satisfaisions un certain critère d'arret"
   ]
  },
  {
   "cell_type": "markdown",
   "metadata": {
    "colab_type": "text",
    "id": "F1U2sDz9ufy9"
   },
   "source": [
    "## Télécharger les données et créer le chargeur de données\n",
    "\n",
    "Avant de commencer, nous devons nous assurer d'avoir accès aux données de MNIST. Nous utiliserons les fonctions natives à PyTorch pour les récupérer.\n",
    "\n",
    "### Boîte à outils\n",
    "**Rappel:** Dans PyTorch, il existe des fonctions pour charger, mélanger et augmenter les données. \n",
    "\n",
    "Une façon simple de charger les données dans PyTorch est : \n",
    "<ul>\n",
    "<li>D'utiliser une classe enfant de <a href=\"http://pytorch.org/docs/master/data.html#torch.utils.data.Dataset\">`torch.utils.data.Dataset`</a> où les méthodes `__getitem__` et `__len__` sont à compléter.</li>\n",
    "<li>D'utiliser la classe <a href=\"http://pytorch.org/docs/master/data.html#torch.utils.data.DataLoader\">`torch.utils.data.DataLoader`</a> pour lire et mettre en mémoire les données.</li>\n",
    "</ul>\n",
    "\n",
    "\n",
    "Par chance, dans pytorch, il existe déjà une classe enfant de Dataset pour utiliser MNIST : <a href=\"http://pytorch.org/docs/master/torchvision/datasets.html#mnist\">`torchvision.datasets.MNIST`</a>.\n",
    "\n",
    "<a href=\"http://pytorch.org/docs/master/torchvision/datasets.html\">D'autres jeux de données sont aussi disponibles.</a>\n",
    "\n",
    "**Remarque:** <a href=\"http://pytorch.org/docs/master/tensors.html#torch.Tensor.view\">`torch.Tensor.view()`</a> renvoie un nouveau tenseur avec les mêmes données que le tenseur d'origine mais avec une taille différente. Cela peut donc être utilisé pour aplatir une image, par exemple."
   ]
  },
  {
   "cell_type": "code",
   "execution_count": 4,
   "metadata": {
    "colab": {},
    "colab_type": "code",
    "id": "n2iC4F8H8bsx"
   },
   "outputs": [
    {
     "name": "stdout",
     "output_type": "stream",
     "text": [
      "# d'exemples d'entraînement: 48000\n",
      "# d'exemples de validation: 12000\n",
      "# d'exemples d'évaluation: 10000\n"
     ]
    }
   ],
   "source": [
    "import numpy as np\n",
    "import random\n",
    "import torch\n",
    "from torch.utils.data import sampler, DataLoader\n",
    "from torchvision.datasets import MNIST\n",
    "import torchvision.transforms as transforms\n",
    "\n",
    "\n",
    "manualSeed = 1234\n",
    "use_gpu = torch.cuda.is_available()\n",
    "\n",
    "# Fixer la graine aléatoire\n",
    "random.seed(manualSeed)\n",
    "np.random.seed(manualSeed)\n",
    "torch.manual_seed(manualSeed)\n",
    "if use_gpu:\n",
    "   torch.cuda.manual_seed_all(manualSeed)\n",
    "\n",
    "class ChunkSampler(sampler.Sampler):\n",
    "    \"\"\"\n",
    "    Échantillonne les éléments de façon séquentielle \n",
    "        à partir d'un certain décalage.\n",
    "    De : https://github.com/pytorch/vision/issues/168\n",
    "    \n",
    "    Paramètres\n",
    "    ----------\n",
    "    num_samples : int\n",
    "      # Nombre de points de données souhaités\n",
    "    start : int\n",
    "      Décalage où nous devrions commencer à choisir\n",
    "    \"\"\"\n",
    "    def __init__(self, num_samples, start=0):\n",
    "        self.num_samples = num_samples\n",
    "        self.start = start\n",
    "\n",
    "    def __iter__(self):\n",
    "        return iter(range(self.start, self.start + self.num_samples))\n",
    "\n",
    "    def __len__(self):\n",
    "        return self.num_samples\n",
    "\n",
    "\n",
    "train_dataset = MNIST(root='../data', \n",
    "                      train=True, \n",
    "                      transform=transforms.ToTensor(),  \n",
    "                      download=True)\n",
    "\n",
    "test_dataset = MNIST(root='../data', \n",
    "                     train=False, \n",
    "                     transform=transforms.ToTensor())\n",
    "\n",
    "train_dataset_sizes = len(train_dataset)\n",
    "num_train_samples = int(0.8 * train_dataset_sizes)\n",
    "num_valid_samples = train_dataset_sizes - num_train_samples\n",
    "num_test_samples = len(test_dataset)\n",
    "\n",
    "print(\"# d'exemples d'entraînement: {}\".format(num_train_samples))\n",
    "print(\"# d'exemples de validation: {}\".format(num_valid_samples))\n",
    "print(\"# d'exemples d'évaluation: {}\".format(num_test_samples))\n",
    "\n",
    "batch_size = 100\n",
    "\n",
    "train_loader = DataLoader(dataset=train_dataset,\n",
    "                          sampler=ChunkSampler(num_train_samples, 0),\n",
    "                          batch_size=batch_size, \n",
    "                          shuffle=False)\n",
    "\n",
    "valid_loader = DataLoader(dataset=train_dataset,\n",
    "                          sampler=ChunkSampler(\n",
    "                              num_valid_samples, num_train_samples),\n",
    "                          batch_size=batch_size, \n",
    "                          shuffle=False)\n",
    "\n",
    "test_loader = DataLoader(dataset=test_dataset, \n",
    "                         batch_size=batch_size, \n",
    "                         shuffle=False)\n"
   ]
  },
  {
   "cell_type": "markdown",
   "metadata": {
    "colab_type": "text",
    "id": "gRV8zZbHV6zN"
   },
   "source": [
    "Visualisons les données d'entraînement !"
   ]
  },
  {
   "cell_type": "code",
   "execution_count": 5,
   "metadata": {
    "colab": {},
    "colab_type": "code",
    "id": "TB57DZYzV9Oz"
   },
   "outputs": [
    {
     "name": "stdout",
     "output_type": "stream",
     "text": [
      "Taille des entrées: torch.Size([100, 1, 28, 28])\n",
      "Taille des classes: torch.Size([100])\n",
      "\n",
      "\n",
      "Visualisons la première image:\n"
     ]
    },
    {
     "data": {
      "image/png": "[encoded data removed]",
      "text/plain": [
       "<Figure size 432x288 with 1 Axes>"
      ]
     },
     "metadata": {
      "needs_background": "light"
     },
     "output_type": "display_data"
    }
   ],
   "source": [
    "%matplotlib inline\n",
    "import matplotlib.pyplot as plt\n",
    "\n",
    "inputs, classes = next(iter(train_loader))\n",
    "\n",
    "print('Taille des entrées: {}'.format(inputs.size()))\n",
    "print('Taille des classes: {}'.format(classes.size()))\n",
    "\n",
    "# Random image of the batch\n",
    "img1 = 255 - inputs[np.random.randint(len(inputs))] * 255\n",
    "\n",
    "# Plot the image\n",
    "print('\\n\\nVisualisons la première image:')\n",
    "img1 = img1.numpy()[0, :, :]\n",
    "plt.imshow(img1, cmap='gray', vmin=0, vmax=255)\n",
    "plt.grid(False)\n",
    "plt.show()\n"
   ]
  },
  {
   "cell_type": "markdown",
   "metadata": {
    "colab_type": "text",
    "id": "T_XSUTbG0UvX"
   },
   "source": [
    "# CPU ou GPU\n",
    "**Rappel:** <a href=\"http://pytorch.org/docs/master/cuda.html#module-torch.cuda\">`torch.cuda`</a> est une librairie qui permet d'utiliser des GPUs pour effectuer les calculs sur des tenseurs. La librairie inclut des tenseurs de type CUDA qui ont les mêmes fonctions que les tenseurs réguliers mais qui utilisent des GPUs pour leurs calculs, au lieu d'un CPU. <a href=\"http://pytorch.org/docs/master/cuda.html#torch.cuda.is_available\">`torch.cuda.is_available()`</a> retourne un booléen indiquant si CUDA est présentement disponible. Pour passer d'un tenseur de type CPU à un tenseur de type GPU, il suffit de lui ajouter `.to(\"cuda:0\")`.\n",
    "\n",
    "Pour plus d'informations sur comment utiliser les GPU sur colab, vous pouvez lire ce [tutoriel](https://colab.research.google.com/drive/1y3ZE4m-D7lPoMzsypSEXessYmjWfKGqD#scrollTo=3IEVK-KFxi5Z).\n"
   ]
  },
  {
   "cell_type": "code",
   "execution_count": 6,
   "metadata": {
    "colab": {},
    "colab_type": "code",
    "id": "LxnZv9g_0RQK"
   },
   "outputs": [
    {
     "name": "stdout",
     "output_type": "stream",
     "text": [
      "GPU disponible: False\n"
     ]
    }
   ],
   "source": [
    "use_gpu = torch.cuda.is_available()\n",
    "\n",
    "print(\"GPU disponible: {}\".format(use_gpu))"
   ]
  },
  {
   "cell_type": "markdown",
   "metadata": {
    "colab_type": "text",
    "id": "h2LZ9sxy8bs3"
   },
   "source": [
    "# Le perceptron multi-couche\n",
    "Un perceptron multi-couche est un réseau de neurones à propagation avant simple. Il prend en entrée les images, les transforme à travers une série de couches cachées et finalement donne une sortie. Cette sortie correspond à la probabilité d'appartenance à l'une ou l'autre des classes de la cible.\n",
    "\n",
    "Par exemple, si on regarde un perceptron multi-couche qui classifie des images de chiffres du jeu de données MNIST :\n",
    "\n",
    "![Alt Text](https://github.com/mila-iqia/ecole_dl_mila_ivado/blob/master/tutoriaux/CNN/images/mlp.png?raw=true)\n",
    "\n",
    "La procédure d'apprentissage typique pour ce modèle consiste à :\n",
    "<ul>\n",
    "<li>Définir l'architecture du réseau. Cela définira les paramètres (poids et biais) du réseau.</li>\n",
    "<li>Définir la fonction de coût et l'optimiseur.</li>\n",
    "<li>Entraîner le réseau.</li>\n",
    "<li>Tester le réseau.</li>\n",
    "</ul>\n",
    "\n",
    "Notez que cette procèdure est valable pour l'entraînement de tout type de réseau de neurones profonds.\n",
    "\n",
    "### Boîte à outils\n",
    "\n",
    "Rappelons qu'un réseau de neurones profond peut être construit en utilisant la librairie <a href=\"http://pytorch.org/docs/master/nn.html\">`torch.nn`</a>. `nn` travaille avec <a href=\"http://pytorch.org/docs/master/autograd.html\">`torch.autograd`</a> pour définir et différencier les modèles."
   ]
  },
  {
   "cell_type": "markdown",
   "metadata": {
    "colab_type": "text",
    "id": "CUhdXQNdup2c"
   },
   "source": [
    "## Définir l'architecture du réseau\n",
    "### Boîte à outils\n",
    "\n",
    "Pour définir l'architecture du réseau en pytorch il faut créer une classe enfant de la classe parent <a href=\"http://pytorch.org/docs/master/nn.html#torch.nn.Module\">`torch.nn.Module`</a> où les méthodes suivantes sont à compléter :\n",
    "<ul>\n",
    "<li>La méthode `__init__` qui définit les couches. </li>\n",
    "<li>La méthode `forward(input)` qui retourne l'`output` (la sortie).</li>\n",
    "</ul>\n",
    "\n",
    "Pour construire les couches de l'`__init__` du perceptron multi-couche, les classes suivantes peuvent être utilisées :\n",
    "<ul>\n",
    "<li><a href=\"http://pytorch.org/docs/master/nn.html#torch.nn.Linear\">`torch.nn.Linear(in_features, out_features)`</a> qui applique une transformation linéaire aux données d'entrée : y = Ax + b.</li>\n",
    "<li><a href=\"http://pytorch.org/docs/master/nn.html#torch.nn.ReLU\">`torch.nn.Relu()`</a> qui applique la fonction Relu éléments par éléments : Relu(x) = max(0, x).</li>\n",
    "<li><a href=\"http://pytorch.org/docs/master/nn.html#torch.nn.Softmax\">`torch.nn.Softmax(dim)`</a> qui applique la fonction Sofmax à un tenseur d'entrée à n-dimensions en le normalisant de tel sorte que les éléments de tenseur de sortie à n-dimensions soient dans l'intervalle [0, 1] et somment à 1.</li>\n",
    "<li><a href=\"http://pytorch.org/docs/master/nn.html#torch.nn.Sequential\">`torch.nn.sequential`</a>  qui est un conteneur séquentiel dans lequel les modules sont ajoutés dans l'ordre dans lequel ils sont passés au constructeur.</li>\n",
    "</ul>\n",
    "\n",
    "Dans `forward(input)` on applique aux données d'entrée les différentes couches définies dans `__init__` les unes après les autres.\n",
    "\n",
    "Enfin, `model.to(device)` permet de passer le modèle sur GPU lorsque disponible.\n",
    "\n",
    "## Implémentation"
   ]
  },
  {
   "cell_type": "markdown",
   "metadata": {
    "colab_type": "text",
    "id": "z3xFquZ0xmUs"
   },
   "source": [
    "### Modèle\n",
    "\n",
    "Nous voulons implémenter un modèle à trois couches avec la non-linéarité ReLU entre chaque couche."
   ]
  },
  {
   "cell_type": "code",
   "execution_count": 7,
   "metadata": {
    "colab": {},
    "colab_type": "code",
    "id": "e-3XHqgI8bs4"
   },
   "outputs": [
    {
     "name": "stdout",
     "output_type": "stream",
     "text": [
      "MLP(\n",
      "  (hidden_layer): Sequential(\n",
      "    (0): Linear(in_features=784, out_features=500, bias=True)\n",
      "    (1): ReLU()\n",
      "    (2): Linear(in_features=500, out_features=500, bias=True)\n",
      "    (3): ReLU()\n",
      "  )\n",
      "  (output_layer): Sequential(\n",
      "    (0): Linear(in_features=500, out_features=10, bias=True)\n",
      "  )\n",
      ")\n",
      "\n",
      "\n",
      "# paramètres:  648010\n"
     ]
    }
   ],
   "source": [
    "import torch.nn as nn\n",
    "import copy\n",
    "\n",
    "input_size = 784\n",
    "hidden_size = 500\n",
    "num_classes = 10\n",
    "\n",
    "class MLP(nn.Module):\n",
    "    def __init__(self, input_size, hidden_size, num_classes):\n",
    "        super(MLP, self).__init__()\n",
    "\n",
    "        self.hidden_layer = nn.Sequential(\n",
    "            nn.Linear(input_size, hidden_size),\n",
    "            nn.ReLU(),\n",
    "            nn.Linear(hidden_size, hidden_size),\n",
    "            nn.ReLU())\n",
    "        \n",
    "        self.output_layer = nn.Sequential(\n",
    "            nn.Linear(hidden_size, num_classes))\n",
    "    \n",
    "    def forward(self, x):        \n",
    "        \n",
    "        out = self.hidden_layer(x)\n",
    "        \n",
    "        out = self.output_layer(out)\n",
    "        \n",
    "        return out\n",
    "\n",
    "model = MLP(input_size, hidden_size, num_classes)\n",
    "# envoyer le modèle au GPU\n",
    "model = model.to(device)\n",
    "\n",
    "print(model)\n",
    "\n",
    "print(\"\\n\\n# paramètres: \", sum([param.nelement() for param in model.parameters()]))\n",
    "\n",
    "# Sauvegarder les poids initiaux du modèle\n",
    "init_model_wts = copy.deepcopy(model.state_dict())"
   ]
  },
  {
   "cell_type": "markdown",
   "metadata": {
    "colab_type": "text",
    "id": "SFxIFvCSu7fj"
   },
   "source": [
    "\n",
    "### Nombre de paramètres\n",
    "\n",
    "En entrée, nous avons 28x28 pixels applatis, donc un vecteur de taille 1x784. Afin de passer à une seconde couche de taille 500, nous avons besoin de 500 vecteurs de poids 1x784, donc 784\\*500, ainsi que de 500 biais, donc 785\\*500 total. Continuant cette logique, nous avons un nombre total de paramètres de:\n",
    "\n",
    "`785*500 + 501*500 + 501*10 = 648010` "
   ]
  },
  {
   "cell_type": "markdown",
   "metadata": {
    "colab_type": "text",
    "id": "P-t4PftT8bs7"
   },
   "source": [
    "## Définir la fonction de coût et l'optimiseur\n",
    "### Boîte à outils\n",
    "De nombreuses fonctions de coût et optimiseurs sont disponibles dans Pytorch. \n",
    "\n",
    "Rappelons qu'une fonction de coût $J(\\theta) = L(x, y, \\theta)$ prend en entrée le couple (prédiction, cible) et calcule une valeur qui estime la distance entre la prédiction et la cible. L'optimiseur dans le cas de la descente de gradient stochastique, ou Stochastic Gradient Descent (SGD), minimise la fonction de coût $J(\\theta)$ paramétrisée par les poids du modèle $\\theta \\in \\mathbb{R}^d$ en mettant à jour les poids itérativement suivant cette règle simple : `poids = poids - pas_d_apprentissage * gradient`.\n",
    "\n",
    "Un choix commun pour un problème de classification (notre cas) est d'utiliser les classes suivantes :\n",
    "<ul>\n",
    "<li>**Fonction de coût :** <a href=\"http://pytorch.org/docs/master/nn.html#torch.nn.CrossEntropyLoss\">`torch.nn.CrossEntropyLoss()`</a>. L'entropie croisée est souvent utilisée en optimisation. Elle permet de comparer une distribution $p$ avec une distibution de référence $t$. Elle est minimum lorsque $t=p$. Sa formule pour la calculer entre la prédiction et la cible est : $-\\sum_j t_{ij} \\log(p_{ij})$ où $p$ est la prédiction, $t$ la cible, $i$ les exemples et $j$ les classes de la cible. Note: la fonction <a href=\"http://pytorch.org/docs/master/nn.html#torch.nn.CrossEntropyLoss\">`torch.nn.CrossEntropyLoss()`</a> calcule par défaut la valeur softmax de la dernière couche. </li>\n",
    "<li>**Optimiseur :** <a href=\"http://pytorch.org/docs/master/optim.html#torch.optim.SGD\">`torch.optim.SGD(net.parameters(), lr=learning_rate)`</a> qui est une implémentation de SGD.</li>\n",
    "</ul>\n",
    "\n",
    "### Implémentation"
   ]
  },
  {
   "cell_type": "code",
   "execution_count": 8,
   "metadata": {
    "colab": {},
    "colab_type": "code",
    "id": "Rg7HNpSy8bs8"
   },
   "outputs": [],
   "source": [
    "learning_rate = 1e-2\n",
    "\n",
    "criterion = nn.CrossEntropyLoss()  \n",
    "\n",
    "optimizer = torch.optim.SGD(model.parameters(), lr=learning_rate)"
   ]
  },
  {
   "cell_type": "markdown",
   "metadata": {
    "colab_type": "text",
    "id": "z1DUif-H8bs_"
   },
   "source": [
    "## Entraîner le réseau\n",
    "### Boîte à outils\n",
    "En général, l'entraînement d'un réseau se fait en itérant sur plusieurs époques (une époque correspond à une passe sur l'intégralité du jeu de données d'entraînement). Sur une époque on va recevoir une série de lots fournis par l'itérateur. Pour chaque lot, on fait les opérations suivantes:\n",
    "<ul>\n",
    "<li>`optimizer.zero_grad()` : on efface les gradients encore stockés par le réseau issus de la passe précédente.</li>\n",
    "<li>`loss.backward()` : on calcule automatiquement la dérivée du coût et on propage l'erreur dans le graphe par rétro-propagation.</li>\n",
    "<li>`optimizer.step()` : on effectue une étape de descente de gradient. Dans le cas de SGD, c'est une descente de gradient classique avec les gradients calculés précédemment : `poids = poids - pas_d_apprentissage * gradient`.</li>\n",
    "</ul>\n",
    "\n",
    "### Implémentation"
   ]
  },
  {
   "cell_type": "code",
   "execution_count": 9,
   "metadata": {
    "colab": {},
    "colab_type": "code",
    "id": "JVh2Pbq98btA"
   },
   "outputs": [
    {
     "name": "stdout",
     "output_type": "stream",
     "text": [
      "# Début de l'entraînement #\n",
      "\n",
      "Époque: 1/10\n",
      "\tPerte d'entraînement: 2.0848\n",
      "\tPerte de validation: 1.5925\n",
      "\n",
      "Époque: 2/10\n",
      "\tPerte d'entraînement: 1.0058\n",
      "\tPerte de validation: 0.6334\n",
      "\n",
      "Époque: 3/10\n",
      "\tPerte d'entraînement: 0.5535\n",
      "\tPerte de validation: 0.4530\n",
      "\n",
      "Époque: 4/10\n",
      "\tPerte d'entraînement: 0.4410\n",
      "\tPerte de validation: 0.3867\n",
      "\n",
      "Époque: 5/10\n",
      "\tPerte d'entraînement: 0.3902\n",
      "\tPerte de validation: 0.3516\n",
      "\n",
      "Époque: 6/10\n",
      "\tPerte d'entraînement: 0.3600\n",
      "\tPerte de validation: 0.3287\n",
      "\n",
      "Époque: 7/10\n",
      "\tPerte d'entraînement: 0.3387\n",
      "\tPerte de validation: 0.3114\n",
      "\n",
      "Époque: 8/10\n",
      "\tPerte d'entraînement: 0.3218\n",
      "\tPerte de validation: 0.2974\n",
      "\n",
      "Époque: 9/10\n",
      "\tPerte d'entraînement: 0.3075\n",
      "\tPerte de validation: 0.2853\n",
      "\n",
      "Époque: 10/10\n",
      "\tPerte d'entraînement: 0.2949\n",
      "\tPerte de validation: 0.2746\n",
      "\n",
      "\n",
      "Entraînement fini en 1m 29s\n"
     ]
    }
   ],
   "source": [
    "import time\n",
    "from torch.autograd import Variable\n",
    "\n",
    "model.load_state_dict(init_model_wts)\n",
    "\n",
    "since = time.time()\n",
    "\n",
    "num_epochs = 10\n",
    "train_loss_history = []\n",
    "valid_loss_history = []\n",
    "\n",
    "print(\"# Début de l'entraînement #\")\n",
    "for epoch in range(num_epochs):\n",
    "    \n",
    "    train_loss = 0\n",
    "    train_n_iter = 0\n",
    "    \n",
    "    # activer le mode d'entraînement\n",
    "    model.train()\n",
    "    \n",
    "    # itération sur les données d'entraînement\n",
    "    for images, labels in train_loader:  \n",
    "        \n",
    "        # transférer les données sur l'appareil choisi\n",
    "        images = images.to(device)\n",
    "        labels = labels.to(device)\n",
    "        \n",
    "        # Aplatir les images\n",
    "        images = images.view(-1, 28*28)\n",
    "\n",
    "        # réinitialiser les gradients à zéro\n",
    "        optimizer.zero_grad()  \n",
    "        \n",
    "        # propagation avant sur les images\n",
    "        outputs = model(images)\n",
    "        \n",
    "        loss = criterion(outputs, labels)\n",
    "        \n",
    "        # rétropropagation\n",
    "        loss.backward()\n",
    "        \n",
    "        # optimisation\n",
    "        optimizer.step()\n",
    "        \n",
    "        # Statistiques\n",
    "        train_loss += loss.item()\n",
    "        train_n_iter += 1\n",
    "    \n",
    "    valid_loss = 0\n",
    "    valid_n_iter = 0\n",
    "    \n",
    "    # Activer le mode d'évaluation\n",
    "    model.eval()\n",
    "    \n",
    "    # itération sur les données de validation\n",
    "    for images, labels in valid_loader:  \n",
    "        \n",
    "        # transférer les données sur l'appareil choisi\n",
    "        images = images.to(device)\n",
    "        labels = labels.to(device)\n",
    "        \n",
    "        # Aplatir les images\n",
    "        images = images.view(-1, 28*28)\n",
    "        \n",
    "        \n",
    "        # propagation avant sur les images\n",
    "        outputs = model(images)\n",
    "        \n",
    "        loss = criterion(outputs, labels)\n",
    "        \n",
    "        # Statistiques\n",
    "        valid_loss += loss.item()\n",
    "        valid_n_iter += 1\n",
    "    \n",
    "    train_loss_history.append(train_loss / train_n_iter)\n",
    "    valid_loss_history.append(valid_loss / valid_n_iter)\n",
    "    \n",
    "    print('\\nÉpoque: {}/{}'.format(epoch + 1, num_epochs))\n",
    "    print(\"\\tPerte d'entraînement: {:.4f}\".format(train_loss / train_n_iter))\n",
    "    print(\"\\tPerte de validation: {:.4f}\".format(valid_loss / valid_n_iter))\n",
    "\n",
    "time_elapsed = time.time() - since\n",
    "\n",
    "print('\\n\\nEntraînement fini en {:.0f}m {:.0f}s'.format(\n",
    "    time_elapsed // 60, time_elapsed % 60))"
   ]
  },
  {
   "cell_type": "markdown",
   "metadata": {
    "colab_type": "text",
    "id": "AM0yhihy_rjR"
   },
   "source": [
    "Visualisons les courbes d'entraînement !"
   ]
  },
  {
   "cell_type": "code",
   "execution_count": 10,
   "metadata": {
    "colab": {},
    "colab_type": "code",
    "id": "WHUMeoJy_qNX"
   },
   "outputs": [
    {
     "data": {
      "image/png": "[encoded data removed]",
      "text/plain": [
       "<Figure size 432x288 with 1 Axes>"
      ]
     },
     "metadata": {
      "needs_background": "light"
     },
     "output_type": "display_data"
    }
   ],
   "source": [
    "# Conserver l'historique pour plus tard\n",
    "mlp_train_loss_history = train_loss_history\n",
    "mlp_valid_loss_history = valid_loss_history\n",
    "\n",
    "# Tracer les courbes d'entraînement et de validation\n",
    "x = range(1, num_epochs + 1)\n",
    "plt.plot(x, mlp_train_loss_history, label='entraînement')\n",
    "plt.plot(x, mlp_valid_loss_history, label='validation')\n",
    "\n",
    "plt.xlabel('# époques')\n",
    "plt.ylabel('Perte')\n",
    "plt.legend()\n",
    "\n",
    "plt.show()"
   ]
  },
  {
   "cell_type": "markdown",
   "metadata": {
    "colab_type": "text",
    "id": "4cLnlFhW8btC"
   },
   "source": [
    "## Tester le réseau\n",
    "### Boîte à outils\n",
    "On évalue ensuite le réseau sur l'ensemble du jeu de données d'évaluation.\n",
    "### Implémentation"
   ]
  },
  {
   "cell_type": "code",
   "execution_count": 14,
   "metadata": {
    "colab": {},
    "colab_type": "code",
    "id": "OX6_p5wx_tYv"
   },
   "outputs": [
    {
     "name": "stdout",
     "output_type": "stream",
     "text": [
      "Exactitude sur l'ensemble d'évaluation: 92.00%\n"
     ]
    }
   ],
   "source": [
    "# Activer le mode d'évaluation\n",
    "model.eval()\n",
    "\n",
    "correct = 0\n",
    "total = 0\n",
    "\n",
    "# itération sur les données d'évaluation\n",
    "for images, labels in test_loader:\n",
    "    \n",
    "    # transférer les données sur l'appareil choisi\n",
    "    images = images.to(device)\n",
    "    labels = labels.to(device)\n",
    "    \n",
    "    # Aplatir les images\n",
    "    images = images.view(-1, 28*28)\n",
    "    \n",
    "\n",
    "    # propagation avant sur les images\n",
    "    outputs = model(images)\n",
    "    _, predicted = torch.max(outputs.data, 1)\n",
    "    \n",
    "    # Statistiques\n",
    "    total += labels.size(0)\n",
    "    correct += torch.sum(predicted == labels.data)\n",
    "\n",
    "print(\"Exactitude sur l'ensemble d'évaluation: {:.2f}%\".format(100 * correct // total))"
   ]
  },
  {
   "cell_type": "markdown",
   "metadata": {
    "colab_type": "text",
    "id": "Hp1YgKZb8btG"
   },
   "source": [
    "# Réseaux de neurones convolutifs (CNN/RNC)\n",
    "\n",
    "\n"
   ]
  },
  {
   "cell_type": "markdown",
   "metadata": {
    "colab_type": "text",
    "id": "GMbU21dg3Rqx"
   },
   "source": [
    "## Concepts\n",
    "\n",
    "Nous revisitons ici certains concepts de base pour les réseaux convolutifs.\n",
    "\n",
    "### Convolution\n",
    "\n",
    "Une convolution consiste à prendre un filtre *k* et le faire \"glisser\" le long de l'entrée *I* afin d'obtenir une sortie *I*\\**K*.\n",
    "\n",
    "Un exemple de convolution 2D:\n",
    "\n",
    "![Alt Text](https://github.com/mila-iqia/ecole_dl_mila_ivado/blob/master/tutoriaux/CNN/images/numerical_no_padding_no_strides.gif?raw=true)\n",
    "\n",
    "\n",
    "### Filtres\n",
    "\n",
    "Les filtres (*kernel*) sont utilisés afin d'extraire l'information utile des entrées. Ils ont généralement une taille *n* \\* *n* avec *n* en général impair. La valeur des poids du filtre sont les paramètres qui seront appris par le réseau convolutif. \n",
    "\n",
    "Le filtre utilisé dans l'exemple de convolution précédent est:\n",
    "\n",
    "![Alt Text](https://github.com/mila-iqia/ecole_dl_mila_ivado/blob/master/tutoriaux/CNN/images/d7acc4aeb74d9e9cb5fb51482a302196594837fe.png?raw=true)\n",
    "\n",
    "### Profondeur\n",
    "\n",
    "On utilise en général un nombre *M* de filtres qui correspondra à la profondeur de la couche. La profondeur en soit est un hyperparamètre du réseau. Ici, chaque filtre (cercles bleu), contribue à une couche de profondeur de l'image en sortie.\n",
    "\n",
    "![Alt Text](https://github.com/mila-iqia/ecole_dl_mila_ivado/blob/master/tutoriaux/CNN/images/Conv_layer.png?raw=true)\n",
    "\n",
    "### Foulée\n",
    "\n",
    "La foulée, ou *stride*, correspond à la taille du pas (mesuré en pixels) effectué lors de l'opération de la convolution. On emploie généralement une foulée de 1 ou 2. Plus la foulée est élevée, plus la dimension en sortie sera réduite.\n",
    "\n",
    "### Marge à zéro\n",
    "\n",
    "La marge à zéro, ou *zero padding*, consiste à ajouter une bordure de zéros autour de l'entrée. Ceci peut être utile, par exemple, lorsqu'on souhaite préserver la dimension de l'entrée à la sortie.\n",
    "\n",
    "Voici un exemple de marge à zéro qui préserve la taille de l'entrée à la sortie. Ici, la marge à zéro=1, foulée=1, et le filtre est de taille 3x3.\n",
    "\n",
    "![Alt Text](https://github.com/mila-iqia/ecole_dl_mila_ivado/blob/master/tutoriaux/CNN/images/same_padding_no_strides.gif?raw=true)\n",
    "\n",
    "\n",
    "\n",
    "### Mise en commun maximale\n",
    "\n",
    "Il est commun de retrouver dans les réseaux convolutifs des couches de mise en commun(*pooling*). Le but de la mise en commun est de réduire la dimension des entrées entres couches de convolutions afin de réduire le nombre de paramètres nécessaires du réseau. Dans le cas de LeNet, nous nous servons d'une mise en commun maximale avec taille de filtre 2x2 et foulée de 2. Ceci consiste à prendre la valeur maximale d'une région 2x2 puis de s'en servir comme entrée à la prochaine couche.\n",
    "\n",
    "Voici un exemple de mise en commun maximale:\n",
    "\n",
    "![Alt Text](https://github.com/mila-iqia/ecole_dl_mila_ivado/blob/master/tutoriaux/CNN/images/maxpool.jpeg?raw=true)\n",
    "\n",
    "\n",
    "### Champ réceptif\n",
    "\n",
    "Le champ réceptif, ou *Receptive Field*, est une mesure de la capacité du réseau à percevoir les détails à différentes échelles de l'entrée.  Dans un MLP, toutes les entrées sont connectés (*fully connected*), donc le champ réceptif est la totalité de l'image. Dans le cas d'un réseau convolutif, plus il y a de filtres successifs, plus nous ajoutons au champ réceptif. Considérons le cas simple d'un filtre 3x3 avec stride=1. Dans ce cas, pour un réseau à une couche, notre champ réceptif est au maximum de 3x3. Cependant, plus nous ajoutons de couches, plus nous augmentons notre champ réceptif. En ajoutant une seconde couche 3x3 avec foulée de 1, notre champ réceptif augmente a 5x5. En ajoutant une 3ème couche 3x3, notre champ réceptif effectif est de 7x7. En utilisant 3 filtres 3x3 successifs, notre réseau necessite 3x3x3=27 paramètres, tandis qu'un seul filtre de taille 7x7 requiert 49 paramètres. Il est donc plus optimal d'utliser plusieurs filtres successifs qu'un seul gros filtre pour un champ réceptif équivalent. Également, en utilisant plusieurs filtres successifs, nous pouvons introduire plusieurs non-linéarités dans notre modèle.\n",
    "\n",
    "Ici, le filtre de taille 3x3 (bordures grises) avec foulée de 1 a un champ réceptif de 5x5 (région jaune)\n",
    "\n",
    "![Alt Text](https://github.com/mila-iqia/ecole_dl_mila_ivado/blob/master/tutoriaux/CNN/images/sNBmKMKAz-yJeCuS14usSqw.png?raw=true)\n",
    "\n",
    "\n",
    "### Calculs de dimensions\n",
    "\n",
    "De façon générale, pour une couche de convolution avec entrée de dimension du volume\n",
    "$W_1 * H_1 * D_1$ et avec les hyperparamètres\n",
    "\n",
    "* Nombre de filtres = $K$\n",
    "\n",
    "* Taille de filtre = $F$\n",
    "\n",
    "* Taille de foulée $S$\n",
    "\n",
    "* Taille de marge $P$\n",
    "\n",
    "Nous obtenons un volume en sortie de $W_2 * H_2 * D_2$ où \n",
    "\n",
    "* $W_2 = (W_1 - F + 2P) / S + 1$\n",
    "* $H_2 = (H1 - F + 2P) / S + 1$\n",
    "* $D_2 = K$\n",
    "\n",
    "avec un nombre de paramètres total de $(F⋅F⋅D_1)⋅K$ poids et $K$ biais.\n",
    "\n",
    "Pour une analyse plus détaillée, consultez [cet article](http://cs231n.github.io/convolutional-networks/)."
   ]
  },
  {
   "cell_type": "markdown",
   "metadata": {
    "colab_type": "text",
    "id": "owIcd9VguyAe"
   },
   "source": [
    "\n",
    "## LeNet\n",
    "LeNet est un réseau convolutif simple pour la classification. Il en existe plusieurs versions. Il est préférable d'utiliser un réseau convolutif pour de la classification d'images car ce type de réseau prend en compte la structure de l'image et à taille de réseau équivalent a un nombre de paramètres plus faible.\n",
    "\n",
    "Par exemple, si on prend l'exemple de LeNet 5 pour classifier les images de chiffres du jeu de données MNIST :\n",
    "\n",
    "![Alt Text](https://github.com/mila-iqia/ecole_dl_mila_ivado/blob/master/tutoriaux/CNN/images/lenet5.png?raw=true)\n",
    "\n",
    "\n",
    "La procédure d'apprentissage typique pour ce modèle est la même que pour le perceptron multi-couche et consiste à :\n",
    "<ul>\n",
    "<li>Définir l'architecture du réseau. Cela définira les paramètres (poids et biais) du réseau.</li>\n",
    "<li>Définir la fonction de coût et l'optimiseur.</li>\n",
    "<li>Entraîner le réseau.</li>\n",
    "<li>Tester le réseau.</li>\n",
    "</ul>\n",
    "\n",
    "\n",
    "## Définir l'architecture du réseau\n",
    "### Boîte à outils\n",
    "**Rappel :** Pour définir l'architecture du réseau en pytorch il faut créer une classe enfant de la classe parent <a href=\"http://pytorch.org/docs/master/nn.html#torch.nn.Module\">`torch.nn.Module`</a> où les méthodes suivantes sont à compléter :\n",
    "<ul>\n",
    "<li>La méthode `__init__` qui définit les couches. </li>\n",
    "<li>La méthode `forward(input)` qui retourne la sortie.</li>\n",
    "</ul>\n",
    "\n",
    "Pour construire les couches de l'`__init__` de LeNet 5, les classes suivantes peuvent être utilisées :\n",
    "<ul>\n",
    "<li><a href=\"http://pytorch.org/docs/master/nn.html#torch.nn.Conv2d\">`torch.nn.Conv2d(canaux_en_entrée, canaux_en_sortie, taille_du_filtre)`</a> qui applique une convolution 2D sur un signal d'entrée composé de plusieurs canaux d'entrée.</li>\n",
    "<li><a href=\"http://pytorch.org/docs/master/nn.html#torch.nn.MaxPool2d\">`torch.nn.MaxPool2d(taille_du_filtre)`</a> qui applique une mise en commun maximale 2D sur un signal d'entrée composé de plusieurs canaux d'entrée.</li>\n",
    "<li><a href=\"http://pytorch.org/docs/master/nn.html#torch.nn.Linear\">`torch.nn.Linear(canaux_en_entrée, canaux_en_sortie)`</a> qui applique une transformation linéaire aux données d'entrée : y = Ax + b.</li>\n",
    "<li><a href=\"http://pytorch.org/docs/master/nn.html#torch.nn.ReLU\">`torch.nn.Relu()`</a> qui applique la fonction Relu éléments par éléments : Relu(x) = max(0, x).</li>\n",
    "<li><a href=\"http://pytorch.org/docs/master/nn.html#torch.nn.Softmax\">`torch.nn.Softmax(dim)`</a> qui applique la fonction Sofmax à un tenseur d'entrée à n-dimensions en le normalisant de tel sorte que les éléments de tenseur de sortie à n-dimension soient dans l'intervalle [0, 1] et somment à 1.</li>\n",
    "<li><a href=\"http://pytorch.org/docs/master/nn.html#torch.nn.Sequential\">`torch.nn.sequential`</a>  qui est un conteneur séquentiel dans lequel les modules sont ajoutés dans l'ordre dans lequel ils sont passés au constructeur.</li>\n",
    "</ul>\n",
    "\n",
    "Dans `forward(input)` on applique aux données d'entrée les différentes couches définies dans `__init__` les unes après les autres.\n",
    "Il est aussi nécessaire de changer la forme des données juste avant l'appel à la couche linéaire, celle-ci n'acceptant que des données uni-dimensionelles. Il est possible d'utiliser <a href=\"https://pytorch.org/docs/stable/tensors.html#torch.Tensor.view\">`torch.Tensor.view(new_shape)`</a> pour cela.\n",
    "\n",
    "Enfin, `model.to(\"cuda:0\")` permet de passer le modèle sur GPU.\n",
    "\n",
    "### Implémentation"
   ]
  },
  {
   "cell_type": "code",
   "execution_count": 18,
   "metadata": {
    "colab": {},
    "colab_type": "code",
    "id": "sR4OQa-4gBAQ"
   },
   "outputs": [
    {
     "name": "stdout",
     "output_type": "stream",
     "text": [
      "LeNet5(\n",
      "  (block1): Sequential(\n",
      "    (0): Conv2d(1, 16, kernel_size=(5, 5), stride=(1, 1), padding=(2, 2))\n",
      "    (1): ReLU()\n",
      "    (2): MaxPool2d(kernel_size=2, stride=2, padding=0, dilation=1, ceil_mode=False)\n",
      "  )\n",
      "  (block2): Sequential(\n",
      "    (0): Conv2d(16, 32, kernel_size=(5, 5), stride=(1, 1), padding=(2, 2))\n",
      "    (1): ReLU()\n",
      "    (2): MaxPool2d(kernel_size=2, stride=2, padding=0, dilation=1, ceil_mode=False)\n",
      "  )\n",
      "  (fc): Linear(in_features=1568, out_features=10, bias=True)\n",
      ")\n",
      "\n",
      "\n",
      "# paramètres:  28938\n"
     ]
    }
   ],
   "source": [
    "class LeNet5(nn.Module):\n",
    "    def __init__(self):\n",
    "        super(LeNet5, self).__init__()\n",
    "        self.block1 = nn.Sequential(\n",
    "            nn.Conv2d(1, 16, kernel_size=5, padding=2),\n",
    "            nn.ReLU(),\n",
    "            nn.MaxPool2d(2))\n",
    "        \n",
    "        self.block2 = nn.Sequential(\n",
    "            nn.Conv2d(16, 32, kernel_size=5, padding=2),\n",
    "            nn.ReLU(),\n",
    "            nn.MaxPool2d(2))\n",
    "        \n",
    "        self.fc = nn.Linear(7*7*32, 10)\n",
    "        \n",
    "    def forward(self, x):\n",
    "        out = self.block1(x)\n",
    "\n",
    "        out = self.block2(out)\n",
    "        \n",
    "        # aplatir la sortie de block2\n",
    "        out = out.view(out.size(0), -1)\n",
    "        \n",
    "        out = self.fc(out)\n",
    "        \n",
    "        return out\n",
    "        \n",
    "model = LeNet5()\n",
    "model = model.to(device)\n",
    "\n",
    "print(model)\n",
    "print(\"\\n\\n# paramètres: \", sum([param.nelement() for param in model.parameters()]))"
   ]
  },
  {
   "cell_type": "markdown",
   "metadata": {
    "colab_type": "text",
    "id": "tRo03AR2PFPE"
   },
   "source": [
    " Ici, on observe 28 938 paramètres pour LeNet5 contre 648 010 paramètres pour le MLP à deux couches cachées. On a donc une réduction significative du nombre de paramètres entre LeNet5 et le MLP précédent. Le calcul du nombre de paramètres se résume ainsi:\n",
    " \n",
    "\n",
    "\n",
    "```\n",
    "1ère couche: 16 filtres de taille 5x5 + 16 biais = 16*5*5 + 16 = 416\n",
    "2ème couche: 16 * 32 filtres de taille 5x5 + 32 biais = 16*32*5*5 + 32 = 12 832\n",
    "Couche entièrement connectée: 7*7*32*10 + 10 biais = 15 690\n",
    " \n",
    "Total = 416 + 12 832 + 15 690 = 28 938\n",
    "```\n",
    "\n"
   ]
  },
  {
   "cell_type": "code",
   "execution_count": 19,
   "metadata": {
    "colab": {},
    "colab_type": "code",
    "id": "WuPJFPoDQYLq"
   },
   "outputs": [],
   "source": [
    "# Sauvegarder les poids initiaux du modèle\n",
    "init_model_wts = copy.deepcopy(model.state_dict())"
   ]
  },
  {
   "cell_type": "markdown",
   "metadata": {
    "colab_type": "text",
    "id": "y9H0ssbh3V1j"
   },
   "source": [
    "## Définir la fonction de coût et l'optimiseur\n",
    "### Boîte à outils\n",
    "**Rappel : ** un choix commun pour un problème de classification (notre cas) est d'utiliser les classes suivantes :\n",
    "<ul>\n",
    "<li>**Fonction de coût :** <a href=\"http://pytorch.org/docs/master/nn.html#torch.nn.CrossEntropyLoss\">`torch.nn.CrossEntropyLoss()`</a>. L'entropie croisée est souvent utilisée en optimisation. Elle permet de comparer une distribution $p$ avec une distibution de référence $t$. Elle est minimum lorsque $t=p$. Sa formule pour la calculer entre la prédiction et la cible est : $-\\sum_j t_{ij} \\log(p_{ij})$ où $p$ est la prédiction, $t$ la cible, $i$ les exemples et $j$ les classes de la cible.</li>\n",
    "<li>**Optimiseur :** <a href=\"http://pytorch.org/docs/master/optim.html#torch.optim.SGD\">`torch.optim.SGD(net.parameters(), lr=learning_rate)`</a> qui est une implémentation de SGD.</li>\n",
    "</ul>\n",
    "\n",
    "### Implémentation\n"
   ]
  },
  {
   "cell_type": "code",
   "execution_count": 20,
   "metadata": {
    "colab": {},
    "colab_type": "code",
    "id": "uE3Cfrd-hJ0e"
   },
   "outputs": [],
   "source": [
    "criterion = nn.CrossEntropyLoss()\n",
    "optimizer = torch.optim.SGD(model.parameters(), lr=learning_rate)"
   ]
  },
  {
   "cell_type": "markdown",
   "metadata": {
    "colab_type": "text",
    "id": "sYEtUb4s3rab"
   },
   "source": [
    "## Entraîner le réseau\n",
    "### Boîte à outils\n",
    "**Rappel :** en général, l'entraînement d'un réseau se fait en itérant sur plusieurs époques (une époque correspond à une passe sur l'intégralité du jeu de données d'entraînement). Sur une époque on va recevoir une série de lots fournis par l'itérateur. Pour chaque lot, on fait les opérations suivantes:\n",
    "<ul>\n",
    "<li>`optimizer.zero_grad()` : on efface les gradients encore stockés par le réseau issus de la passe précédente.</li>\n",
    "<li>`loss.backward()` : on calcule automatiquement la dérivée du coût et on propage l'erreur dans le graphe par rétro-propagation.</li>\n",
    "<li>`optimizer.step()` : on effectue une étape de descente de gradient. Dans le cas de SGD, c'est une descente de gradient classique avec les gradients calculés précédemment : `poids = poids - pas_d_apprentissage * gradient`.</li>\n",
    "</ul>\n",
    "\n",
    "### Implémentation\n",
    "Complétez les trous pour entraîner le réseau.\n",
    "\n",
    "Bonne chance !"
   ]
  },
  {
   "cell_type": "code",
   "execution_count": 21,
   "metadata": {
    "colab": {},
    "colab_type": "code",
    "id": "elxupovwhRSk"
   },
   "outputs": [
    {
     "name": "stdout",
     "output_type": "stream",
     "text": [
      "# Début de l'entraînement #\n",
      "\n",
      "Époque: 1/10\n",
      "\tPerte d'entraînement: 1.2142\n",
      "\tPerte de validation: 0.4011\n",
      "\n",
      "Époque: 2/10\n",
      "\tPerte d'entraînement: 0.3169\n",
      "\tPerte de validation: 0.2552\n",
      "\n",
      "Époque: 3/10\n",
      "\tPerte d'entraînement: 0.2295\n",
      "\tPerte de validation: 0.1936\n",
      "\n",
      "Époque: 4/10\n",
      "\tPerte d'entraînement: 0.1827\n",
      "\tPerte de validation: 0.1586\n",
      "\n",
      "Époque: 5/10\n",
      "\tPerte d'entraînement: 0.1527\n",
      "\tPerte de validation: 0.1362\n",
      "\n",
      "Époque: 6/10\n",
      "\tPerte d'entraînement: 0.1322\n",
      "\tPerte de validation: 0.1208\n",
      "\n",
      "Époque: 7/10\n",
      "\tPerte d'entraînement: 0.1174\n",
      "\tPerte de validation: 0.1097\n",
      "\n",
      "Époque: 8/10\n",
      "\tPerte d'entraînement: 0.1063\n",
      "\tPerte de validation: 0.1014\n",
      "\n",
      "Époque: 9/10\n",
      "\tPerte d'entraînement: 0.0977\n",
      "\tPerte de validation: 0.0950\n",
      "\n",
      "Époque: 10/10\n",
      "\tPerte d'entraînement: 0.0907\n",
      "\tPerte de validation: 0.0899\n",
      "\n",
      "\n",
      "Entraînement fini en 3m 59s\n"
     ]
    }
   ],
   "source": [
    "model.load_state_dict(init_model_wts)\n",
    "\n",
    "since = time.time()\n",
    "\n",
    "num_epochs = 10\n",
    "train_loss_history = []\n",
    "valid_loss_history = []\n",
    "\n",
    "print(\"# Début de l'entraînement #\")\n",
    "for epoch in range(num_epochs):\n",
    "    \n",
    "    train_loss = 0\n",
    "    train_n_iter = 0\n",
    "    \n",
    "    # activer le mode d'entraînement\n",
    "    model.train()\n",
    "    \n",
    "    # itération sur les données d'entraînement\n",
    "    for images, labels in train_loader:  \n",
    "\n",
    "        # transférer les données sur l'appareil choisi\n",
    "        images = images.to(device)\n",
    "        labels = labels.to(device)\n",
    "        \n",
    "        # réinitialiser les gradients à zéro\n",
    "        optimizer.zero_grad()  \n",
    "        \n",
    "        # propagation avant sur les images\n",
    "        outputs = model(images)\n",
    "        \n",
    "        loss = criterion(outputs, labels)\n",
    "        \n",
    "        # rétropropagation\n",
    "        loss.backward()\n",
    "        \n",
    "        # optimisation\n",
    "        optimizer.step()\n",
    "        \n",
    "        # Statistiques\n",
    "        train_loss += loss.item()\n",
    "        train_n_iter += 1\n",
    "    \n",
    "    valid_loss = 0\n",
    "    valid_n_iter = 0\n",
    "    \n",
    "    # activer le mode d'évaluation\n",
    "    model.eval()\n",
    "    \n",
    "    # itération sur les données de validation\n",
    "    for images, labels in valid_loader:  \n",
    "        \n",
    "        # transférer les données sur l'appareil choisi\n",
    "        images = images.to(device)\n",
    "        labels = labels.to(device)\n",
    "        \n",
    "        # propagation avant sur les images\n",
    "        outputs = model(images)\n",
    "        \n",
    "        loss = criterion(outputs, labels)\n",
    "        \n",
    "        # Statistiques\n",
    "        valid_loss += loss.item()\n",
    "        valid_n_iter += 1\n",
    "    \n",
    "    train_loss_history.append(train_loss / train_n_iter)\n",
    "    valid_loss_history.append(valid_loss / valid_n_iter)\n",
    "    \n",
    "    print('\\nÉpoque: {}/{}'.format(epoch + 1, num_epochs))\n",
    "    print(\"\\tPerte d'entraînement: {:.4f}\".format(train_loss / train_n_iter))\n",
    "    print(\"\\tPerte de validation: {:.4f}\".format(valid_loss / valid_n_iter))\n",
    "\n",
    "time_elapsed = time.time() - since\n",
    "\n",
    "print('\\n\\nEntraînement fini en {:.0f}m {:.0f}s'.format(\n",
    "    time_elapsed // 60, time_elapsed % 60))"
   ]
  },
  {
   "cell_type": "markdown",
   "metadata": {
    "colab_type": "text",
    "id": "3fozzXmdRGTs"
   },
   "source": [
    "Visualisons les courbes d'entraînement !"
   ]
  },
  {
   "cell_type": "code",
   "execution_count": 22,
   "metadata": {
    "colab": {},
    "colab_type": "code",
    "id": "TUGbFeg5RHFZ"
   },
   "outputs": [
    {
     "data": {
      "image/png": "[encoded data removed]",
      "text/plain": [
       "<Figure size 432x288 with 1 Axes>"
      ]
     },
     "metadata": {
      "needs_background": "light"
     },
     "output_type": "display_data"
    }
   ],
   "source": [
    "# Conserver l'historique pour plus tard\n",
    "lenet5_train_loss_history = train_loss_history\n",
    "lenet5_valid_loss_history = valid_loss_history\n",
    "\n",
    "# Tracer les courbes d'entraînement et de validation\n",
    "x = range(1, num_epochs + 1)\n",
    "plt.plot(x, lenet5_train_loss_history, label='entraînement')\n",
    "plt.plot(x, lenet5_valid_loss_history, label='validation')\n",
    "\n",
    "plt.xlabel('# époques')\n",
    "plt.ylabel('Perte')\n",
    "plt.legend()\n",
    "\n",
    "plt.show()"
   ]
  },
  {
   "cell_type": "markdown",
   "metadata": {
    "colab_type": "text",
    "id": "H6kWtULrSDXL"
   },
   "source": [
    "On peut superposer les courbes d'entraînement et de validation de LeNet5 et du MLP :"
   ]
  },
  {
   "cell_type": "code",
   "execution_count": 23,
   "metadata": {
    "colab": {},
    "colab_type": "code",
    "id": "rE1qsmvaSTjH"
   },
   "outputs": [
    {
     "data": {
      "image/png": "[encoded data removed]",
      "text/plain": [
       "<Figure size 432x288 with 1 Axes>"
      ]
     },
     "metadata": {
      "needs_background": "light"
     },
     "output_type": "display_data"
    }
   ],
   "source": [
    "# Plot training and validation curve\n",
    "x = range(1, num_epochs + 1)\n",
    "plt.plot(x, mlp_train_loss_history, label='entraînement MLP')\n",
    "plt.plot(x, mlp_valid_loss_history, label='validation MLP')\n",
    "plt.plot(x, lenet5_train_loss_history, label='entraînement LeNet5')\n",
    "plt.plot(x, lenet5_valid_loss_history, label='validation LeNet5')\n",
    "\n",
    "plt.xlabel('# époques')\n",
    "plt.ylabel('Perte')\n",
    "plt.legend()\n",
    "\n",
    "plt.show()"
   ]
  },
  {
   "cell_type": "markdown",
   "metadata": {
    "colab_type": "text",
    "id": "Tq79RTld3xyc"
   },
   "source": [
    "## Tester le réseau\n",
    "### Boîte à outils\n",
    "**Rappel :** on évalue ensuite le réseau sur l'ensemble du jeu de données d'évaluation.\n",
    "### Implémentation"
   ]
  },
  {
   "cell_type": "code",
   "execution_count": 25,
   "metadata": {
    "colab": {},
    "colab_type": "code",
    "id": "da47-MilhpN7"
   },
   "outputs": [
    {
     "name": "stdout",
     "output_type": "stream",
     "text": [
      "Exactitude sur l'ensemble d'évaluation: 97.00%\n"
     ]
    }
   ],
   "source": [
    "# Activer le mode d'évaluation\n",
    "model.eval()\n",
    "\n",
    "correct = 0\n",
    "total = 0\n",
    "\n",
    "# itération sur les données d'évaluation\n",
    "for images, labels in test_loader:\n",
    "    \n",
    "    # transférer les données sur l'appareil choisi\n",
    "    images = images.to(device)\n",
    "    labels = labels.to(device)\n",
    "    \n",
    "    # Pas besoin d'aplatir les images ici !\n",
    "    \n",
    "\n",
    "    # propagation avant sur les images\n",
    "    outputs = model(images)\n",
    "    _, predicted = torch.max(outputs.data, 1)\n",
    "    \n",
    "    # Statistiques\n",
    "    total += labels.size(0)\n",
    "    correct += torch.sum(predicted == labels.data)\n",
    "\n",
    "print(\"Exactitude sur l'ensemble d'évaluation: {:.2f}%\".format(100 * correct // total))"
   ]
  },
  {
   "cell_type": "markdown",
   "metadata": {
    "colab_type": "text",
    "id": "voN-_iO_RQ8A"
   },
   "source": [
    "On obtient de meilleurs résultats après 10 époques !\n",
    "\n",
    "---\n",
    "\n"
   ]
  },
  {
   "cell_type": "markdown",
   "metadata": {
    "colab_type": "text",
    "id": "OFj_W39u5voa"
   },
   "source": [
    "## Méthodes pratiques pour améliorer l'entraînement"
   ]
  },
  {
   "cell_type": "markdown",
   "metadata": {
    "colab_type": "text",
    "id": "chov57bzu76J"
   },
   "source": [
    "### Normalisation par lots (Batch Normalization)\n",
    "La normalisation par lots est une astuce qui permet, en pratique, au modèle d'apprendre plus vite. Elle agit comme régularisateur en normalisant les entrées par batch, de manière différentiable. Les données en sorties de cette couche auront une moyenne proche de 0 et une variance proche de 1.\n",
    "\n",
    "![Alt Text](https://github.com/mila-iqia/ecole_dl_mila_ivado/blob/master/tutoriaux/CNN/images/1_Hiq-rLFGDpESpr8QNsJ1jg.png?raw=true)\n",
    "\n",
    "\n",
    "Pour plus d'informations sur la *normalisation par lots*, consultez cet [article](https://arxiv.org/pdf/1502.03167v3.pdf).\n",
    "\n",
    "### Boîte à outils\n",
    "Pour ajouter la normalisation par lots dans LeNet5, il suffit de l'ajouter parmis les couches de l'`__init__` et de l'appeler après chaque couche de convolution. La classe suivante peut être utilisée:\n",
    "<ul>\n",
    "<li><a href=\"http://pytorch.org/docs/master/nn.html#torch.nn.BatchNorm2d\">`nn.BatchNorm2d(num_features)`</a> : permet d'ajouter de la normalisation par lots à une entrée à 4 dimensions présentée sous la forme d'un tenseur à 3 dimensions.</li>\n",
    "</ul>\n",
    "\n",
    "### Implémentation\n"
   ]
  },
  {
   "cell_type": "code",
   "execution_count": 26,
   "metadata": {
    "colab": {},
    "colab_type": "code",
    "id": "6pi_mhvg8E4E"
   },
   "outputs": [
    {
     "name": "stdout",
     "output_type": "stream",
     "text": [
      "LeNet5(\n",
      "  (block1): Sequential(\n",
      "    (0): Conv2d(1, 16, kernel_size=(5, 5), stride=(1, 1), padding=(2, 2))\n",
      "    (1): BatchNorm2d(16, eps=1e-05, momentum=0.1, affine=True, track_running_stats=True)\n",
      "    (2): ReLU()\n",
      "    (3): MaxPool2d(kernel_size=2, stride=2, padding=0, dilation=1, ceil_mode=False)\n",
      "  )\n",
      "  (block2): Sequential(\n",
      "    (0): Conv2d(16, 32, kernel_size=(5, 5), stride=(1, 1), padding=(2, 2))\n",
      "    (1): BatchNorm2d(32, eps=1e-05, momentum=0.1, affine=True, track_running_stats=True)\n",
      "    (2): ReLU()\n",
      "    (3): MaxPool2d(kernel_size=2, stride=2, padding=0, dilation=1, ceil_mode=False)\n",
      "  )\n",
      "  (fc): Linear(in_features=1568, out_features=10, bias=True)\n",
      ")\n",
      "\n",
      "\n",
      "# paramètres:  29034\n"
     ]
    }
   ],
   "source": [
    "class LeNet5(nn.Module):\n",
    "    def __init__(self):\n",
    "        super(LeNet5, self).__init__()\n",
    "        self.block1 = nn.Sequential(\n",
    "            nn.Conv2d(1, 16, kernel_size=5, padding=2),\n",
    "            nn.BatchNorm2d(16),\n",
    "            nn.ReLU(),\n",
    "            nn.MaxPool2d(2))\n",
    "        \n",
    "        self.block2 = nn.Sequential(\n",
    "            nn.Conv2d(16, 32, kernel_size=5, padding=2),\n",
    "            nn.BatchNorm2d(32),\n",
    "            nn.ReLU(),\n",
    "            nn.MaxPool2d(2))\n",
    "        \n",
    "        self.fc = nn.Linear(7*7*32, 10)\n",
    "        \n",
    "    def forward(self, x):\n",
    "        out = self.block1(x)\n",
    "\n",
    "        out = self.block2(out)\n",
    "        \n",
    "        # Aplatir la sortie du bloc2\n",
    "        out = out.view(out.size(0), -1)\n",
    "        \n",
    "        out = self.fc(out)\n",
    "        \n",
    "        return out\n",
    "        \n",
    "model = LeNet5()\n",
    "model = model.to(device)\n",
    "  \n",
    "print(model)\n",
    "\n",
    "print(\"\\n\\n# paramètres: \", sum([param.nelement() for param in model.parameters()]))"
   ]
  },
  {
   "cell_type": "markdown",
   "metadata": {
    "colab_type": "text",
    "id": "271HrQBNccH1"
   },
   "source": [
    "Ici, on observe 29 034 paramètres pour LeNet5 avec normalisation par lots contre 28 938 paramètres pour LeNet5 sans normalisation par lots."
   ]
  },
  {
   "cell_type": "code",
   "execution_count": 27,
   "metadata": {
    "colab": {},
    "colab_type": "code",
    "id": "vnbesUOudO_s"
   },
   "outputs": [],
   "source": [
    "# Sauvegarder les poids initiaux du modèle\n",
    "init_model_wts = copy.deepcopy(model.state_dict())"
   ]
  },
  {
   "cell_type": "markdown",
   "metadata": {
    "colab_type": "text",
    "id": "rj4R3qV5ABFC"
   },
   "source": [
    "**L'implémentation de la fonction de coût, l'optimiseur, les boucles d'entraînement et de test du réseau reste inchangé !**"
   ]
  },
  {
   "cell_type": "code",
   "execution_count": 29,
   "metadata": {
    "colab": {},
    "colab_type": "code",
    "id": "JgEcoSRQAVtA"
   },
   "outputs": [
    {
     "name": "stdout",
     "output_type": "stream",
     "text": [
      "# Début de l'entraînement #\n",
      "\n",
      "Époque: 1/10\n",
      "\tPerte d'entraînement: 0.3032\n",
      "\tPerte de validation: 0.1341\n",
      "\n",
      "Époque: 2/10\n",
      "\tPerte d'entraînement: 0.1073\n",
      "\tPerte de validation: 0.0937\n",
      "\n",
      "Époque: 3/10\n",
      "\tPerte d'entraînement: 0.0784\n",
      "\tPerte de validation: 0.0777\n",
      "\n",
      "Époque: 4/10\n",
      "\tPerte d'entraînement: 0.0643\n",
      "\tPerte de validation: 0.0690\n",
      "\n",
      "Époque: 5/10\n",
      "\tPerte d'entraînement: 0.0556\n",
      "\tPerte de validation: 0.0632\n",
      "\n",
      "Époque: 6/10\n",
      "\tPerte d'entraînement: 0.0495\n",
      "\tPerte de validation: 0.0592\n",
      "\n",
      "Époque: 7/10\n",
      "\tPerte d'entraînement: 0.0449\n",
      "\tPerte de validation: 0.0563\n",
      "\n",
      "Époque: 8/10\n",
      "\tPerte d'entraînement: 0.0413\n",
      "\tPerte de validation: 0.0540\n",
      "\n",
      "Époque: 9/10\n",
      "\tPerte d'entraînement: 0.0383\n",
      "\tPerte de validation: 0.0519\n",
      "\n",
      "Époque: 10/10\n",
      "\tPerte d'entraînement: 0.0357\n",
      "\tPerte de validation: 0.0503\n",
      "\n",
      "\n",
      "Entraînement fini en 5m 17s\n",
      "\n",
      "\n",
      "Exactitude sur l'ensemble d'entraînement: 98.00%\n"
     ]
    }
   ],
   "source": [
    "criterion = nn.CrossEntropyLoss()\n",
    "\n",
    "optimizer = torch.optim.SGD(model.parameters(), lr=learning_rate)\n",
    "\n",
    "model.load_state_dict(init_model_wts)\n",
    "\n",
    "since = time.time()\n",
    "\n",
    "num_epochs = 10\n",
    "train_loss_history = []\n",
    "valid_loss_history = []\n",
    "\n",
    "print(\"# Début de l'entraînement #\")\n",
    "for epoch in range(num_epochs):\n",
    "    \n",
    "    train_loss = 0\n",
    "    train_n_iter = 0\n",
    "    \n",
    "    # activer le mode d'entraînement\n",
    "    model.train()\n",
    "    \n",
    "    # itération sur les données d'entraînement\n",
    "    for images, labels in train_loader:  \n",
    "        \n",
    "        # transférer les données sur l'appareil choisi\n",
    "        images = images.to(device)\n",
    "        labels = labels.to(device)\n",
    "\n",
    "        # réinitialiser les gradients à zéro\n",
    "        optimizer.zero_grad()  \n",
    "        \n",
    "        # propagation avant sur les images\n",
    "        outputs = model(images)\n",
    "        \n",
    "        loss = criterion(outputs, labels)\n",
    "        \n",
    "        # rétropropagation\n",
    "        loss.backward()\n",
    "        \n",
    "        # optimisation\n",
    "        optimizer.step()\n",
    "        \n",
    "        # Statistiques\n",
    "        train_loss += loss.item()\n",
    "        train_n_iter += 1\n",
    "    \n",
    "    valid_loss = 0\n",
    "    valid_n_iter = 0\n",
    "    \n",
    "    # activer le mode d'évaluation\n",
    "    model.eval()\n",
    "    \n",
    "    # itération sur les données de validation\n",
    "    for images, labels in valid_loader:  \n",
    "        \n",
    "        # transférer les données sur l'appareil choisi\n",
    "        images = images.to(device)\n",
    "        labels = labels.to(device)\n",
    "        \n",
    "        # propagation avant sur les images\n",
    "        outputs = model(images)\n",
    "        \n",
    "        loss = criterion(outputs, labels)\n",
    "        \n",
    "        # Statistiques\n",
    "        valid_loss += loss.item()\n",
    "        valid_n_iter += 1\n",
    "    \n",
    "    train_loss_history.append(train_loss/train_n_iter)\n",
    "    valid_loss_history.append(valid_loss/valid_n_iter)\n",
    "        \n",
    "    print('\\nÉpoque: {}/{}'.format(epoch + 1, num_epochs))\n",
    "    print(\"\\tPerte d'entraînement: {:.4f}\".format(train_loss / train_n_iter))\n",
    "    print(\"\\tPerte de validation: {:.4f}\".format(valid_loss / valid_n_iter))\n",
    "\n",
    "time_elapsed = time.time() - since\n",
    "\n",
    "print('\\n\\nEntraînement fini en {:.0f}m {:.0f}s'.format(\n",
    "    time_elapsed // 60, time_elapsed % 60))\n",
    "\n",
    "# activer le mode d'évaluation\n",
    "model.eval()\n",
    "\n",
    "correct = 0\n",
    "total = 0\n",
    "\n",
    "# itération sur les données\n",
    "for images, labels in test_loader:\n",
    "  \n",
    "\n",
    "    # transférer les données sur l'appareil choisi\n",
    "    images = images.to(device)\n",
    "    labels = labels.to(device)\n",
    "    \n",
    "    # Pas besoin d'aplatir les images ici !\n",
    "   \n",
    "    \n",
    "    # propagation avant\n",
    "    outputs = model(images)\n",
    "    _, predicted = torch.max(outputs.data, 1)\n",
    "    \n",
    "    # Statistiques\n",
    "    total += labels.size(0)\n",
    "    correct += torch.sum(predicted == labels.data)\n",
    "\n",
    "print(\"\\n\\nExactitude sur l'ensemble d'entraînement: {:.2f}%\".format(100 * correct // total))"
   ]
  },
  {
   "cell_type": "markdown",
   "metadata": {
    "colab_type": "text",
    "id": "6pxvS_yUeWog"
   },
   "source": [
    "On obtient d'encore meilleurs résultats après 10 époques !\n",
    "\n",
    "Regardons les coubres d'entraînement et de validation :"
   ]
  },
  {
   "cell_type": "code",
   "execution_count": 30,
   "metadata": {
    "colab": {},
    "colab_type": "code",
    "id": "hrv-o7Cle0ty"
   },
   "outputs": [
    {
     "data": {
      "image/png": "[encoded data removed]",
      "text/plain": [
       "<Figure size 432x288 with 1 Axes>"
      ]
     },
     "metadata": {
      "needs_background": "light"
     },
     "output_type": "display_data"
    }
   ],
   "source": [
    "# Conserver l'historique pour plus tard\n",
    "lenet5_batchnorm_train_loss_history = train_loss_history\n",
    "lenet5_batchnorm_valid_loss_history = valid_loss_history\n",
    "\n",
    "# Tracer les courbes d'entraînement et de validation\n",
    "x = range(1, num_epochs + 1)\n",
    "plt.plot(x, lenet5_train_loss_history, label='entraînement LeNet5')\n",
    "plt.plot(x, lenet5_valid_loss_history, label='validation LeNet5')\n",
    "plt.plot(x, lenet5_batchnorm_train_loss_history, label='entraînement LeNet5 batch norm')\n",
    "plt.plot(x, lenet5_batchnorm_valid_loss_history, label='validation LeNet5 batch norm')\n",
    "\n",
    "plt.xlabel('# époques')\n",
    "plt.ylabel('Perte')\n",
    "plt.legend()\n",
    "\n",
    "plt.show()"
   ]
  },
  {
   "cell_type": "markdown",
   "metadata": {
    "colab_type": "text",
    "id": "CHqHLCP6Crmp"
   },
   "source": [
    "# Apprentissage par transfert : réglage fin d'un réseau convolutif\n",
    "**Attribution :** cette partie reprend en partie le tutoriel : http://pytorch.org/tutorials/beginner/transfer_learning_tutorial.html\n",
    "\n",
    "En pratique, il est peu commun d'entraîner un réseau convolutif à partir de rien (c'est-à-dire avec une initialisation aléatoire des poids). En effet, souvent, le jeu de données d'intérêt est trop petit. A la place, il est commun de pré-entraîner le réseau sur un jeu de données plus gros comme, par exemple, un sous-ensemble d'ImageNet (1.2 millions d'images avec 1000 catégories). Ce réseau pré-entraîné est ensuite utilisé comme initialisation des poids du réseau qui sera entraîné sur le jeu de données d'intérêt. On parle de réglage fin du réseau convolutif. A noter que le réseau pré-entraîné peut aussi être utilisé pour extraire de nouvelles variables du jeu de données d'intérêt. On parle d'apprentissage par transfert.\n",
    "\n",
    "Nous allons maintenant étudier plus en détail le scénario du réglage fin pour l'apprentissage par transfert."
   ]
  },
  {
   "cell_type": "markdown",
   "metadata": {
    "colab_type": "text",
    "id": "itOkLFisvKqI"
   },
   "source": [
    "## Télécharger les données et créer le chargeur de données\n",
    "Le jeu de données que nous allons étudier est un sous-ensemble d'ImageNet qui contient environ $120 \\times 2$ images d'entraînement et $75 \\times 2$ images d'évaluation de fourmis et d'abeilles. Le but est de classifier ces deux classes. Ci-dessous, un exemples d'images de ce jeu de données :\n",
    "\n",
    "\n",
    "![Alt Text](https://github.com/mila-iqia/ecole_dl_mila_ivado/blob/master/tutoriaux/CNN/images/fourmi_abeille.png?raw=true)\n",
    "\n",
    "### Boîte à outils\n",
    "**Rappel :** une façon simple de charger les données dans PyTorch est : \n",
    "<ul>\n",
    "<li>D'utiliser une classe enfant de la classe parent <a href=\"http://pytorch.org/docs/master/data.html#torch.utils.data.Dataset\">`torch.utils.data.Dataset`</a> où les méthodes `__getitem__` et `__len__` sont à compléter. Notez qu' à ce stade, les données ne sont pas chargées en mémoire.</li>\n",
    "<li>D'utiliser la classe <a href=\"http://pytorch.org/docs/master/data.html#torch.utils.data.DataLoader\">`torch.utils.data.DataLoader`</a> pour lire et mettre en mémoire les données.</li>\n",
    "</ul>\n",
    "\n",
    "**Remarque :** <a href=\"http://pytorch.org/docs/master/torchvision/datasets.html#torchvision-datasets\">`torchvision.datasets`</a> peut aussi être utilisé pour charger des données à partir d'un dossier.\n",
    "\n",
    "**Augmentation des données :** pour augmenter les données, <a href=\"http://pytorch.org/docs/master/torchvision/transforms.html#torchvision-transforms\">`torchvision.transforms`</a> fournit les transformations d'images courantes. Ces transformations peuvent être appliquées successivement en utilisant la classe <a href=\"http://pytorch.org/docs/master/torchvision/transforms.html#torchvision.transforms.Compose\">`torchvision.transforms.Compose`</a>.\n",
    "\n",
    "### Implémentation"
   ]
  },
  {
   "cell_type": "code",
   "execution_count": 31,
   "metadata": {
    "colab": {},
    "colab_type": "code",
    "id": "_LW-1CauxEQM"
   },
   "outputs": [],
   "source": [
    "%%bash\n",
    "## télécharger l'ensemble de données ##\n",
    "if [ ! -d \"hymenoptera_data\" ]; then\n",
    "  wget --quiet https://download.pytorch.org/tutorial/hymenoptera_data.zip\n",
    "  unzip -q hymenoptera_data.zip\n",
    "  rm hymenoptera_data.zip\n",
    "fi"
   ]
  },
  {
   "cell_type": "code",
   "execution_count": 32,
   "metadata": {
    "colab": {},
    "colab_type": "code",
    "id": "OMvya9Oxps5z"
   },
   "outputs": [],
   "source": [
    "import os\n",
    "from PIL import Image\n",
    "from torchvision import datasets\n",
    "\n",
    "\n",
    "def make_dataset(root, split_type):\n",
    "    \"\"\"\n",
    "    Paramètres\n",
    "    ----------\n",
    "    root_dir : string\n",
    "    Répertoire avec toutes les images.\n",
    "    split_type : chaîne de caractères\n",
    "    Le nom de la partition dans {\"train\", \"valid\"}.\n",
    "\n",
    "    Retourne\n",
    "    -------\n",
    "    images : dict\n",
    "    Dictionnaire d'images pour chaque classe pour \n",
    "        un type de partition spécifique.    \n",
    "    \"\"\"\n",
    "\n",
    "    images = {}\n",
    "    root = os.path.join(root, split_type)\n",
    "\n",
    "    for classes in sorted(os.listdir(root)):\n",
    "        images[classes] = []\n",
    "    path_classes = os.path.join(root, classes)\n",
    "\n",
    "    for root_, _, fnames in sorted(os.walk(path_classes)):\n",
    "        for fname in sorted(fnames):\n",
    "            if fname.endswith('.jpg'):\n",
    "                item = os.path.join(root_, fname)\n",
    "                images[classes].append(item)\n",
    "\n",
    "    return images\n",
    "\n",
    "\n",
    "class HymenopteraDataset(torch.utils.data.Dataset):\n",
    "    \"\"\"Ensemble de données Hymenoptera.\"\"\"\n",
    "\n",
    "    def __init__(self, root_dir, split_type='train', transform=None):\n",
    "        \"\"\"\n",
    "        Paramètres\n",
    "        ----------\n",
    "        root_dir : string\n",
    "           Répertoire avec toutes les images.\n",
    "        split_type : chaîne de caractères\n",
    "           Le nom de la partition dans {'train', 'valid', 'test', 'train_valid'}.\n",
    "        transform : appelable, facultatif\n",
    "           Transformation optionnelle à appliquer sur un échantillon.\n",
    "        \"\"\"\n",
    "        self.root_dir = root_dir\n",
    "        self.split_type = split_type\n",
    "        self.transform = transform\n",
    "        self.classes = {'ants': 0, 'bees': 1}\n",
    "\n",
    "        imgs_ = []\n",
    "        target_ = []\n",
    "\n",
    "        if split_type == 'train':\n",
    "            imgs = make_dataset(root_dir, 'train')\n",
    "            for k, v in imgs.items():\n",
    "                imgs_ += imgs[k][:int(0.8*len(v))]\n",
    "                target_ += [self.classes[k]] * len(imgs_)\n",
    "\n",
    "        elif split_type == 'valid':\n",
    "            imgs = make_dataset(root_dir, 'train')\n",
    "            for k, v in imgs.items():\n",
    "                imgs_ += imgs[k][int(0.8*len(v)):]\n",
    "                target_ += [self.classes[k]] * len(imgs_)\n",
    "\n",
    "        elif split_type == 'train_valid':\n",
    "            imgs = make_dataset(root_dir, 'train')\n",
    "            for k, v in imgs.items():\n",
    "                imgs_ += imgs[k]\n",
    "                target_ += [self.classes[k]] * len(imgs_)\n",
    "\n",
    "        elif split_type == 'test':\n",
    "            imgs = make_dataset(root_dir, 'val')\n",
    "            for k, v in imgs.items():\n",
    "                imgs_ += imgs[k]\n",
    "                target_ += [self.classes[k]] * len(imgs_)\n",
    "\n",
    "        self.imgs = imgs_\n",
    "        self.target = np.array(target_)\n",
    "\n",
    "    def __len__(self):\n",
    "        \"\"\"\n",
    "        Obtenez le nombre d'images dans l'ensemble de données.\n",
    "\n",
    "        Retourne\n",
    "        -------\n",
    "        int\n",
    "           Le nombre d'images dans l'ensemble de données.\n",
    "        \"\"\"\n",
    "        return len(self.imgs)\n",
    "\n",
    "    def __getitem__(self, index):\n",
    "        \"\"\"\n",
    "        Obtenir les éléments : image, target\n",
    "\n",
    "        Paramètres\n",
    "        ----------\n",
    "        index : int\n",
    "           Index\n",
    "\n",
    "        Retourne\n",
    "        -------\n",
    "        img : tenseur\n",
    "           L'image.\n",
    "        target : int\n",
    "           La cible est l'indice de classe de la classe cible.\n",
    "        \"\"\"\n",
    "        path = self.imgs[index]\n",
    "        target = self.target[index]\n",
    "\n",
    "        with open(path, 'rb') as f:\n",
    "            with Image.open(f) as img:\n",
    "                img.convert('RGB')\n",
    "\n",
    "                if self.transform:\n",
    "                    img = self.transform(img)\n",
    "\n",
    "        return img, target\n"
   ]
  },
  {
   "cell_type": "markdown",
   "metadata": {
    "colab_type": "text",
    "id": "c9BHo5WsOghr"
   },
   "source": [
    "## Augmentation des données \n",
    "Une astuce souvent utilisée pour éviter l'overfit et augmenter la taille apparente du jeu de données d'entrainement est l'augmentation de données. Il s'agit de différents types de transformations aux entrées afin de déformer légèrement les images. Par exemple, les images peuvent être agrandies, élargies, tournées sur elle mêmes, miroitées, etc. Voici un exemple de différentes augmentations:\n",
    "\n",
    "![Alt Text](https://github.com/mila-iqia/ecole_dl_mila_ivado/blob/master/tutoriaux/CNN/images/1_Jujct_Pt-zvdWtSFpHUp3Q.png?raw=true)\n",
    "\n",
    "\n",
    "Pour augmenter les données, <a href=\"http://pytorch.org/docs/master/torchvision/transforms.html#torchvision-transforms\">`torchvision.transforms`</a> fournit les transformations d'images courantes. Ces transformations peuvent être appliquées successivement en utilisant la classe <a href=\"http://pytorch.org/docs/master/torchvision/transforms.html#torchvision.transforms.Compose\">`torchvision.transforms.Compose`</a>.\n",
    "\n",
    "Ajoutez les transformations suivantes pour l'ensemble d'entraînement:\n",
    "* Un recadrage (*crop*) aléatoire qui redimensionne l'image à une taille 224x224\n",
    "* Une probabilité aléatoire de prendre une copie miroitée de l'image\n",
    "* Une normalisation avec les valeurs suivantes pour les moyennes et écarts types: [0.485, 0.456, 0.406], [0.229, 0.224, 0.225]\n",
    "\n",
    "Pour l'ensemble de validation, redimensionnez l'image à 256x256, prenez un crop à partir du centre de l'image et normalisez l'image avec les mêmes valeurs que pour l'ensemble d'entraînement.\n"
   ]
  },
  {
   "cell_type": "code",
   "execution_count": 33,
   "metadata": {
    "colab": {},
    "colab_type": "code",
    "id": "v94wZLuOp4m3"
   },
   "outputs": [],
   "source": [
    "# Augmentation et normalisation des données pour l'entraînement\n",
    "# Juste la normalisation pour la validation\n",
    "data_transforms = {\n",
    "    'train': transforms.Compose([\n",
    "        transforms.RandomResizedCrop(224),\n",
    "        transforms.RandomHorizontalFlip(),\n",
    "        transforms.ToTensor(),\n",
    "        transforms.Normalize([0.485, 0.456, 0.406], [0.229, 0.224, 0.225])\n",
    "    ]),\n",
    "    'valid': transforms.Compose([\n",
    "        transforms.Resize(256),\n",
    "        transforms.CenterCrop(224),\n",
    "        transforms.ToTensor(),\n",
    "        transforms.Normalize([0.485, 0.456, 0.406], [0.229, 0.224, 0.225])\n",
    "    ]),\n",
    "}"
   ]
  },
  {
   "cell_type": "code",
   "execution_count": 34,
   "metadata": {
    "colab": {},
    "colab_type": "code",
    "id": "8i9eB9I_p5sJ"
   },
   "outputs": [
    {
     "name": "stdout",
     "output_type": "stream",
     "text": [
      "# images dans l'ensemble d'entraînement: 96\n",
      "# images dans l'ensemble de validation: 25\n",
      "# images dans l'ensemble d'évaluation: 83\n"
     ]
    }
   ],
   "source": [
    "# chargeur de l'ensemble de données\n",
    "data_dir = 'hymenoptera_data'\n",
    "\n",
    "data_train = HymenopteraDataset(data_dir, 'train', data_transforms['train'])\n",
    "train_loader = DataLoader(data_train, batch_size=4, shuffle=True, num_workers=4)\n",
    "\n",
    "data_valid = HymenopteraDataset(data_dir, 'valid', data_transforms['valid'])\n",
    "valid_loader = DataLoader(data_valid, batch_size=4, shuffle=False, num_workers=4)\n",
    "\n",
    "data_test = HymenopteraDataset(data_dir, 'test', data_transforms['valid'])\n",
    "test_loader = DataLoader(data_test, batch_size=4, shuffle=False, num_workers=4)\n",
    "\n",
    "print(\"# images dans l'ensemble d'entraînement: {}\".format(len(data_train)))\n",
    "print(\"# images dans l'ensemble de validation: {}\".format(len(data_valid)))\n",
    "print(\"# images dans l'ensemble d'évaluation: {}\".format(len(data_test)))"
   ]
  },
  {
   "cell_type": "markdown",
   "metadata": {
    "colab_type": "text",
    "id": "Pl1X1vt5AVaf"
   },
   "source": [
    "Visualisons les données d'entraînement !"
   ]
  },
  {
   "cell_type": "code",
   "execution_count": 35,
   "metadata": {
    "colab": {},
    "colab_type": "code",
    "id": "f4kbOO5XAUO5"
   },
   "outputs": [
    {
     "name": "stdout",
     "output_type": "stream",
     "text": [
      "Classes: {'ants': 0, 'bees': 1}\n",
      "Taille des entrées: torch.Size([4, 3, 224, 224])\n",
      "Taille des classes: torch.Size([4])\n"
     ]
    },
    {
     "data": {
      "image/png": "[encoded data removed]",
      "text/plain": [
       "<Figure size 432x288 with 1 Axes>"
      ]
     },
     "metadata": {
      "needs_background": "light"
     },
     "output_type": "display_data"
    }
   ],
   "source": [
    "inputs, classes = next(iter(train_loader))\n",
    "\n",
    "print('Classes: {}'.format(data_train.classes))\n",
    "print('Taille des entrées: {}'.format(inputs.size()))\n",
    "print('Taille des classes: {}'.format(classes.size()))\n",
    "\n",
    "# Image aléatoire du lot\n",
    "idx = np.random.randint(len(inputs))\n",
    "img = inputs[idx]\n",
    "labels = list(data_train.classes.keys())\n",
    "img_label = labels[(classes[idx])]\n",
    "\n",
    "img = img.numpy().transpose((1, 2, 0))\n",
    "mean = np.array([0.485, 0.456, 0.406])\n",
    "std = np.array([0.229, 0.224, 0.225])\n",
    "img = std * img + mean\n",
    "img = np.clip(img, 0, 1)\n",
    "plt.imshow(img)\n",
    "plt.title(img_label)\n",
    "plt.grid(False)\n",
    "plt.show()"
   ]
  },
  {
   "cell_type": "code",
   "execution_count": 36,
   "metadata": {
    "colab": {},
    "colab_type": "code",
    "id": "qh3bKAO7Lf14"
   },
   "outputs": [
    {
     "data": {
      "image/png": "[encoded data removed]",
      "text/plain": [
       "<Figure size 432x288 with 1 Axes>"
      ]
     },
     "metadata": {
      "needs_background": "light"
     },
     "output_type": "display_data"
    }
   ],
   "source": [
    "import torchvision\n",
    "\n",
    "def imshow(img, title=None):\n",
    "    \"\"\"Imshow pour Tenseur.\"\"\"\n",
    "    img = img.numpy().transpose((1, 2, 0))\n",
    "    mean = np.array([0.485, 0.456, 0.406])\n",
    "    std = np.array([0.229, 0.224, 0.225])\n",
    "    img = std * img + mean\n",
    "    img = np.clip(img, 0, 1)\n",
    "    plt.imshow(img)\n",
    "    if title is not None:\n",
    "        plt.title(title)\n",
    "    plt.grid(False)\n",
    "    plt.show()\n",
    "\n",
    "inputs, classes = next(iter(train_loader))\n",
    "\n",
    "out = torchvision.utils.make_grid(inputs)\n",
    "\n",
    "class_names = data_train.classes\n",
    "class_names = {class_names[k]: k for k in class_names.keys()}\n",
    "\n",
    "imshow(out, title=[class_names[int(x)] for x in classes])"
   ]
  },
  {
   "cell_type": "markdown",
   "metadata": {
    "colab_type": "text",
    "id": "gN9JbYASp4tE"
   },
   "source": [
    "## Définir l'architecture du réseau\n",
    "### Boîte à outils\n",
    "Ici, nous voulons réutiliser un réseau pré-entrainé sur ImageNet. Pour cela, il faut charger un modèle pré-entraîné et réinitialiser la couche finale qui est la couche complètement connectée. Par chance, dans Pytorch, <a href=\"http://pytorch.org/docs/0.1.12/torchvision/models.html#module-torchvision.models\">`torchvision.models`</a> propose des architectures toutes faites où les poids ont déjà été entraînés sur ImageNet.\n",
    "\n",
    "Un choix commun pour un problème de classification (notre cas) est d'utiliser le modèle *ResNet18*. Pour plus d'informations sur cette architecture, consultez cet [article](https://arxiv.org/abs/1512.03385). Vous pouvez également consulter la documentation PyTorch du modèle:\n",
    "<a href=\"http://pytorch.org/docs/0.1.12/torchvision/models.html#torchvision.models.resnet18\">`torchvision.models.resnet18(pretrained=True)`</a>\n",
    "\n",
    "Un exemple de bloc résiduel est donné ci-dessous :\n",
    "\n",
    "![Alt Text](https://github.com/mila-iqia/ecole_dl_mila_ivado/blob/master/tutoriaux/CNN/images/bloc_residuel.png?raw=true)\n",
    "\n",
    "\n",
    "**Rappel :** <a href=\"http://pytorch.org/docs/master/nn.html#torch.nn.Linear\">`torch.nn.Linear(in_features, out_features)`</a> permet d'appliquer une transformation linéaire à des données d'entrée : y = Ax + b.\n",
    "\n",
    "### Implémentation"
   ]
  },
  {
   "cell_type": "markdown",
   "metadata": {
    "colab_type": "text",
    "id": "TiQfdQxiMJPQ"
   },
   "source": [
    "Dans un premier temps on va utiliser un modèle non pré-entraîné puis on utilisera le même modèle mais cette fois-ci pré-entraîné afin de comparer les résultats."
   ]
  },
  {
   "cell_type": "code",
   "execution_count": 37,
   "metadata": {
    "colab": {},
    "colab_type": "code",
    "id": "nxBgVe4NISea"
   },
   "outputs": [
    {
     "name": "stdout",
     "output_type": "stream",
     "text": [
      "ResNet(\n",
      "  (conv1): Conv2d(3, 64, kernel_size=(7, 7), stride=(2, 2), padding=(3, 3), bias=False)\n",
      "  (bn1): BatchNorm2d(64, eps=1e-05, momentum=0.1, affine=True, track_running_stats=True)\n",
      "  (relu): ReLU(inplace=True)\n",
      "  (maxpool): MaxPool2d(kernel_size=3, stride=2, padding=1, dilation=1, ceil_mode=False)\n",
      "  (layer1): Sequential(\n",
      "    (0): BasicBlock(\n",
      "      (conv1): Conv2d(64, 64, kernel_size=(3, 3), stride=(1, 1), padding=(1, 1), bias=False)\n",
      "      (bn1): BatchNorm2d(64, eps=1e-05, momentum=0.1, affine=True, track_running_stats=True)\n",
      "      (relu): ReLU(inplace=True)\n",
      "      (conv2): Conv2d(64, 64, kernel_size=(3, 3), stride=(1, 1), padding=(1, 1), bias=False)\n",
      "      (bn2): BatchNorm2d(64, eps=1e-05, momentum=0.1, affine=True, track_running_stats=True)\n",
      "    )\n",
      "    (1): BasicBlock(\n",
      "      (conv1): Conv2d(64, 64, kernel_size=(3, 3), stride=(1, 1), padding=(1, 1), bias=False)\n",
      "      (bn1): BatchNorm2d(64, eps=1e-05, momentum=0.1, affine=True, track_running_stats=True)\n",
      "      (relu): ReLU(inplace=True)\n",
      "      (conv2): Conv2d(64, 64, kernel_size=(3, 3), stride=(1, 1), padding=(1, 1), bias=False)\n",
      "      (bn2): BatchNorm2d(64, eps=1e-05, momentum=0.1, affine=True, track_running_stats=True)\n",
      "    )\n",
      "  )\n",
      "  (layer2): Sequential(\n",
      "    (0): BasicBlock(\n",
      "      (conv1): Conv2d(64, 128, kernel_size=(3, 3), stride=(2, 2), padding=(1, 1), bias=False)\n",
      "      (bn1): BatchNorm2d(128, eps=1e-05, momentum=0.1, affine=True, track_running_stats=True)\n",
      "      (relu): ReLU(inplace=True)\n",
      "      (conv2): Conv2d(128, 128, kernel_size=(3, 3), stride=(1, 1), padding=(1, 1), bias=False)\n",
      "      (bn2): BatchNorm2d(128, eps=1e-05, momentum=0.1, affine=True, track_running_stats=True)\n",
      "      (downsample): Sequential(\n",
      "        (0): Conv2d(64, 128, kernel_size=(1, 1), stride=(2, 2), bias=False)\n",
      "        (1): BatchNorm2d(128, eps=1e-05, momentum=0.1, affine=True, track_running_stats=True)\n",
      "      )\n",
      "    )\n",
      "    (1): BasicBlock(\n",
      "      (conv1): Conv2d(128, 128, kernel_size=(3, 3), stride=(1, 1), padding=(1, 1), bias=False)\n",
      "      (bn1): BatchNorm2d(128, eps=1e-05, momentum=0.1, affine=True, track_running_stats=True)\n",
      "      (relu): ReLU(inplace=True)\n",
      "      (conv2): Conv2d(128, 128, kernel_size=(3, 3), stride=(1, 1), padding=(1, 1), bias=False)\n",
      "      (bn2): BatchNorm2d(128, eps=1e-05, momentum=0.1, affine=True, track_running_stats=True)\n",
      "    )\n",
      "  )\n",
      "  (layer3): Sequential(\n",
      "    (0): BasicBlock(\n",
      "      (conv1): Conv2d(128, 256, kernel_size=(3, 3), stride=(2, 2), padding=(1, 1), bias=False)\n",
      "      (bn1): BatchNorm2d(256, eps=1e-05, momentum=0.1, affine=True, track_running_stats=True)\n",
      "      (relu): ReLU(inplace=True)\n",
      "      (conv2): Conv2d(256, 256, kernel_size=(3, 3), stride=(1, 1), padding=(1, 1), bias=False)\n",
      "      (bn2): BatchNorm2d(256, eps=1e-05, momentum=0.1, affine=True, track_running_stats=True)\n",
      "      (downsample): Sequential(\n",
      "        (0): Conv2d(128, 256, kernel_size=(1, 1), stride=(2, 2), bias=False)\n",
      "        (1): BatchNorm2d(256, eps=1e-05, momentum=0.1, affine=True, track_running_stats=True)\n",
      "      )\n",
      "    )\n",
      "    (1): BasicBlock(\n",
      "      (conv1): Conv2d(256, 256, kernel_size=(3, 3), stride=(1, 1), padding=(1, 1), bias=False)\n",
      "      (bn1): BatchNorm2d(256, eps=1e-05, momentum=0.1, affine=True, track_running_stats=True)\n",
      "      (relu): ReLU(inplace=True)\n",
      "      (conv2): Conv2d(256, 256, kernel_size=(3, 3), stride=(1, 1), padding=(1, 1), bias=False)\n",
      "      (bn2): BatchNorm2d(256, eps=1e-05, momentum=0.1, affine=True, track_running_stats=True)\n",
      "    )\n",
      "  )\n",
      "  (layer4): Sequential(\n",
      "    (0): BasicBlock(\n",
      "      (conv1): Conv2d(256, 512, kernel_size=(3, 3), stride=(2, 2), padding=(1, 1), bias=False)\n",
      "      (bn1): BatchNorm2d(512, eps=1e-05, momentum=0.1, affine=True, track_running_stats=True)\n",
      "      (relu): ReLU(inplace=True)\n",
      "      (conv2): Conv2d(512, 512, kernel_size=(3, 3), stride=(1, 1), padding=(1, 1), bias=False)\n",
      "      (bn2): BatchNorm2d(512, eps=1e-05, momentum=0.1, affine=True, track_running_stats=True)\n",
      "      (downsample): Sequential(\n",
      "        (0): Conv2d(256, 512, kernel_size=(1, 1), stride=(2, 2), bias=False)\n",
      "        (1): BatchNorm2d(512, eps=1e-05, momentum=0.1, affine=True, track_running_stats=True)\n",
      "      )\n",
      "    )\n",
      "    (1): BasicBlock(\n",
      "      (conv1): Conv2d(512, 512, kernel_size=(3, 3), stride=(1, 1), padding=(1, 1), bias=False)\n",
      "      (bn1): BatchNorm2d(512, eps=1e-05, momentum=0.1, affine=True, track_running_stats=True)\n",
      "      (relu): ReLU(inplace=True)\n",
      "      (conv2): Conv2d(512, 512, kernel_size=(3, 3), stride=(1, 1), padding=(1, 1), bias=False)\n",
      "      (bn2): BatchNorm2d(512, eps=1e-05, momentum=0.1, affine=True, track_running_stats=True)\n",
      "    )\n",
      "  )\n",
      "  (avgpool): AdaptiveAvgPool2d(output_size=(1, 1))\n",
      "  (fc): Linear(in_features=512, out_features=2, bias=True)\n",
      ")\n",
      "\n",
      "\n",
      "# paramètres:  11177538\n"
     ]
    }
   ],
   "source": [
    "from torchvision import models\n",
    "\n",
    "# Charger un modèle de resnet18 non pré-entraîné\n",
    "model = models.resnet18(pretrained=False)\n",
    "\n",
    "# Réinitialisation de la dernière couche\n",
    "num_ftrs = model.fc.in_features\n",
    "model.fc = nn.Linear(num_ftrs, 2)\n",
    "\n",
    "model = model.to(device)\n",
    "\n",
    "print(model)\n",
    "\n",
    "print(\"\\n\\n# paramètres: \", sum([param.nelement() for param in model.parameters()]))"
   ]
  },
  {
   "cell_type": "code",
   "execution_count": 38,
   "metadata": {
    "colab": {},
    "colab_type": "code",
    "id": "vQTyN1tkZyYG"
   },
   "outputs": [],
   "source": [
    "# Sauvegarder les poids initiaux du modèle\n",
    "init_model_wts = copy.deepcopy(model.state_dict())"
   ]
  },
  {
   "cell_type": "markdown",
   "metadata": {
    "colab_type": "text",
    "id": "x_ut6uP0qpWW"
   },
   "source": [
    "## Définir la fonction de coût et l'optimiseur\n",
    "### Boîte à outils\n",
    "**Rappel : ** un choix commun pour un problème de classification (notre cas) est d'utiliser les classes suivantes :\n",
    "<ul>\n",
    "<li>**Fonction de coût :** <a href=\"http://pytorch.org/docs/master/nn.html#torch.nn.CrossEntropyLoss\">`torch.nn.CrossEntropyLoss()`</a>. L'entropie croisée est souvent utilisée en optimisation. Elle permet de comparer une distribution $p$ avec une distibution de référence $t$. Elle est minimum lorsque $t=p$. Sa formule pour la calculer entre la prédiction et la cible est : $-\\sum_j t_{ij} \\log(p_{ij})$ où $p$ est la prédiction, $t$ la cible, $i$ les exemples et $j$ les classes de la cible.</li>\n",
    "<li>**Optimiseur :** <a href=\"http://pytorch.org/docs/master/optim.html#torch.optim.SGD\">`torch.optim.SGD(net.parameters(), lr=learning_rate)`</a>. Utilisez un taux d'apprentissage de 1e-3 et une valeur d'élan (<i>momentum</i>) de 0.9</li>\n",
    "</ul>\n",
    "\n",
    "### Implémentation"
   ]
  },
  {
   "cell_type": "code",
   "execution_count": 39,
   "metadata": {
    "colab": {},
    "colab_type": "code",
    "id": "JW00K1Ssqqcm"
   },
   "outputs": [],
   "source": [
    "criterion = nn.CrossEntropyLoss()\n",
    "\n",
    "learning_rate = 1e-3\n",
    "optimizer = torch.optim.SGD(model.parameters(), lr=learning_rate, momentum=0.9)"
   ]
  },
  {
   "cell_type": "markdown",
   "metadata": {
    "colab_type": "text",
    "id": "9uhoTb410Utx"
   },
   "source": [
    "## Entraîner le réseau\n",
    "### Boîte à outils\n",
    "**Rappel :** en général, l'entraînement d'un réseau se fait en itérant sur plusieurs époques (une époque correspond à une passe sur l'intégralité du jeu de données d'entraînement). Sur une époque on va recevoir une série de lots fournis par l'itérateur. Pour chaque lot, on fait les opérations suivantes:\n",
    "<ul>\n",
    "<li>`optimizer.zero_grad()` : on efface les gradients encore stockés par le réseau issus de la passe précédente.</li>\n",
    "<li>`loss.backward()` : on calcule automatiquement la dérivée du coût et on propage l'erreur dans le graphe par rétro-propagation.</li>\n",
    "<li>`optimizer.step()` : on effectue une étape de descente de gradient. Dans le cas de SGD, c'est une descente de gradient classique avec les gradients calculés précédemment : `poids = poids - pas_d_apprentissage * gradient`. Dans le cas d'Adam une opération légérement plus complexe est réalisée.</li>\n",
    "</ul>\n",
    "\n",
    "**Conseils bonus :** Lorsque l'on entraîne le réseau de neurones profonds, il est conseillé de faire :\n",
    "<ul>\n",
    "<li>de l'arrêt précoce. C'est une forme de régularisation qui évite de faire du sur-apprentissage en utilisant une règle pour stopper l'apprentissage du modèle.</li>\n",
    "<li>de l'attribution de points de contrôle (<i>checkpointing</i>). Pour cela, il est commun d'enregister les poids du réseau avec `model.state_dict()` à différentes étapes de l'entraînement.</li>\n",
    "<li>d'imprimer les temps d'exécution. Pour cela, il est commun d'utiliser `time.time()`.</li>\n",
    "</ul>\n",
    "\n",
    "### Implémentation"
   ]
  },
  {
   "cell_type": "code",
   "execution_count": 41,
   "metadata": {
    "colab": {},
    "colab_type": "code",
    "id": "hXNpyIj_wxRP"
   },
   "outputs": [
    {
     "name": "stdout",
     "output_type": "stream",
     "text": [
      "# Début de l'entraînement #\n",
      "\n",
      "Époque: 1/25\n",
      "\tPerte d'entraînement: 0.0001\n",
      "\tPerte de validation: 0.0001\n",
      "\n",
      "Époque: 2/25\n",
      "\tPerte d'entraînement: 0.0001\n",
      "\tPerte de validation: 0.0000\n",
      "\n",
      "Époque: 3/25\n",
      "\tPerte d'entraînement: 0.0001\n",
      "\tPerte de validation: 0.0000\n",
      "\n",
      "Époque: 4/25\n",
      "\tPerte d'entraînement: 0.0001\n",
      "\tPerte de validation: 0.0000\n",
      "\n",
      "Époque: 5/25\n",
      "\tPerte d'entraînement: 0.0001\n",
      "\tPerte de validation: 0.0000\n",
      "\n",
      "Époque: 6/25\n",
      "\tPerte d'entraînement: 0.0001\n",
      "\tPerte de validation: 0.0000\n",
      "\n",
      "Époque: 7/25\n",
      "\tPerte d'entraînement: 0.0001\n",
      "\tPerte de validation: 0.0000\n",
      "\n",
      "Époque: 8/25\n",
      "\tPerte d'entraînement: 0.0001\n",
      "\tPerte de validation: 0.0000\n",
      "\n",
      "Époque: 9/25\n",
      "\tPerte d'entraînement: 0.0001\n",
      "\tPerte de validation: 0.0000\n",
      "\n",
      "Époque: 10/25\n",
      "\tPerte d'entraînement: 0.0001\n",
      "\tPerte de validation: 0.0000\n",
      "\n",
      "Époque: 11/25\n",
      "\tPerte d'entraînement: 0.0000\n",
      "\tPerte de validation: 0.0000\n",
      "\n",
      "Époque: 12/25\n",
      "\tPerte d'entraînement: 0.0001\n",
      "\tPerte de validation: 0.0000\n",
      "\n",
      "Époque: 13/25\n",
      "\tPerte d'entraînement: 0.0001\n",
      "\tPerte de validation: 0.0000\n",
      "\n",
      "Époque: 14/25\n",
      "\tPerte d'entraînement: 0.0001\n",
      "\tPerte de validation: 0.0000\n",
      "\n",
      "Époque: 15/25\n",
      "\tPerte d'entraînement: 0.0000\n",
      "\tPerte de validation: 0.0000\n",
      "\n",
      "Époque: 16/25\n",
      "\tPerte d'entraînement: 0.0000\n",
      "\tPerte de validation: 0.0000\n",
      "\n",
      "Époque: 17/25\n",
      "\tPerte d'entraînement: 0.0001\n",
      "\tPerte de validation: 0.0000\n",
      "\n",
      "Époque: 18/25\n",
      "\tPerte d'entraînement: 0.0000\n",
      "\tPerte de validation: 0.0000\n",
      "\n",
      "Époque: 19/25\n",
      "\tPerte d'entraînement: 0.0001\n",
      "\tPerte de validation: 0.0000\n",
      "\n",
      "Époque: 20/25\n",
      "\tPerte d'entraînement: 0.0001\n",
      "\tPerte de validation: 0.0000\n",
      "\n",
      "Époque: 21/25\n",
      "\tPerte d'entraînement: 0.0001\n",
      "\tPerte de validation: 0.0000\n",
      "\n",
      "Époque: 22/25\n",
      "\tPerte d'entraînement: 0.0001\n",
      "\tPerte de validation: 0.0000\n",
      "\n",
      "Époque: 23/25\n",
      "\tPerte d'entraînement: 0.0001\n",
      "\tPerte de validation: 0.0000\n",
      "\n",
      "Époque: 24/25\n",
      "\tPerte d'entraînement: 0.0000\n",
      "\tPerte de validation: 0.0000\n",
      "\n",
      "Époque: 25/25\n",
      "\tPerte d'entraînement: 0.0000\n",
      "\tPerte de validation: 0.0000\n",
      "\n",
      "\n",
      "Entraînement fini en 8m 31s\n",
      "\n",
      "\n",
      "Meilleure exactitude de validation: 100.00\n"
     ]
    }
   ],
   "source": [
    "import time\n",
    "\n",
    "since = time.time()\n",
    "\n",
    "best_model_wts = copy.deepcopy(model.state_dict())\n",
    "\n",
    "num_epochs = 25\n",
    "best_acc = 0.0\n",
    "\n",
    "train_loss_history = []\n",
    "valid_loss_history = []\n",
    "\n",
    "print(\"# Début de l'entraînement #\")\n",
    "for epoch in range(num_epochs):\n",
    "    \n",
    "    train_loss = 0\n",
    "    train_n_iter = 0\n",
    "    \n",
    "    # activer le mode d'entraînement\n",
    "    model.train()\n",
    "    \n",
    "    # itération sur les données d'entraînement\n",
    "    for images, labels in train_loader:  \n",
    "        \n",
    "        # transférer les données sur l'appareil choisi\n",
    "        images = images.to(device)\n",
    "        labels = labels.to(device)\n",
    "\n",
    "        # réinitialiser les gradients à zéro\n",
    "        optimizer.zero_grad()  \n",
    "        \n",
    "        # propagation avant sur les images\n",
    "        outputs = model(images)\n",
    "        \n",
    "        loss = criterion(outputs, labels)\n",
    "        \n",
    "        # rétropropagation\n",
    "        loss.backward()\n",
    "        \n",
    "        # optimisation\n",
    "        optimizer.step()\n",
    "        \n",
    "        # Statistiques\n",
    "        train_loss += loss.item()\n",
    "        train_n_iter += 1\n",
    "    \n",
    "    valid_loss = 0\n",
    "    valid_n_iter = 0\n",
    "    \n",
    "    # Activer le mode d'évaluation\n",
    "    model.eval()\n",
    "    \n",
    "    # itération sur les données de validation\n",
    "    total = 0\n",
    "    correct = 0\n",
    "    for images, labels in valid_loader:  \n",
    "        \n",
    "        # transférer les données sur l'appareil choisi\n",
    "        images = images.to(device)\n",
    "        labels = labels.to(device)\n",
    "        \n",
    "        # propagation avant sur les images\n",
    "        outputs = model(images)\n",
    "        _, predicted = torch.max(outputs.data, 1)\n",
    "        \n",
    "        loss = criterion(outputs, labels)\n",
    "    \n",
    "        # Statistiques\n",
    "        total += labels.size(0)\n",
    "        correct += torch.sum(predicted == labels.data)\n",
    "        valid_loss += loss.item()\n",
    "        valid_n_iter += 1\n",
    "    \n",
    "    epoch_acc = 100 * correct // total\n",
    "    \n",
    "    # Copie profonde du meilleur modèle\n",
    "    if epoch_acc > best_acc:\n",
    "        best_acc = epoch_acc\n",
    "        best_model_wts = copy.deepcopy(model.state_dict())\n",
    "    \n",
    "    train_loss_history.append(train_loss / train_n_iter)\n",
    "    valid_loss_history.append(valid_loss / valid_n_iter)\n",
    "    \n",
    "    print('\\nÉpoque: {}/{}'.format(epoch + 1, num_epochs))\n",
    "    print(\"\\tPerte d'entraînement: {:.4f}\".format(train_loss / train_n_iter))\n",
    "    print(\"\\tPerte de validation: {:.4f}\".format(valid_loss / valid_n_iter))\n",
    "\n",
    "time_elapsed = time.time() - since\n",
    "\n",
    "print('\\n\\nEntraînement fini en {:.0f}m {:.0f}s'.format(\n",
    "    time_elapsed // 60, time_elapsed % 60))\n",
    "\n",
    "print('\\n\\nMeilleure exactitude de validation: {:.2f}'.format(best_acc))"
   ]
  },
  {
   "cell_type": "markdown",
   "metadata": {
    "colab_type": "text",
    "id": "Xr8-PgSmiQSF"
   },
   "source": [
    "Visualisons les courbes d'entraînement et de validation :"
   ]
  },
  {
   "cell_type": "code",
   "execution_count": 42,
   "metadata": {
    "colab": {},
    "colab_type": "code",
    "id": "njb7oaT-hfk3"
   },
   "outputs": [
    {
     "data": {
      "image/png": "[encoded data removed]",
      "text/plain": [
       "<Figure size 432x288 with 1 Axes>"
      ]
     },
     "metadata": {
      "needs_background": "light"
     },
     "output_type": "display_data"
    }
   ],
   "source": [
    "resnet18_train_loss_history = train_loss_history\n",
    "resnet18_valid_loss_history = valid_loss_history\n",
    "\n",
    "# Tracer les courbes d'entraînement et de validation\n",
    "x = range(1, num_epochs + 1)\n",
    "plt.plot(x, resnet18_train_loss_history, label='entraînement ResNet18')\n",
    "plt.plot(x, resnet18_valid_loss_history, label='validation ResNet18')\n",
    "\n",
    "plt.xlabel('# époques')\n",
    "plt.ylabel('Perte')\n",
    "plt.legend()\n",
    "\n",
    "plt.show()"
   ]
  },
  {
   "cell_type": "markdown",
   "metadata": {
    "colab_type": "text",
    "id": "Vcqa0H5p-FHq"
   },
   "source": [
    "## Tester le réseau\n",
    "### Boîte à outils\n",
    "**Rappel :** on évalue ensuite le réseau sur l'ensemble du jeu de données d'évaluation.\n",
    "\n",
    "**Remarque :** ici, nous n'avons pas de données d'évaluation donc nous testons sur l'ensemble de validation (à ne pas faire en pratique).\n",
    "\n",
    "**Utilisation des poids du meilleur modèle :** comme nous avons fait de l'arrêt précoce lors de l'entraînement, nous voulons réutiliser les poids du meilleur modèle sur l'ensemble de validation pour tester le modèle. Ces poids ont été enregistrés lors de l'entraînement du modèle dans `best_model_wts`. Pour les charger il suffit d'utiliser `model.load_state_dict(best_model_wts)`.\n",
    "### Implémentation"
   ]
  },
  {
   "cell_type": "code",
   "execution_count": 44,
   "metadata": {
    "colab": {},
    "colab_type": "code",
    "id": "C1DCCblW_EPo"
   },
   "outputs": [
    {
     "name": "stdout",
     "output_type": "stream",
     "text": [
      "Exactitude sur l'ensemble d'évaluation: 100.00%\n"
     ]
    }
   ],
   "source": [
    "# Charger les poids du meilleur modèle\n",
    "model.load_state_dict(best_model_wts)\n",
    "\n",
    "# Activer le mode d'évaluation\n",
    "model.eval()\n",
    "\n",
    "correct = 0\n",
    "total = 0\n",
    "\n",
    "# itération sur les données d'évaluation\n",
    "for images, labels in test_loader:\n",
    "    \n",
    "    # transférer les données sur l'appareil choisi\n",
    "    images = images.to(device)\n",
    "    labels = labels.to(device)\n",
    "    \n",
    "    # propagation avant sur les images\n",
    "    outputs = model(images)\n",
    "    _, predicted = torch.max(outputs.data, 1)\n",
    "    \n",
    "    # Statistiques\n",
    "    total += labels.size(0)\n",
    "    correct += torch.sum(predicted == labels.data)\n",
    "\n",
    "print(\"Exactitude sur l'ensemble d'évaluation: {:.2f}%\".format(100 * correct // total))"
   ]
  },
  {
   "cell_type": "markdown",
   "metadata": {
    "colab_type": "text",
    "id": "d38Q32VMN0Hb"
   },
   "source": [
    "Avec les poids pré-entraînés :"
   ]
  },
  {
   "cell_type": "code",
   "execution_count": 45,
   "metadata": {
    "colab": {},
    "colab_type": "code",
    "id": "qMbvwaR5Ny-K"
   },
   "outputs": [
    {
     "name": "stderr",
     "output_type": "stream",
     "text": [
      "Downloading: \"https://download.pytorch.org/models/resnet18-5c106cde.pth\" to /home/andrew/.cache/torch/hub/checkpoints/resnet18-5c106cde.pth\n"
     ]
    },
    {
     "data": {
      "application/vnd.jupyter.widget-view+json": {
       "model_id": "26eb2a1db1854d8d9f3476718cc89a4d",
       "version_major": 2,
       "version_minor": 0
      },
      "text/plain": [
       "HBox(children=(FloatProgress(value=0.0, max=46827520.0), HTML(value='')))"
      ]
     },
     "metadata": {},
     "output_type": "display_data"
    },
    {
     "name": "stdout",
     "output_type": "stream",
     "text": [
      "\n",
      "ResNet(\n",
      "  (conv1): Conv2d(3, 64, kernel_size=(7, 7), stride=(2, 2), padding=(3, 3), bias=False)\n",
      "  (bn1): BatchNorm2d(64, eps=1e-05, momentum=0.1, affine=True, track_running_stats=True)\n",
      "  (relu): ReLU(inplace=True)\n",
      "  (maxpool): MaxPool2d(kernel_size=3, stride=2, padding=1, dilation=1, ceil_mode=False)\n",
      "  (layer1): Sequential(\n",
      "    (0): BasicBlock(\n",
      "      (conv1): Conv2d(64, 64, kernel_size=(3, 3), stride=(1, 1), padding=(1, 1), bias=False)\n",
      "      (bn1): BatchNorm2d(64, eps=1e-05, momentum=0.1, affine=True, track_running_stats=True)\n",
      "      (relu): ReLU(inplace=True)\n",
      "      (conv2): Conv2d(64, 64, kernel_size=(3, 3), stride=(1, 1), padding=(1, 1), bias=False)\n",
      "      (bn2): BatchNorm2d(64, eps=1e-05, momentum=0.1, affine=True, track_running_stats=True)\n",
      "    )\n",
      "    (1): BasicBlock(\n",
      "      (conv1): Conv2d(64, 64, kernel_size=(3, 3), stride=(1, 1), padding=(1, 1), bias=False)\n",
      "      (bn1): BatchNorm2d(64, eps=1e-05, momentum=0.1, affine=True, track_running_stats=True)\n",
      "      (relu): ReLU(inplace=True)\n",
      "      (conv2): Conv2d(64, 64, kernel_size=(3, 3), stride=(1, 1), padding=(1, 1), bias=False)\n",
      "      (bn2): BatchNorm2d(64, eps=1e-05, momentum=0.1, affine=True, track_running_stats=True)\n",
      "    )\n",
      "  )\n",
      "  (layer2): Sequential(\n",
      "    (0): BasicBlock(\n",
      "      (conv1): Conv2d(64, 128, kernel_size=(3, 3), stride=(2, 2), padding=(1, 1), bias=False)\n",
      "      (bn1): BatchNorm2d(128, eps=1e-05, momentum=0.1, affine=True, track_running_stats=True)\n",
      "      (relu): ReLU(inplace=True)\n",
      "      (conv2): Conv2d(128, 128, kernel_size=(3, 3), stride=(1, 1), padding=(1, 1), bias=False)\n",
      "      (bn2): BatchNorm2d(128, eps=1e-05, momentum=0.1, affine=True, track_running_stats=True)\n",
      "      (downsample): Sequential(\n",
      "        (0): Conv2d(64, 128, kernel_size=(1, 1), stride=(2, 2), bias=False)\n",
      "        (1): BatchNorm2d(128, eps=1e-05, momentum=0.1, affine=True, track_running_stats=True)\n",
      "      )\n",
      "    )\n",
      "    (1): BasicBlock(\n",
      "      (conv1): Conv2d(128, 128, kernel_size=(3, 3), stride=(1, 1), padding=(1, 1), bias=False)\n",
      "      (bn1): BatchNorm2d(128, eps=1e-05, momentum=0.1, affine=True, track_running_stats=True)\n",
      "      (relu): ReLU(inplace=True)\n",
      "      (conv2): Conv2d(128, 128, kernel_size=(3, 3), stride=(1, 1), padding=(1, 1), bias=False)\n",
      "      (bn2): BatchNorm2d(128, eps=1e-05, momentum=0.1, affine=True, track_running_stats=True)\n",
      "    )\n",
      "  )\n",
      "  (layer3): Sequential(\n",
      "    (0): BasicBlock(\n",
      "      (conv1): Conv2d(128, 256, kernel_size=(3, 3), stride=(2, 2), padding=(1, 1), bias=False)\n",
      "      (bn1): BatchNorm2d(256, eps=1e-05, momentum=0.1, affine=True, track_running_stats=True)\n",
      "      (relu): ReLU(inplace=True)\n",
      "      (conv2): Conv2d(256, 256, kernel_size=(3, 3), stride=(1, 1), padding=(1, 1), bias=False)\n",
      "      (bn2): BatchNorm2d(256, eps=1e-05, momentum=0.1, affine=True, track_running_stats=True)\n",
      "      (downsample): Sequential(\n",
      "        (0): Conv2d(128, 256, kernel_size=(1, 1), stride=(2, 2), bias=False)\n",
      "        (1): BatchNorm2d(256, eps=1e-05, momentum=0.1, affine=True, track_running_stats=True)\n",
      "      )\n",
      "    )\n",
      "    (1): BasicBlock(\n",
      "      (conv1): Conv2d(256, 256, kernel_size=(3, 3), stride=(1, 1), padding=(1, 1), bias=False)\n",
      "      (bn1): BatchNorm2d(256, eps=1e-05, momentum=0.1, affine=True, track_running_stats=True)\n",
      "      (relu): ReLU(inplace=True)\n",
      "      (conv2): Conv2d(256, 256, kernel_size=(3, 3), stride=(1, 1), padding=(1, 1), bias=False)\n",
      "      (bn2): BatchNorm2d(256, eps=1e-05, momentum=0.1, affine=True, track_running_stats=True)\n",
      "    )\n",
      "  )\n",
      "  (layer4): Sequential(\n",
      "    (0): BasicBlock(\n",
      "      (conv1): Conv2d(256, 512, kernel_size=(3, 3), stride=(2, 2), padding=(1, 1), bias=False)\n",
      "      (bn1): BatchNorm2d(512, eps=1e-05, momentum=0.1, affine=True, track_running_stats=True)\n",
      "      (relu): ReLU(inplace=True)\n",
      "      (conv2): Conv2d(512, 512, kernel_size=(3, 3), stride=(1, 1), padding=(1, 1), bias=False)\n",
      "      (bn2): BatchNorm2d(512, eps=1e-05, momentum=0.1, affine=True, track_running_stats=True)\n",
      "      (downsample): Sequential(\n",
      "        (0): Conv2d(256, 512, kernel_size=(1, 1), stride=(2, 2), bias=False)\n",
      "        (1): BatchNorm2d(512, eps=1e-05, momentum=0.1, affine=True, track_running_stats=True)\n",
      "      )\n",
      "    )\n",
      "    (1): BasicBlock(\n",
      "      (conv1): Conv2d(512, 512, kernel_size=(3, 3), stride=(1, 1), padding=(1, 1), bias=False)\n",
      "      (bn1): BatchNorm2d(512, eps=1e-05, momentum=0.1, affine=True, track_running_stats=True)\n",
      "      (relu): ReLU(inplace=True)\n",
      "      (conv2): Conv2d(512, 512, kernel_size=(3, 3), stride=(1, 1), padding=(1, 1), bias=False)\n",
      "      (bn2): BatchNorm2d(512, eps=1e-05, momentum=0.1, affine=True, track_running_stats=True)\n",
      "    )\n",
      "  )\n",
      "  (avgpool): AdaptiveAvgPool2d(output_size=(1, 1))\n",
      "  (fc): Linear(in_features=512, out_features=2, bias=True)\n",
      ")\n",
      "\n",
      "\n",
      "# paramètres:  11177538\n"
     ]
    }
   ],
   "source": [
    "from torchvision import models\n",
    "\n",
    "# Charger un modèle de resnet18 pré-entraîné\n",
    "model = models.resnet18(pretrained=True)\n",
    "\n",
    "# Réinitialisation de la dernière couche\n",
    "num_ftrs = model.fc.in_features\n",
    "model.fc = nn.Linear(num_ftrs, 2)\n",
    "\n",
    "model = model.to(device)\n",
    "\n",
    "print(model)\n",
    "\n",
    "print(\"\\n\\n# paramètres: \", sum([param.nelement() for param in model.parameters()]))"
   ]
  },
  {
   "cell_type": "code",
   "execution_count": 46,
   "metadata": {
    "colab": {},
    "colab_type": "code",
    "id": "XAcPL09nN-Ki"
   },
   "outputs": [],
   "source": [
    "# Sauvegarder les poids initiaux du modèle\n",
    "init_model_wts = copy.deepcopy(model.state_dict())"
   ]
  },
  {
   "cell_type": "code",
   "execution_count": 47,
   "metadata": {
    "colab": {},
    "colab_type": "code",
    "id": "88Nhc4mlN-sc"
   },
   "outputs": [],
   "source": [
    "criterion = nn.CrossEntropyLoss()\n",
    "\n",
    "optimizer = torch.optim.SGD(model.parameters(), lr=learning_rate)"
   ]
  },
  {
   "cell_type": "code",
   "execution_count": 48,
   "metadata": {
    "colab": {},
    "colab_type": "code",
    "id": "U1pQBFbAOEjd"
   },
   "outputs": [
    {
     "name": "stdout",
     "output_type": "stream",
     "text": [
      "# Début de l'entraînement #\n",
      "\n",
      "Époque: 1/25\n",
      "\tPerte d'entraînement: 0.2126\n",
      "\tPerte de validation: 0.0589\n",
      "\n",
      "Époque: 2/25\n",
      "\tPerte d'entraînement: 0.0417\n",
      "\tPerte de validation: 0.0258\n",
      "\n",
      "Époque: 3/25\n",
      "\tPerte d'entraînement: 0.0235\n",
      "\tPerte de validation: 0.0141\n",
      "\n",
      "Époque: 4/25\n",
      "\tPerte d'entraînement: 0.0170\n",
      "\tPerte de validation: 0.0128\n",
      "\n",
      "Époque: 5/25\n",
      "\tPerte d'entraînement: 0.0129\n",
      "\tPerte de validation: 0.0078\n",
      "\n",
      "Époque: 6/25\n",
      "\tPerte d'entraînement: 0.0104\n",
      "\tPerte de validation: 0.0086\n",
      "\n",
      "Époque: 7/25\n",
      "\tPerte d'entraînement: 0.0084\n",
      "\tPerte de validation: 0.0066\n",
      "\n",
      "Époque: 8/25\n",
      "\tPerte d'entraînement: 0.0072\n",
      "\tPerte de validation: 0.0063\n",
      "\n",
      "Époque: 9/25\n",
      "\tPerte d'entraînement: 0.0065\n",
      "\tPerte de validation: 0.0061\n",
      "\n",
      "Époque: 10/25\n",
      "\tPerte d'entraînement: 0.0058\n",
      "\tPerte de validation: 0.0048\n",
      "\n",
      "Époque: 11/25\n",
      "\tPerte d'entraînement: 0.0063\n",
      "\tPerte de validation: 0.0042\n",
      "\n",
      "Époque: 12/25\n",
      "\tPerte d'entraînement: 0.0049\n",
      "\tPerte de validation: 0.0036\n",
      "\n",
      "Époque: 13/25\n",
      "\tPerte d'entraînement: 0.0046\n",
      "\tPerte de validation: 0.0036\n",
      "\n",
      "Époque: 14/25\n",
      "\tPerte d'entraînement: 0.0040\n",
      "\tPerte de validation: 0.0033\n",
      "\n",
      "Époque: 15/25\n",
      "\tPerte d'entraînement: 0.0040\n",
      "\tPerte de validation: 0.0032\n",
      "\n",
      "Époque: 16/25\n",
      "\tPerte d'entraînement: 0.0046\n",
      "\tPerte de validation: 0.0025\n",
      "\n",
      "Époque: 17/25\n",
      "\tPerte d'entraînement: 0.0033\n",
      "\tPerte de validation: 0.0022\n",
      "\n",
      "Époque: 18/25\n",
      "\tPerte d'entraînement: 0.0040\n",
      "\tPerte de validation: 0.0022\n",
      "\n",
      "Époque: 19/25\n",
      "\tPerte d'entraînement: 0.0032\n",
      "\tPerte de validation: 0.0029\n",
      "\n",
      "Époque: 20/25\n",
      "\tPerte d'entraînement: 0.0029\n",
      "\tPerte de validation: 0.0024\n",
      "\n",
      "Époque: 21/25\n",
      "\tPerte d'entraînement: 0.0027\n",
      "\tPerte de validation: 0.0022\n",
      "\n",
      "Époque: 22/25\n",
      "\tPerte d'entraînement: 0.0026\n",
      "\tPerte de validation: 0.0027\n",
      "\n",
      "Époque: 23/25\n",
      "\tPerte d'entraînement: 0.0024\n",
      "\tPerte de validation: 0.0019\n",
      "\n",
      "Époque: 24/25\n",
      "\tPerte d'entraînement: 0.0025\n",
      "\tPerte de validation: 0.0020\n",
      "\n",
      "Époque: 25/25\n",
      "\tPerte d'entraînement: 0.0022\n",
      "\tPerte de validation: 0.0018\n",
      "\n",
      "\n",
      "Entraînement fini en 7m 31s\n",
      "\n",
      "\n",
      "Meilleure exactitude de validation: 100.00\n"
     ]
    }
   ],
   "source": [
    "since = time.time()\n",
    "\n",
    "best_model_wts = copy.deepcopy(model.state_dict())\n",
    "\n",
    "num_epochs = 25\n",
    "best_acc = 0.0\n",
    "\n",
    "train_loss_history = []\n",
    "valid_loss_history = []\n",
    "\n",
    "print(\"# Début de l'entraînement #\")\n",
    "for epoch in range(num_epochs):\n",
    "    \n",
    "    train_loss = 0\n",
    "    train_n_iter = 0\n",
    "    \n",
    "    # activer le mode d'entraînement\n",
    "    model.train()\n",
    "    \n",
    "    # itération sur les données d'entraînement\n",
    "    for images, labels in train_loader:  \n",
    "        \n",
    "        # transférer les données sur l'appareil choisi\n",
    "        images = images.to(device)\n",
    "        labels = labels.to(device)\n",
    "\n",
    "        # réinitialiser les gradients à zéro\n",
    "        optimizer.zero_grad()  \n",
    "        \n",
    "        # propagation avant sur les images\n",
    "        outputs = model(images)\n",
    "        \n",
    "        loss = criterion(outputs, labels)\n",
    "        \n",
    "        # rétropropagation\n",
    "        loss.backward()\n",
    "        \n",
    "        # optimisation\n",
    "        optimizer.step()\n",
    "        \n",
    "        # Statistiques\n",
    "        train_loss += loss.item()\n",
    "        train_n_iter += 1\n",
    "    \n",
    "    valid_loss = 0\n",
    "    valid_n_iter = 0\n",
    "    \n",
    "    # Activer le mode d'évaluation\n",
    "    model.eval()\n",
    "    \n",
    "    # itération sur les données de validation\n",
    "    total = 0\n",
    "    correct = 0\n",
    "    for images, labels in valid_loader:  \n",
    "        \n",
    "        # transférer les données sur l'appareil choisi\n",
    "        images = images.to(device)\n",
    "        labels = labels.to(device)\n",
    "        \n",
    "        # propagation avant sur les images\n",
    "        outputs = model(images)\n",
    "        _, predicted = torch.max(outputs.data, 1)\n",
    "        \n",
    "        loss = criterion(outputs, labels)\n",
    "    \n",
    "        # Statistiques\n",
    "        total += labels.size(0)\n",
    "        correct += torch.sum(predicted == labels.data)\n",
    "        valid_loss += loss.item()\n",
    "        valid_n_iter += 1\n",
    "    \n",
    "    epoch_acc = 100 * correct // total\n",
    "    \n",
    "    # Copie profonde du meilleur modèle\n",
    "    if epoch_acc > best_acc:\n",
    "        best_acc = epoch_acc\n",
    "        best_model_wts = copy.deepcopy(model.state_dict())\n",
    "    \n",
    "    train_loss_history.append(train_loss / train_n_iter)\n",
    "    valid_loss_history.append(valid_loss / valid_n_iter)\n",
    "    \n",
    "    print('\\nÉpoque: {}/{}'.format(epoch + 1, num_epochs))\n",
    "    print(\"\\tPerte d'entraînement: {:.4f}\".format(train_loss / train_n_iter))\n",
    "    print(\"\\tPerte de validation: {:.4f}\".format(valid_loss / valid_n_iter))\n",
    "\n",
    "time_elapsed = time.time() - since\n",
    "\n",
    "print('\\n\\nEntraînement fini en {:.0f}m {:.0f}s'.format(\n",
    "    time_elapsed // 60, time_elapsed % 60))\n",
    "\n",
    "print('\\n\\nMeilleure exactitude de validation: {:.2f}'.format(best_acc))"
   ]
  },
  {
   "cell_type": "markdown",
   "metadata": {
    "colab_type": "text",
    "id": "d_x_Kot7iEnI"
   },
   "source": [
    "Visualisons les courbes d'entraînement et de validation :"
   ]
  },
  {
   "cell_type": "code",
   "execution_count": 49,
   "metadata": {
    "colab": {},
    "colab_type": "code",
    "id": "sVUPxQCehyzc"
   },
   "outputs": [
    {
     "data": {
      "image/png": "[encoded data removed]",
      "text/plain": [
       "<Figure size 432x288 with 1 Axes>"
      ]
     },
     "metadata": {
      "needs_background": "light"
     },
     "output_type": "display_data"
    }
   ],
   "source": [
    "resnet18_pretrained_train_loss_history = train_loss_history\n",
    "resnet18_pretrained_valid_loss_history = valid_loss_history\n",
    "\n",
    "# Tracer les courbes d'entraînement et de validation\n",
    "x = range(1, num_epochs + 1)\n",
    "plt.plot(x, resnet18_train_loss_history, label='entraînement ResNet18')\n",
    "plt.plot(x, resnet18_valid_loss_history, label='validation ResNet18')\n",
    "plt.plot(\n",
    "      x, resnet18_pretrained_train_loss_history,\n",
    "    label='entraînement ResNet18 pré-entraîné')\n",
    "plt.plot(\n",
    "      x, resnet18_pretrained_valid_loss_history,\n",
    "    label='validation ResNet18 pré-entraîné')\n",
    "\n",
    "plt.xlabel('# époques')\n",
    "plt.ylabel('Perte')\n",
    "plt.legend()\n",
    "\n",
    "plt.show()"
   ]
  },
  {
   "cell_type": "markdown",
   "metadata": {
    "colab_type": "text",
    "id": "keq8hL3yiCOG"
   },
   "source": [
    "Testons le modèle :"
   ]
  },
  {
   "cell_type": "code",
   "execution_count": 50,
   "metadata": {
    "colab": {},
    "colab_type": "code",
    "id": "MJy4FdfQfc7z"
   },
   "outputs": [
    {
     "name": "stdout",
     "output_type": "stream",
     "text": [
      "Exactitude sur l'ensemble d'évaluation: 100.00%\n"
     ]
    }
   ],
   "source": [
    "# Charger les poids du meilleur modèle\n",
    "model.load_state_dict(best_model_wts)\n",
    "\n",
    "# Activer le mode d'évaluation\n",
    "model.eval()\n",
    "\n",
    "correct = 0\n",
    "total = 0\n",
    "\n",
    "# itération sur les données d'évaluation\n",
    "for images, labels in test_loader:\n",
    "    \n",
    "    # transférer les données sur l'appareil choisi\n",
    "    images = images.to(device)\n",
    "    labels = labels.to(device)\n",
    "    \n",
    "    # propagation avant sur les images\n",
    "    outputs = model(images)\n",
    "    _, predicted = torch.max(outputs.data, 1)\n",
    "    \n",
    "    # Statistiques\n",
    "    total += labels.size(0)\n",
    "    correct += torch.sum(predicted == labels.data)\n",
    "\n",
    "print(\"Exactitude sur l'ensemble d'évaluation: {:.2f}%\".format(100 * correct // total))"
   ]
  },
  {
   "cell_type": "markdown",
   "metadata": {
    "colab_type": "text",
    "id": "LMd3mx5KKYXk"
   },
   "source": [
    "On observe une augmentation de l'exactitude sur l'ensemble d'évaluation par rapport au modèle dont les poids n'avaient pas été entraîné."
   ]
  },
  {
   "cell_type": "markdown",
   "metadata": {
    "colab_type": "text",
    "id": "u69CX2svt_4l"
   },
   "source": [
    "# Suite (optionnelle)\n",
    "\n",
    "Si vous souhaitez approfondir vos connaissances sur les réseaux convolutifs, voici une série de liens vers divers méthodes traitant sur des applications plus avancées.\n",
    "\n",
    "## Segmentation d'image\n",
    "\n",
    "Bien qu'il soit pratique de pouvoir classifier une image, il est encore plus pratique de pouvoir classifier quelle partie de l'image contient la catégorie en question par pixel. Il s'agit de la segmentation d'image. Un exemple populaire est l'algorithme [Mask R-CNN](https://arxiv.org/abs/1703.06870). Vous pouvez trouver un tutoriel sur l'implémentation de cet algorithme [ici](https://github.com/matterport/Mask_RCNN/blob/master/samples/shapes/train_shapes.ipynb).\n",
    "\n",
    "Voici un exemple d'image segmentée par catégrorie:\n",
    "\n",
    "![Alt Text](https://github.com/mila-iqia/ecole_dl_mila_ivado/blob/master/tutoriaux/CNN/images/detection_final.png?raw=true)\n",
    "\n",
    "\n",
    "## Modèles génératifs (exemple des RAG/GAN)\n",
    "\n",
    "Un réseau antagoniste génératif (RAG/GAN) consiste de deux réseaux qui se font concurrence. Ils ont pour but de se surpasser l'un l'autre. Un réseau génère des images fictives et tente de convaincre l'autre réseau du réalisme de l'image tandis que l'autre réseau est entrainé à discerner une vraie image d'une fausse. Ceci permet la génération d'images réalistes lorsque les deux réseaux sont bien entrainés. Vous pouvez trouver la publication originale [ici](http://papers.nips.cc/paper/5423-generative-adversarial-nets) ainsi qu'une implémentation [ici](https://github.com/diegoalejogm/gans).\n",
    "\n",
    "Voici un exemple de RAG sur MNIST: \n",
    "\n",
    "![Alt Text](https://github.com/mila-iqia/ecole_dl_mila_ivado/blob/master/tutoriaux/CNN/images/1_nAVqFluPijpBWR2tI4gCxg.png?raw=true)\n"
   ]
  },
  {
   "cell_type": "markdown",
   "metadata": {
    "colab_type": "text",
    "id": "IsLwCjnbWkk4"
   },
   "source": [
    "# Références\n",
    "Certaines parties de ce tutoriel sont fortement inspirées des tutoriaux suivant :\n",
    "<ul>\n",
    "<li>https://github.com/andrewliao11/dni.pytorch/blob/master/mlp.py\n",
    "<li>https://github.com/andrewliao11/dni.pytorch/blob/master/cnn.py\n",
    "<li>http://pytorch.org/tutorials/beginner/blitz/neural_networks_tutorial.html\n",
    "<li>http://pytorch.org/tutorials/beginner/transfer_learning_tutorial.html\n",
    " <li>http://cs231n.github.io/convolutional-networks/\n",
    " <li>http://deeplearning.net/software/theano/tutorial/conv_arithmetic.html#convolution-as-a-matrix-operation\n",
    "</ul>"
   ]
  }
 ],
 "metadata": {
  "accelerator": "GPU",
  "colab": {
   "collapsed_sections": [],
   "name": "CNN_a_completer.ipynb",
   "private_outputs": true,
   "provenance": [],
   "toc_visible": true,
   "version": "0.3.2"
  },
  "kernelspec": {
   "display_name": "Python 3",
   "language": "python",
   "name": "python3"
  },
  "language_info": {
   "codemirror_mode": {
    "name": "ipython",
    "version": 3
   },
   "file_extension": ".py",
   "mimetype": "text/x-python",
   "name": "python",
   "nbconvert_exporter": "python",
   "pygments_lexer": "ipython3",
   "version": "3.7.6"
  }
 },
 "nbformat": 4,
 "nbformat_minor": 4
}
