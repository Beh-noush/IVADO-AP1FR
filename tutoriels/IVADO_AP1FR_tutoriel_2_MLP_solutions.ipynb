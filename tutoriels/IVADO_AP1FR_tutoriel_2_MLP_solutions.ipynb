{
 "cells": [
  {
   "cell_type": "markdown",
   "metadata": {},
   "source": [
    "---"
   ]
  },
  {
   "cell_type": "markdown",
   "metadata": {
    "colab_type": "text",
    "id": "mipSoOVlavkb",
    "lines_to_next_cell": 0
   },
   "source": [
    "# IVADO/MILA ÉCOLE D'APPRENTISSAGE PROFOND\n",
    "\n",
    "# 4e édition (automne 2019)\n",
    "\n",
    "# Tutoriel sur les données catégorielles avec perceptron multicouche (MLP)\n",
    "\n",
    "## Auteurs :\n",
    "\n",
    "Arsène Fansi Tchango <arsene.fansi.tchango@mila.quebec>\n",
    "\n",
    "Gaétan Marceau Caron <gaetan.marceau.caron@mila.quebec>\n",
    "\n",
    "## Traducteur: \n",
    "\n",
    "Andrew Williams <andrew.williams@umomntreal.ca>\n"
   ]
  },
  {
   "cell_type": "markdown",
   "metadata": {
    "colab_type": "text",
    "id": "sLHwvggEZERd",
    "lines_to_next_cell": 0
   },
   "source": [
    "## Préface\n"
   ]
  },
  {
   "cell_type": "markdown",
   "metadata": {
    "colab_type": "text",
    "id": "JKNGtQkkohiM",
    "lines_to_next_cell": 0
   },
   "source": [
    "Ce tutoriel présente les aspects pratiques de l'apprentissage profond par la réalisation d'un projet simple de bout en bout. Nous utiliserons la bibliothèque d'apprentissage profond <a href=\"https://pytorch.org/\"> `PyTorch`</a>, qui est bien connue pour sa facilité d'utilisation.\n"
   ]
  },
  {
   "cell_type": "markdown",
   "metadata": {
    "colab_type": "text",
    "id": "NOD70vdvvtin",
    "lines_to_next_cell": 0
   },
   "source": [
    "# Introduction\n"
   ]
  },
  {
   "cell_type": "markdown",
   "metadata": {
    "colab_type": "text",
    "id": "nq9FwFVnQihX",
    "lines_to_next_cell": 0
   },
   "source": [
    "## Chargement de bibliothèques et utilisation de GPU\n"
   ]
  },
  {
   "cell_type": "markdown",
   "metadata": {
    "colab_type": "text",
    "id": "reCpBfp1Qcrt",
    "lines_to_next_cell": 0
   },
   "source": [
    "Avant de commencer, nous installons les bibliothèques nécessaires pour le tutoriel à l'aide de pip. Pour ce faire, exécutez la cellule suivante en la sélectionnant et en utilisant `shift+Enter`. Cette étape peut prendre quelques minutes.\n"
   ]
  },
  {
   "cell_type": "code",
   "execution_count": null,
   "metadata": {
    "colab": {
     "base_uri": "https://localhost:8080/",
     "height": 225
    },
    "colab_type": "code",
    "id": "c5AlBPjnvzNh",
    "outputId": "48285c9a-dbd0-4585-e493-c089116ae91e"
   },
   "outputs": [],
   "source": [
    "!pip install 'torch==1.1.0' 'torchvision==0.3.0' 'Pillow==4.3.0' 'matplotlib==3.0.3'"
   ]
  },
  {
   "cell_type": "markdown",
   "metadata": {
    "colab_type": "text",
    "id": "djF9gjzLwsDB",
    "lines_to_next_cell": 0
   },
   "source": [
    "Maintenant, importez tous les modules que nous allons utiliser pour ce tutoriel en exécutant la cellule suivante :\n"
   ]
  },
  {
   "cell_type": "code",
   "execution_count": 3,
   "metadata": {
    "colab": {
     "base_uri": "https://localhost:8080/",
     "height": 52
    },
    "colab_type": "code",
    "id": "w9LnNnxBw0wC",
    "outputId": "2423e91f-ab6a-4ad2-db83-948e14bf0f89"
   },
   "outputs": [
    {
     "name": "stdout",
     "output_type": "stream",
     "text": [
      "Version de torch:  1.6.0\n",
      "GPU disponible: False\n"
     ]
    }
   ],
   "source": [
    "import torch\n",
    "import pandas as pd\n",
    "import numpy as np\n",
    "import matplotlib.pyplot as plt\n",
    "%matplotlib inline\n",
    "\n",
    "seed = 1234\n",
    "np.random.seed(seed) # Set the random seed of numpy for the data split.\n",
    "\n",
    "use_gpu = torch.cuda.is_available()\n",
    "device = torch.device(\"cuda:0\" if use_gpu else \"cpu\")\n",
    "\n",
    "\n",
    "print(\"Version de torch: \", torch.__version__)\n",
    "print(\"GPU disponible: {}\".format(use_gpu))"
   ]
  },
  {
   "cell_type": "markdown",
   "metadata": {
    "colab_type": "text",
    "id": "ZKzgFV9Favkt",
    "lines_to_next_cell": 0
   },
   "source": [
    "## PyTorch en quelques mots\n"
   ]
  },
  {
   "cell_type": "markdown",
   "metadata": {
    "colab_type": "text",
    "id": "Vrus_-F0avkt",
    "lines_to_next_cell": 0
   },
   "source": [
    "*PyTorch* est une bibliothèque Python qui soutien un écosystème dynamique d'outils et de bibliothèques pour l’AA en vision, TLN, et plus encore. Elle offre deux fonctionnalités de haut niveau :\n",
    "\n",
    "<ul>\n",
    "<li> opérations sur des <a href=\"https://pytorch.org/tutorials/beginner/blitz/tensor_tutorial.html#sphx-glr-beginner-blitz-tensor-tutorial-py\">tenseurs</a> (tels que NumPy) avec soutien pour GPU,</li>\n",
    "<li> des opérations de création et d'optimisation de graphes de calcul avec un système de dérivation automatique appelé <a href=\"https://pytorch.org/tutorials/beginner/blitz/autograd_tutorial.html#sphx-glr-beginner-blitz-autograd-tutorial-py\">Autograd</a>.</li>\n",
    "</ul>\n",
    "<a href=\"https://pytorch.org/docs/stable/torch.html\">Les documents PyTorch</a> contiennent la documentation API et <a href=\"https://pytorch.org/tutorials/\">de nombreux tutoriels</a>. De plus, PyTorch offre plusieurs fonctionnalités de traitement de données. L'une de ces fonctionnalités est la classe <a href=\"http://pytorch.org/docs/master/data.html#\"> `torch.utils.data.Dataset`</a> qui offre une interface facile à utiliser pour gérer un ensemble de données. Pour plus d'informations, référez-vous aux url suivantes :\n",
    "\n",
    "<ul>\n",
    "<li>Ensembles de données PyTorch: <a href=\"http://pytorch.org/docs/master/data.html\"> PyTorch - datasets</a>.</li>\n",
    "<li>Un tutoriel de téléchargement de données: <a href=\"http://pytorch.org/tutorials/beginner/data_loading_tutorial.html\"> PyTorch - data loading tutorial</a>.</li>\n",
    "</ul>\n",
    "<a href=\"http://pytorch.org/docs/master/cuda.html#module-torch.cuda\">`torch.cuda`</a> Est une bibliothèque qui fournit les mêmes fonctions que les tenseurs de CPU mais pour les tenseurs CUDA, qui sont utilisés pour le calcul sur GPU. <a href=\"http://pytorch.org/docs/master/cuda.html#torch.cuda.is_available\">`torch.cuda.is_available()`</a> Retourne une valeur booléenne indiquant si CUDA est actuellement disponible. Enfin, nous vous recommandons d'utiliser une variable `device` qui identifie le périphérique sur lequel vous souhaitez effectuer des calculs. Nous pouvons affecter un tenseur à un périphérique avec la méthode `.to(device)`. Par défaut, les tenseurs sont des tenseurs de CPU.\n"
   ]
  },
  {
   "cell_type": "markdown",
   "metadata": {
    "colab_type": "text",
    "id": "Qm122vNmq92L",
    "lines_to_next_cell": 0
   },
   "source": [
    "## Ingrédients pour une preuve de concept (POC)\n"
   ]
  },
  {
   "cell_type": "markdown",
   "metadata": {
    "colab_type": "text",
    "id": "nqvhR0ebavmE",
    "lines_to_next_cell": 0
   },
   "source": [
    "Pour réaliser un POC en AA, vous avez besoin de :\n",
    "\n",
    "<ul>\n",
    "<li>une description de la tâche ainsi que des données à l'appui,</li>\n",
    "<li>une mesure d'évaluation pour évaluer la performance d'un modèle,</li>\n",
    "<li>une description du modèle, </li>\n",
    "<li>une fonction de coût à optimiser,</li>\n",
    "<li>un optimiseur qui ajuste les paramètres du modèle.</li>\n",
    "</ul>"
   ]
  },
  {
   "cell_type": "markdown",
   "metadata": {
    "colab_type": "text",
    "id": "Y8_pfpu2f6AO",
    "lines_to_next_cell": 0
   },
   "source": [
    "# Comment préparer l’ensemble de données ?\n"
   ]
  },
  {
   "cell_type": "markdown",
   "metadata": {
    "colab_type": "text",
    "id": "B5piZxYUhSzq",
    "lines_to_next_cell": 0
   },
   "source": [
    "Notre tâche est de prédire si un passager a survécu ou non au naufrage du Titanic seulement en fonction de la base des données des passagers.\n"
   ]
  },
  {
   "cell_type": "markdown",
   "metadata": {
    "colab_type": "text",
    "id": "y4GuYNDFavlU",
    "lines_to_next_cell": 0
   },
   "source": [
    "## Ensemble de données Titanic\n"
   ]
  },
  {
   "cell_type": "markdown",
   "metadata": {
    "colab_type": "text",
    "id": "NiOJx2ytavlU",
    "lines_to_next_cell": 0
   },
   "source": [
    "Nous pouvons télécharger le jeu de données Titanic à l'adresse suivante : https://github.com/afansi/winterschool18/blob/master/titanic3.csv?raw=true.<br/> Cet ensemble de données fournit des informations sur le sort de 1309 passagers du premier et unique voyage du bateau \"RMS Titanic\", résumé par le statut économique (classe), sexe, âge, informations familiales et survie. La plate-forme Kaggle utilise également cet ensemble de données comme une introduction à l'apprentissage automatique classique. Ici, nous l'utilisons pour introduire des concepts plus avancés liés à PyTorch et à l'apprentissage profond.\n",
    "\n",
    "Nous utilisons la bibliothèque <a href=\"https://pandas.pydata.org/\">Pandas</a> pour stocker le jeu de données en mémoire.\n"
   ]
  },
  {
   "cell_type": "code",
   "execution_count": 5,
   "metadata": {
    "colab": {
     "base_uri": "https://localhost:8080/",
     "height": 271
    },
    "colab_type": "code",
    "id": "bX_RSiffavlW",
    "outputId": "65feb3e0-c4e7-4812-e918-3767946f865d"
   },
   "outputs": [
    {
     "data": {
      "text/html": [
       "<div>\n",
       "<style scoped>\n",
       "    .dataframe tbody tr th:only-of-type {\n",
       "        vertical-align: middle;\n",
       "    }\n",
       "\n",
       "    .dataframe tbody tr th {\n",
       "        vertical-align: top;\n",
       "    }\n",
       "\n",
       "    .dataframe thead th {\n",
       "        text-align: right;\n",
       "    }\n",
       "</style>\n",
       "<table border=\"1\" class=\"dataframe\">\n",
       "  <thead>\n",
       "    <tr style=\"text-align: right;\">\n",
       "      <th></th>\n",
       "      <th>pclass</th>\n",
       "      <th>survived</th>\n",
       "      <th>name</th>\n",
       "      <th>sex</th>\n",
       "      <th>age</th>\n",
       "      <th>sibsp</th>\n",
       "      <th>parch</th>\n",
       "      <th>ticket</th>\n",
       "      <th>fare</th>\n",
       "      <th>cabin</th>\n",
       "      <th>embarked</th>\n",
       "      <th>boat</th>\n",
       "      <th>body</th>\n",
       "      <th>home.dest</th>\n",
       "    </tr>\n",
       "  </thead>\n",
       "  <tbody>\n",
       "    <tr>\n",
       "      <th>0</th>\n",
       "      <td>1</td>\n",
       "      <td>1</td>\n",
       "      <td>Allen, Miss. Elisabeth Walton</td>\n",
       "      <td>female</td>\n",
       "      <td>29.0000</td>\n",
       "      <td>0</td>\n",
       "      <td>0</td>\n",
       "      <td>24160</td>\n",
       "      <td>211.3375</td>\n",
       "      <td>B5</td>\n",
       "      <td>S</td>\n",
       "      <td>2</td>\n",
       "      <td>NaN</td>\n",
       "      <td>St Louis, MO</td>\n",
       "    </tr>\n",
       "    <tr>\n",
       "      <th>1</th>\n",
       "      <td>1</td>\n",
       "      <td>1</td>\n",
       "      <td>Allison, Master. Hudson Trevor</td>\n",
       "      <td>male</td>\n",
       "      <td>0.9167</td>\n",
       "      <td>1</td>\n",
       "      <td>2</td>\n",
       "      <td>113781</td>\n",
       "      <td>151.5500</td>\n",
       "      <td>C22 C26</td>\n",
       "      <td>S</td>\n",
       "      <td>11</td>\n",
       "      <td>NaN</td>\n",
       "      <td>Montreal, PQ / Chesterville, ON</td>\n",
       "    </tr>\n",
       "    <tr>\n",
       "      <th>2</th>\n",
       "      <td>1</td>\n",
       "      <td>0</td>\n",
       "      <td>Allison, Miss. Helen Loraine</td>\n",
       "      <td>female</td>\n",
       "      <td>2.0000</td>\n",
       "      <td>1</td>\n",
       "      <td>2</td>\n",
       "      <td>113781</td>\n",
       "      <td>151.5500</td>\n",
       "      <td>C22 C26</td>\n",
       "      <td>S</td>\n",
       "      <td>NaN</td>\n",
       "      <td>NaN</td>\n",
       "      <td>Montreal, PQ / Chesterville, ON</td>\n",
       "    </tr>\n",
       "    <tr>\n",
       "      <th>3</th>\n",
       "      <td>1</td>\n",
       "      <td>0</td>\n",
       "      <td>Allison, Mr. Hudson Joshua Creighton</td>\n",
       "      <td>male</td>\n",
       "      <td>30.0000</td>\n",
       "      <td>1</td>\n",
       "      <td>2</td>\n",
       "      <td>113781</td>\n",
       "      <td>151.5500</td>\n",
       "      <td>C22 C26</td>\n",
       "      <td>S</td>\n",
       "      <td>NaN</td>\n",
       "      <td>135.0</td>\n",
       "      <td>Montreal, PQ / Chesterville, ON</td>\n",
       "    </tr>\n",
       "    <tr>\n",
       "      <th>4</th>\n",
       "      <td>1</td>\n",
       "      <td>0</td>\n",
       "      <td>Allison, Mrs. Hudson J C (Bessie Waldo Daniels)</td>\n",
       "      <td>female</td>\n",
       "      <td>25.0000</td>\n",
       "      <td>1</td>\n",
       "      <td>2</td>\n",
       "      <td>113781</td>\n",
       "      <td>151.5500</td>\n",
       "      <td>C22 C26</td>\n",
       "      <td>S</td>\n",
       "      <td>NaN</td>\n",
       "      <td>NaN</td>\n",
       "      <td>Montreal, PQ / Chesterville, ON</td>\n",
       "    </tr>\n",
       "  </tbody>\n",
       "</table>\n",
       "</div>"
      ],
      "text/plain": [
       "   pclass  survived                                             name     sex  \\\n",
       "0       1         1                    Allen, Miss. Elisabeth Walton  female   \n",
       "1       1         1                   Allison, Master. Hudson Trevor    male   \n",
       "2       1         0                     Allison, Miss. Helen Loraine  female   \n",
       "3       1         0             Allison, Mr. Hudson Joshua Creighton    male   \n",
       "4       1         0  Allison, Mrs. Hudson J C (Bessie Waldo Daniels)  female   \n",
       "\n",
       "       age  sibsp  parch  ticket      fare    cabin embarked boat   body  \\\n",
       "0  29.0000      0      0   24160  211.3375       B5        S    2    NaN   \n",
       "1   0.9167      1      2  113781  151.5500  C22 C26        S   11    NaN   \n",
       "2   2.0000      1      2  113781  151.5500  C22 C26        S  NaN    NaN   \n",
       "3  30.0000      1      2  113781  151.5500  C22 C26        S  NaN  135.0   \n",
       "4  25.0000      1      2  113781  151.5500  C22 C26        S  NaN    NaN   \n",
       "\n",
       "                         home.dest  \n",
       "0                     St Louis, MO  \n",
       "1  Montreal, PQ / Chesterville, ON  \n",
       "2  Montreal, PQ / Chesterville, ON  \n",
       "3  Montreal, PQ / Chesterville, ON  \n",
       "4  Montreal, PQ / Chesterville, ON  "
      ]
     },
     "execution_count": 5,
     "metadata": {},
     "output_type": "execute_result"
    }
   ],
   "source": [
    "titanic_df = pd.read_csv(\n",
    "    'https://github.com/afansi/winterschool18/blob/master/titanic3.csv?raw=true', \n",
    "    sep='\\t', \n",
    "    index_col=None, \n",
    "    na_values=['NA']\n",
    ")\n",
    "\n",
    "# un aperçu des 5 premiers points de données\n",
    "titanic_df.head()\n",
    "\n"
   ]
  },
  {
   "cell_type": "markdown",
   "metadata": {
    "colab_type": "text",
    "id": "yj88WmCmavlf",
    "lines_to_next_cell": 0
   },
   "source": [
    "**La signification des différentes colonnes (caractéristiques) est la suivante**:\n",
    "\n",
    "<ol>\n",
    "  <li> <b>pclass</b>: Classe du passager (1 = première; 2 = deuxième; 3 = troisième) </li>\n",
    "  <li> <b>survived</b>: Survécu? (0 = non; 1 = oui) </li>\n",
    "  <li> <b>name</b>: Nom </li>\n",
    "  <li> <b>sex</b>: Sexe </li>\n",
    "  <li> <b>age</b>: Âge </li>\n",
    "  <li> <b>sibsp</b>: Nombre de frères, soeurs, ou conjoints à bord </li>\n",
    "  <li> <b>parch</b>: Nombre de parents ou d'enfants à bord </li>\n",
    "  <li> <b>ticket</b>: Numéro de ticket </li>\n",
    "  <li> <b>fare</b>: Tarif du passager </li>\n",
    "  <li> <b>cabin</b>: Numéro de cabine </li>\n",
    "  <li> <b>embarked</b>: Port d'embarquement (C = Cherbourg; Q = Queenstown; S = Southampton) </li>\n",
    "  <li> <b>boat</b>: Bateau de sauvetage (si le passager a survécu) </li>\n",
    "  <li> <b>body</b>: Numéro du corps (si le passager n'a pas survécu et que le corps a été retrouvé) </li>\n",
    "  <li> <b>home.dest</b>: Destination du passager </li>\n",
    " </ol>"
   ]
  },
  {
   "cell_type": "markdown",
   "metadata": {
    "colab_type": "text",
    "id": "u2ed5fozqjce",
    "lines_to_next_cell": 0
   },
   "source": [
    "## Pré-traitement des données\n"
   ]
  },
  {
   "cell_type": "markdown",
   "metadata": {
    "colab_type": "text",
    "id": "__vcZhPnavlg",
    "lines_to_next_cell": 0
   },
   "source": [
    "### Sélection de caractéristique\n",
    "\n",
    "Certaines caractéristiques ne sont pas pertinentes pour la tâche, par exemple :\n",
    "\n",
    "<ol>\n",
    "  <li> <b>name</b>: Nom </li>\n",
    "  <li> <b>ticket</b>: Numéro du ticket </li>\n",
    "  <li> <b>cabin</b>: Numéro de cabine </li>\n",
    "  <li> <b>home.dest</b>: Destination du passager </li>\n",
    " </ol>\n",
    " \n",
    "D'autres caractéristiques dévoilent la cible à prédire et les inclure serait de la triche:\n",
    "<ol>\n",
    "  <li> <b>boat</b>: Bateau de sauvetage (si le passager a survécu) </li>\n",
    "  <li> <b>body</b>: Numéro du corps (si le passager n'a pas survécu et que le corps a été retrouvé)  </li>\n",
    " </ol>"
   ]
  },
  {
   "cell_type": "code",
   "execution_count": 6,
   "metadata": {
    "colab": {
     "base_uri": "https://localhost:8080/",
     "height": 202
    },
    "colab_type": "code",
    "id": "JJ0--SDpavlg",
    "outputId": "bb15e866-2779-4e6f-9deb-4eedf70248ad"
   },
   "outputs": [
    {
     "data": {
      "text/html": [
       "<div>\n",
       "<style scoped>\n",
       "    .dataframe tbody tr th:only-of-type {\n",
       "        vertical-align: middle;\n",
       "    }\n",
       "\n",
       "    .dataframe tbody tr th {\n",
       "        vertical-align: top;\n",
       "    }\n",
       "\n",
       "    .dataframe thead th {\n",
       "        text-align: right;\n",
       "    }\n",
       "</style>\n",
       "<table border=\"1\" class=\"dataframe\">\n",
       "  <thead>\n",
       "    <tr style=\"text-align: right;\">\n",
       "      <th></th>\n",
       "      <th>survived</th>\n",
       "      <th>pclass_1</th>\n",
       "      <th>pclass_2</th>\n",
       "      <th>pclass_3</th>\n",
       "      <th>sex_female</th>\n",
       "      <th>sex_male</th>\n",
       "      <th>age</th>\n",
       "      <th>sibsp</th>\n",
       "      <th>parch</th>\n",
       "      <th>fare</th>\n",
       "      <th>embarked_C</th>\n",
       "      <th>embarked_Q</th>\n",
       "      <th>embarked_S</th>\n",
       "    </tr>\n",
       "  </thead>\n",
       "  <tbody>\n",
       "    <tr>\n",
       "      <th>0</th>\n",
       "      <td>1</td>\n",
       "      <td>1</td>\n",
       "      <td>0</td>\n",
       "      <td>0</td>\n",
       "      <td>1</td>\n",
       "      <td>0</td>\n",
       "      <td>29.0000</td>\n",
       "      <td>0</td>\n",
       "      <td>0</td>\n",
       "      <td>211.3375</td>\n",
       "      <td>0</td>\n",
       "      <td>0</td>\n",
       "      <td>1</td>\n",
       "    </tr>\n",
       "    <tr>\n",
       "      <th>1</th>\n",
       "      <td>1</td>\n",
       "      <td>1</td>\n",
       "      <td>0</td>\n",
       "      <td>0</td>\n",
       "      <td>0</td>\n",
       "      <td>1</td>\n",
       "      <td>0.9167</td>\n",
       "      <td>1</td>\n",
       "      <td>2</td>\n",
       "      <td>151.5500</td>\n",
       "      <td>0</td>\n",
       "      <td>0</td>\n",
       "      <td>1</td>\n",
       "    </tr>\n",
       "    <tr>\n",
       "      <th>2</th>\n",
       "      <td>0</td>\n",
       "      <td>1</td>\n",
       "      <td>0</td>\n",
       "      <td>0</td>\n",
       "      <td>1</td>\n",
       "      <td>0</td>\n",
       "      <td>2.0000</td>\n",
       "      <td>1</td>\n",
       "      <td>2</td>\n",
       "      <td>151.5500</td>\n",
       "      <td>0</td>\n",
       "      <td>0</td>\n",
       "      <td>1</td>\n",
       "    </tr>\n",
       "    <tr>\n",
       "      <th>3</th>\n",
       "      <td>0</td>\n",
       "      <td>1</td>\n",
       "      <td>0</td>\n",
       "      <td>0</td>\n",
       "      <td>0</td>\n",
       "      <td>1</td>\n",
       "      <td>30.0000</td>\n",
       "      <td>1</td>\n",
       "      <td>2</td>\n",
       "      <td>151.5500</td>\n",
       "      <td>0</td>\n",
       "      <td>0</td>\n",
       "      <td>1</td>\n",
       "    </tr>\n",
       "    <tr>\n",
       "      <th>4</th>\n",
       "      <td>0</td>\n",
       "      <td>1</td>\n",
       "      <td>0</td>\n",
       "      <td>0</td>\n",
       "      <td>1</td>\n",
       "      <td>0</td>\n",
       "      <td>25.0000</td>\n",
       "      <td>1</td>\n",
       "      <td>2</td>\n",
       "      <td>151.5500</td>\n",
       "      <td>0</td>\n",
       "      <td>0</td>\n",
       "      <td>1</td>\n",
       "    </tr>\n",
       "  </tbody>\n",
       "</table>\n",
       "</div>"
      ],
      "text/plain": [
       "   survived  pclass_1  pclass_2  pclass_3  sex_female  sex_male      age  \\\n",
       "0         1         1         0         0           1         0  29.0000   \n",
       "1         1         1         0         0           0         1   0.9167   \n",
       "2         0         1         0         0           1         0   2.0000   \n",
       "3         0         1         0         0           0         1  30.0000   \n",
       "4         0         1         0         0           1         0  25.0000   \n",
       "\n",
       "   sibsp  parch      fare  embarked_C  embarked_Q  embarked_S  \n",
       "0      0      0  211.3375           0           0           1  \n",
       "1      1      2  151.5500           0           0           1  \n",
       "2      1      2  151.5500           0           0           1  \n",
       "3      1      2  151.5500           0           0           1  \n",
       "4      1      2  151.5500           0           0           1  "
      ]
     },
     "execution_count": 6,
     "metadata": {},
     "output_type": "execute_result"
    }
   ],
   "source": [
    "titanic_preprocess_df = pd.read_csv(\n",
    "    'https://github.com/afansi/winterschool18/blob/master/titanic_prepocess.csv?raw=true', \n",
    "    sep=',', \n",
    "    index_col=None\n",
    ")\n",
    "\n",
    "titanic_preprocess_df.head()"
   ]
  },
  {
   "cell_type": "markdown",
   "metadata": {
    "colab_type": "text",
    "id": "4MckYm0M_xhR",
    "lines_to_next_cell": 0
   },
   "source": [
    "### Encodage de Caractéristiques\n",
    "\n",
    "Certaines caractéristiques sont des **variables catégorielles**, ce qui signifie qu'elles peuvent prendre un nombre fini de valeurs.\n",
    "\n",
    " <ol>\n",
    "  <li> <b>pclass</b>: Classe du passager </li>\n",
    "  <li> <b>sex</b>: Sexe </li>\n",
    "  <li> <b>embarked</b>: Port d'embarquement </li>\n",
    " </ol>\n",
    "Pour traiter les variables catégorielles, nous devons les encoder d'une manière qui n'implique pas un ordre arbitraire, comme l'utilisation de nombres naturels (par exemple, 1, 2, 3). <a href=\"http://scikit-learn.org/stable/modules/generated/sklearn.preprocessing.OneHotEncoder.html\">L’ encodage one-hot (1 parmi n)</a> est un moyen de le réaliser. Nous pouvons télécharger le jeu de données pré-traité à l'adresse suivante : https://github.com/afansi/winterschool18/blob/master/titanic\\_prepocess.csv?raw=true . <br>La signification des variables encodées est la suivante :\n",
    "\n",
    "<ol>\n",
    "  <li> <b>survived</b>: Survécu? (0 = non; 1 = oui) </li>\n",
    "  <li> <b>pclass_1</b>: (1 si passager en première classe; 0 sinon) </li>\n",
    "  <li> <b>pclass_2</b>: (1 si passager en deuxième classe; 0 sinon) </li>\n",
    "  <li> <b>pclass_3</b>: (1 si passager en troisième classe; 0 sinon) </li>\n",
    "  <li> <b>sex_female</b>: (1 si passager est une femme; 0 sinon) </li>\n",
    "  <li> <b>sex_male</b>: (1 si passager est un homme ; 0 sinon) </li>\n",
    "  <li> <b>age</b>: Âge </li>\n",
    "  <li> <b>sibsp</b>: Nombre de frères, soeurs, ou conjoints à bord </li>\n",
    "  <li> <b>parch</b>: Nombre de parents ou d'enfants à bord </li>\n",
    "  <li> <b>fare</b>: Tarif du passager </li>\n",
    "  <li> <b>embarked_C</b>: (1 si Port d'embarquement = Cherbourg (C); 0 sinon) </li> \n",
    "  <li> <b>embarked_Q</b>: (1 si Port d'embarquement = Queenstown (Q); 0 sinon) </li> \n",
    "  <li> <b>embarked_S</b>: (1 si Port d'embarquement = Southampton (S); 0 sinon)</li> \n",
    " </ol"
   ]
  },
  {
   "cell_type": "markdown",
   "metadata": {
    "colab_type": "text",
    "id": "QJcs6PUTavlm",
    "lines_to_next_cell": 0
   },
   "source": [
    "## Partition Entraînement / validation / évaluation \n"
   ]
  },
  {
   "cell_type": "markdown",
   "metadata": {
    "colab_type": "text",
    "id": "Bjbgvffmavlo",
    "lines_to_next_cell": 0
   },
   "source": [
    "À ce stade, nous devons diviser l'ensemble de données en trois sous-ensembles:\n",
    "\n",
    "<ol>\n",
    "<li> <b> Train</b> (généralement 60% de l'ensemble de données): utilisé pour entraîner le modèle de classification. </li>   \n",
    "<li> <b> Validation</b> (généralement 20% de l'ensemble de données): utilisé pour évaluer les hyper-paramètres sur un ensemble de données différent. </li>   \n",
    "<li> <b> Test</b> (généralement 20% de l'ensemble de données): utilisé pour évaluer la performance de généralisation du modèle choisi sur un ensemble de données différent. </li>\n",
    "</ol>\n",
    "Nous utilisons la <a href=\"https://docs.scipy.org/doc/numpy-1.15.1/reference/generated/numpy.split.html\">fonction numpy.split</a> pour séparer notre ensemble de données en sous-ensembles.\n"
   ]
  },
  {
   "cell_type": "code",
   "execution_count": 7,
   "metadata": {
    "colab": {},
    "colab_type": "code",
    "id": "GBmL8VBOavlo"
   },
   "outputs": [],
   "source": [
    "train, validate, test = np.split(\n",
    "    titanic_preprocess_df.sample(frac=1, random_state=seed), \n",
    "    [int(.6*len(titanic_preprocess_df)), int(.8*len(titanic_preprocess_df))])\n",
    "\n",
    "# Retirez la colonne d'étiquettes de X et créez un vecteur d'étiquettes.\n",
    "X_train = train.drop(['survived'], axis=1).values\n",
    "y_train = train['survived'].values\n",
    "\n",
    "X_val = validate.drop(['survived'], axis=1).values\n",
    "y_val = validate['survived'].values\n",
    "\n",
    "X_test = test.drop(['survived'], axis=1).values\n",
    "y_test = test['survived'].values"
   ]
  },
  {
   "cell_type": "markdown",
   "metadata": {
    "colab_type": "text",
    "id": "wv74TbIWavlr",
    "lines_to_next_cell": 0
   },
   "source": [
    "## Ensemble de données dans PyTorch\n"
   ]
  },
  {
   "cell_type": "markdown",
   "metadata": {
    "colab_type": "text",
    "id": "9_LJtG-Xavlt",
    "lines_to_next_cell": 0
   },
   "source": [
    "Nous utiliserons la sous-classe <b><a href=\"http://pytorch.org/docs/master/data.html#\"> `torch.utils.data.TensorDataset`</a> </b> pour manipuler ensemble les caractéristiques et les cibles d'un ensemble de données.\n"
   ]
  },
  {
   "cell_type": "code",
   "execution_count": 8,
   "metadata": {
    "colab": {},
    "colab_type": "code",
    "id": "1JtT4tV7avlt"
   },
   "outputs": [],
   "source": [
    "from torch.utils.data import TensorDataset\n",
    "\n",
    "train_dataset = TensorDataset(torch.from_numpy(X_train).float(), torch.from_numpy(y_train).long())\n",
    "\n",
    "val_dataset = TensorDataset(torch.from_numpy(X_val).float(), torch.from_numpy(y_val).long())\n",
    "\n",
    "test_dataset = TensorDataset(torch.from_numpy(X_test).float(), torch.from_numpy(y_test).long())"
   ]
  },
  {
   "cell_type": "markdown",
   "metadata": {
    "colab_type": "text",
    "id": "obEPHnlTavkc",
    "lines_to_next_cell": 0
   },
   "source": [
    "# Comment définir l'algorithme d'apprentissage ?\n"
   ]
  },
  {
   "cell_type": "markdown",
   "metadata": {
    "colab_type": "text",
    "id": "qhN5GL6Gavks",
    "lines_to_next_cell": 0
   },
   "source": [
    "Un perceptron multicouche (MLP/PMC) est un simple graphe de calcul composé de \"couches cachées\", qui sont définies par deux modules: Une *transformation linéaire* suivie d'une *non-linéarité*. Le résultat d'une couche cachée est un vecteur appelé *représentation distribuée* où chaque composant est associé à plusieurs unités cachées.\n",
    "\n",
    "Pour entraîner ce modèle, nous devons définir :\n",
    "\n",
    "<ul>\n",
    "<li>l'architecture du réseau en choisissant la fonction non linéaire et le nombre d'unités cachées par couche, </li>\n",
    "<li>la fonction de coût et l'optimiseur.  </li>\n",
    "</ul>\n",
    "Pour résoudre notre tâche, nous allons utiliser un MLP avec les propriétés suivantes :\n",
    "\n",
    " <ul>\n",
    " <li> la dimension d'entrée du modèle est de 12,</li>\n",
    " <li> la dimension de sortie du modèle est de 2,</li>\n",
    " <li> la première dimension de la sortie est la probabilité de décès et la deuxième dimension est la probabilité de survie,</li>\n",
    "  <li> le nombre de couches cachées est de 3, </li>\n",
    " <li> les dimensions des couches cachées sont respectivement de 20, 40, 20, </li>\n",
    " <li> la fonction d'activation est une ReLu pour toutes les couches cachées. </li>\n",
    " </ul>"
   ]
  },
  {
   "cell_type": "markdown",
   "metadata": {
    "colab_type": "text",
    "id": "701t0e-ravkr",
    "lines_to_next_cell": 0
   },
   "source": [
    "## Comment définir un modèle dans PyTorch?\n"
   ]
  },
  {
   "cell_type": "markdown",
   "metadata": {
    "colab_type": "text",
    "id": "m4F5cyijavkv",
    "lines_to_next_cell": 0
   },
   "source": [
    "La <a href=\"https://pytorch.org/docs/stable/nn.html\">bibliothèque PyTorch NN</a> contient de nombreuses classes utiles pour la création de graphes de calcul.\n",
    "\n",
    "<ul>\n",
    "<li> La classe <a href=\"http://pytorch.org/docs/master/nn.html#module\">torch.nn.Module</a>: \n",
    "tout nouveau module doit hériter de cette classe ou de ses descendants (sous-classes).\n",
    "</li>   \n",
    "<li> La méthode `forward` : toute classe définissant un module doit implémenter la méthode `forward(...)`, qui définit la transformation des entrées en sorties.</li>  \n",
    "<li> La classe <a href=\"http://pytorch.org/docs/master/nn.html#torch.nn.Linear\">`torch.nn.Linear(in_features, out_features)`</a>: cette classe implémente une transformation linéaire. Par défaut, elle prend deux paramètres : \n",
    "    <ul>\n",
    "    <li>`in_features`: la taille des données à l'entrée du module. </li>\n",
    "    <li>`out_features`: la taille des données à la sortie du module. </li>\n",
    "    </ul>\n",
    "</li>\n",
    "<li> Le module <a href=\"http://pytorch.org/docs/master/nn.html#torch-nn-functional\">`torch.nn.functional`</a>: \n",
    "elle définit un ensemble de fonctions qui peuvent être appliquées directement à n'importe quel tenseur. À titre d'exemple, nous avons :\n",
    "    <ul>\n",
    "    <li> les fonctions non-linéaires: sigmoid(...), tanh(...), relu(...), etc...</li> \n",
    "    <li> les fonctions de coût : mse_loss(...), nll(...., cross_entropy(...), etc ...</li> \n",
    "    <li> les fonctions de régularisation: droupout(...), etc ... </li> \n",
    "    <li> ...</li> \n",
    "    </ul>\n",
    "</li>\n",
    "</ul>"
   ]
  },
  {
   "cell_type": "markdown",
   "metadata": {
    "colab_type": "text",
    "id": "Tscha6S-KIBB",
    "lines_to_next_cell": 0
   },
   "source": [
    "Vous devez compléter les méthodes suivantes :\n",
    "\n",
    "<ul>\n",
    "<li>La méthode `__init__` qui définit les couches. </li>\n",
    "<li>La méthode `forward(input)` qui retourne le `output` (sortie). </li>\n",
    "</ul>"
   ]
  },
  {
   "cell_type": "code",
   "execution_count": 12,
   "metadata": {
    "colab": {},
    "colab_type": "code",
    "id": "8NyQGwC-avkw"
   },
   "outputs": [],
   "source": [
    "import torch\n",
    "import torch.nn as nn\n",
    "import torch.nn.functional as F\n",
    "seed = 1234\n",
    "torch.manual_seed(seed)\n",
    "torch.cuda.manual_seed(seed)"
   ]
  },
  {
   "cell_type": "code",
   "execution_count": 13,
   "metadata": {
    "colab": {},
    "colab_type": "code",
    "id": "xR5eBfIbavk0"
   },
   "outputs": [],
   "source": [
    "class NeuralNet(nn.Module):\n",
    "    def __init__(self):\n",
    "        super(NeuralNet, self).__init__()\n",
    "        self.fc1 = nn.Linear(12, 20)\n",
    "        self.fc2 = nn.Linear(20, 40)\n",
    "        self.fc3 = nn.Linear(40, 20)\n",
    "        self.fc4 = nn.Linear(20, 2)\n",
    "\n",
    "    def forward(self, x):\n",
    "        x = F.relu(self.fc1(x))\n",
    "        x = F.relu(self.fc2(x))\n",
    "        x = F.relu(self.fc3(x))\n",
    "        out = self.fc4(x)\n",
    "        return out"
   ]
  },
  {
   "cell_type": "markdown",
   "metadata": {
    "colab_type": "text",
    "id": "OvLnHRZ5avk2",
    "lines_to_next_cell": 0
   },
   "source": [
    "## Faire des prédictions avec un réseau de neurones\n"
   ]
  },
  {
   "cell_type": "markdown",
   "metadata": {
    "colab_type": "text",
    "id": "uEXgJMDDavk3",
    "lines_to_next_cell": 0
   },
   "source": [
    "Maintenant, nous sommes prêts à tester notre réseau de neurones sur des données choisies au hasard.\n",
    "\n",
    "Dans PyTorch, un modèle a deux modes différents : <ul> <li> <b>train</b>: utilisé pendant l’entraînement, </li> <li> <b>eval</b>: utilisé pendant l'inférence pour l'évaluation du modèle. </li> </ul> La distinction est importante car certains modules se comportent différemment selon ce mode. Nous utiliserons le mode <b>évaluation</b> dans cette section.\n"
   ]
  },
  {
   "cell_type": "code",
   "execution_count": 14,
   "metadata": {
    "colab": {
     "base_uri": "https://localhost:8080/",
     "height": 104
    },
    "colab_type": "code",
    "id": "gzcABMezavk6",
    "outputId": "d65d2777-ee2a-4f9d-9259-edb76428ad6f"
   },
   "outputs": [
    {
     "name": "stdout",
     "output_type": "stream",
     "text": [
      "tensor([[0.5093, 0.4907],\n",
      "        [0.5069, 0.4931],\n",
      "        [0.5129, 0.4871],\n",
      "        [0.5022, 0.4978],\n",
      "        [0.4427, 0.5573]], grad_fn=<SoftmaxBackward>)\n"
     ]
    }
   ],
   "source": [
    "# Définition du modèle\n",
    "neural_net = NeuralNet()\n",
    "neural_net = neural_net.to(device)\n",
    "\n",
    "# Activation du mode d'évaluation\n",
    "neural_net = neural_net.eval()\n",
    "\n",
    "# Sélectionner les 5 premiers points de données\n",
    "data, target = val_dataset[0:5]\n",
    "data = data.to(device)\n",
    "target = target.to(device)\n",
    "\n",
    "# Propagation avant des données à travers le modèle\n",
    "output = neural_net(data)   # équivalent à neural_net.forward(data)\n",
    "\n",
    "# Convertir les logits en probabilités avec la fonction softmax\n",
    "output_proba = F.softmax(output, dim=1)\n",
    "\n",
    "# Imprimer la probabilité\n",
    "print(output_proba)"
   ]
  },
  {
   "cell_type": "markdown",
   "metadata": {
    "colab_type": "text",
    "id": "fVep0BElavlS",
    "lines_to_next_cell": 0
   },
   "source": [
    "Les rangées définissent la sortie du réseau, en termes de probabilités sur deux classes : <b>deceased</b> (première colonne) ou <b>survived</b> (deuxième colonne), pour chacun des cinq points de données d'entrée. Prenons l'étiquette avec la probabilité maximale comme étiquette prédite et comparons-la à l'étiquette correcte.\n"
   ]
  },
  {
   "cell_type": "code",
   "execution_count": 15,
   "metadata": {
    "colab": {
     "base_uri": "https://localhost:8080/",
     "height": 87
    },
    "colab_type": "code",
    "id": "_jV4No36qjdU",
    "outputId": "995f5958-ab4d-4c8a-e486-f303405e1e88"
   },
   "outputs": [
    {
     "name": "stdout",
     "output_type": "stream",
     "text": [
      "Prédiction du modèle\n",
      "tensor([0, 0, 0, 0, 1])\n",
      "Données réelles\n",
      "tensor([0, 0, 0, 0, 0])\n"
     ]
    }
   ],
   "source": [
    "# Impression des prédictions (classe avec la plus grande probabilité)\n",
    "_, prediction = torch.max(output_proba, dim=1)\n",
    "\n",
    "print('Prédiction du modèle')\n",
    "print(prediction)\n",
    "\n",
    "# Impression des vraies étiquettes\n",
    "print(\"Données réelles\")\n",
    "print(target)"
   ]
  },
  {
   "cell_type": "markdown",
   "metadata": {
    "colab_type": "text",
    "id": "SEIIjqOuqjdc",
    "lines_to_next_cell": 0
   },
   "source": [
    "**Questions**\n",
    "\n",
    "1. Quelle serait une façon simple de mesurer la performance du modèle ?\n",
    "2. Comment notre modèle performe-t-il ?\n",
    "3. Étant donné que le modèle n'est pas entraîné sur l’ensemble de données, constatez-vous un problème avec la mesure sélectionnée ?\n"
   ]
  },
  {
   "cell_type": "markdown",
   "metadata": {
    "colab_type": "text",
    "id": "iTTlBikYwb-w",
    "lines_to_next_cell": 0
   },
   "source": [
    "\n",
    "**Réponses possibles** :\n",
    "\n",
    "\n",
    "1.   Une mesure simple de la performance est l'exactitude, le nombre de prévisions correctes sur le nombre total d'exemples.\n",
    "2.   Ce modèle a une exactitude de 4/5 = 80%.\n",
    "3.   Avec l'exactitude, nous avons déjà un score de 80% avec un poids aléatoire, ce qui se produit lorsque les étiquettes sont déséquilibrées, et le modèle prédit la classe dominante par hasard. Dans cette section, nous n'utilisons que cinq exemples pour évaluer le modèle, ce qui n'est pas suffisant. Toutefois, si nous observons ce comportement sur tout l'ensemble de validation, nous pouvons alors considérer une autre mesure de performance (par exemple, la précision/le rappel ou le score F1).\n",
    "\n"
   ]
  },
  {
   "cell_type": "markdown",
   "metadata": {
    "colab_type": "text",
    "id": "0uySA2TCavmD",
    "lines_to_next_cell": 0
   },
   "source": [
    "## Définir la fonction de coût et l'optimiseur\n"
   ]
  },
  {
   "cell_type": "markdown",
   "metadata": {
    "colab_type": "text",
    "id": "EkoobCLMavmE",
    "lines_to_next_cell": 0
   },
   "source": [
    "### Fonction de coût\n"
   ]
  },
  {
   "cell_type": "markdown",
   "metadata": {
    "colab_type": "text",
    "id": "qkX7uSXQavmF",
    "lines_to_next_cell": 0
   },
   "source": [
    "Nous définissons la fonction de coût en fonction de la tâche que nous voulons réaliser.\n",
    "\n",
    "PyTorch offre <a href=\"https://pytorch.org/docs/stable/nn.html#loss-functions\">de nombreuses fonctions de coût prêtes à utiliser</a>.\n",
    "\n",
    "Pour les problèmes de classification, la fonction de coût habituelle est <b>l'entropie croisée</b>, et c'est celle que nous utiliserons dans ce tutoriel. Dans PyTorch, elle est définie par la fonction <a href=\"https://pytorch.org/docs/master/nn.functional.html#cross-entropy\">`torch.nn.functional.cross_entropy`</a>.  L'entropie croisée permet de comparer une distribution $p$ avec une distribution de référence $t$. Elle atteint son minimum lorsque $t=p$. La formule pour la calculer avec la prédiction et la cible est la suivante : $-\\sum_j t_{ij} \\log(p_{ij})$ où $p$ est la prédiction, $t$ la cible, $i$ les exemples et $j$ les classes de la cible.\n"
   ]
  },
  {
   "cell_type": "code",
   "execution_count": 16,
   "metadata": {
    "colab": {},
    "colab_type": "code",
    "id": "FHnfYeS5avmF"
   },
   "outputs": [],
   "source": [
    "import torch.nn.functional as F\n",
    "\n",
    "\n",
    "def cost_function(prediction, target):\n",
    "    loss = F.cross_entropy(prediction, target)\n",
    "    return loss"
   ]
  },
  {
   "cell_type": "markdown",
   "metadata": {
    "colab_type": "text",
    "id": "Vsx_cv9Wqjdj",
    "lines_to_next_cell": 0
   },
   "source": [
    "### Rétropropagation\n"
   ]
  },
  {
   "cell_type": "markdown",
   "metadata": {
    "colab_type": "text",
    "id": "0hcZaIKtavmH",
    "lines_to_next_cell": 0
   },
   "source": [
    "Dans PyTorch, grâce au mécanisme de dérivation automatique <a href=\"http://pytorch.org/docs/master/notes/autograd.html\">Autograd</a>, il est possible de calculer automatiquement le gradient de la fonction de coût et de la rétropropager à travers le graphe de calcul.\n",
    "\n",
    "Pour ce faire, il suffit d'appeler la méthode `backward()` sur la variable retournée par la fonction de coût, par exemple, avec\n",
    "\n",
    "`loss = cost_function(....)` <br> `loss.backward()`\n"
   ]
  },
  {
   "cell_type": "markdown",
   "metadata": {
    "colab_type": "text",
    "id": "8YNo_ymYavmH",
    "lines_to_next_cell": 0
   },
   "source": [
    "### Optimisation\n"
   ]
  },
  {
   "cell_type": "markdown",
   "metadata": {
    "colab_type": "text",
    "id": "Y4AlX9TwavmH",
    "lines_to_next_cell": 0
   },
   "source": [
    "PyTorch fournit un <a href=\"http://pytorch.org/docs/master/optim.html#algorithms\">ensemble de méthodes d'optimisation (`torch.optim`)</a> couramment utilisées par la communauté d'apprentissage profond. Ces méthodes incluent les suivantes :\n",
    "\n",
    "<ul>\n",
    "<li><b>SGD</b> (Descente de gradient stochastique) <a href=\"http://pytorch.org/docs/master/optim.html#torch.optim.SGD\">`torch.optim.SGD(net.parameters(), lr=learning_rate)`</a></li>\n",
    "<li><b>Adam</b> (Adaptive Moment Estimation) : une variante de la méthode de descente de gradient dans laquelle le taux d'apprentissage est ajusté pour chaque paramètre. Cet ajustement est basé sur l'estimation des premier et deuxième moments des gradients. Cet optimiseur a démontré d'excellentes performances par rapport à la méthode SGD sur de nombreuses tâches de référence. </li>\n",
    "</ul>"
   ]
  },
  {
   "cell_type": "markdown",
   "metadata": {
    "colab_type": "text",
    "id": "Uam-a0_0qjdl",
    "lines_to_next_cell": 0
   },
   "source": [
    "Pour pouvoir utiliser un optimiseur dans PyTorch, nous devons l'instancier en passant les éléments suivants :\n",
    "\n",
    "<ul>\n",
    "<li><b>Les paramètres du modèle</b> : ils sont obtenus en utilisant la méthode <b>parameters()</b> sur le modèle instancié.</li>\n",
    "    <li><b>Le taux d'apprentissage / <i>learning rate (lr)</i> </b>: c'est le taux d'apprentissage qui doit être utilisé pour mettre à jour les paramètres pendant le processus d'optimisation. </li>\n",
    "<li>Il peut y avoir d'autres paramètres spécifiques à l'optimiseur choisi.</li>\n",
    "</ul>"
   ]
  },
  {
   "cell_type": "markdown",
   "metadata": {
    "colab_type": "text",
    "id": "jt6_Qr6ravmI",
    "lines_to_next_cell": 0
   },
   "source": [
    "PyTorch offre une interface simplifiée pour interagir avec n'importe quel optimiseur :\n",
    "\n",
    "<ul>\n",
    "<li><b>zero_grad()</b>: Permet de réinitialiser les gradients à zéro au début d'une étape d'optimisation.</li>\n",
    "<li><b>step()</b>: Permet d'effectuer une étape d'optimisation après une étape de rétropropagation de gradient.</li>\n",
    "</ul>"
   ]
  },
  {
   "cell_type": "markdown",
   "metadata": {
    "colab_type": "text",
    "id": "fZ-lKExqavmI",
    "lines_to_next_cell": 0
   },
   "source": [
    "Nous utiliserons Adam avec un taux d’apprentissage *(lr)* de 0.001.\n"
   ]
  },
  {
   "cell_type": "code",
   "execution_count": 17,
   "metadata": {
    "colab": {},
    "colab_type": "code",
    "id": "WDMOziJTavmI"
   },
   "outputs": [],
   "source": [
    "import torch.optim as optim\n",
    "\n",
    "optimizer = optim.Adam(neural_net.parameters(), lr=0.001) "
   ]
  },
  {
   "cell_type": "markdown",
   "metadata": {
    "colab_type": "text",
    "id": "OnFOAfdGqjdr",
    "lines_to_next_cell": 0
   },
   "source": [
    "# Comment entraîner un modèle?\n",
    "\n",
    "Tout d'abord, nous avons besoin de définitions :\n",
    "\n",
    "<ol>\n",
    "<li>\n",
    "<b>Époque / Epoch</b>:  un passage complet sur l'ensemble des données d'entraînement.\n",
    "</li>\n",
    "<li>\n",
    "<b>Itération / Iteration</b>: une mise à jour des paramètres du modèle. De nombreuses itérations peuvent se produire avant la fin d'une époque.\n",
    "</li>\n",
    "<li>\n",
    "<b>Mini-lot / Mini-batch</b>:  Un sous-ensemble de données d'entraînement utilisé pour estimer la moyenne des gradients. En d'autres termes, à chaque itération, un mini-lot est utilisé.\n",
    "</li>\n",
    "</ol>"
   ]
  },
  {
   "cell_type": "markdown",
   "metadata": {
    "colab_type": "text",
    "id": "LLXjNiDTavmK",
    "lines_to_next_cell": 0
   },
   "source": [
    "## Création des mini-lots\n",
    "\n",
    "PyTorch offre une fonction appelée <b><a href=\"http://pytorch.org/docs/master/data.html\"> torch.utils.data.DataLoader </a></b> pour charger n'importe quel ensemble de données et le diviser automatiquement en mini-lots. Pendant l’entraînement, les données présentées au réseau doivent apparaître dans un ordre différent d'une époque à l'autre. Nous préparerons le `DataLoader` pour nos trois ensembles de données (entraînement, validation et évaluation).\n"
   ]
  },
  {
   "cell_type": "code",
   "execution_count": 18,
   "metadata": {
    "colab": {},
    "colab_type": "code",
    "id": "RGoQZSdqavmM"
   },
   "outputs": [],
   "source": [
    "train_batch_size = 32  # nombre de données dans un lot d'entraînement.\n",
    "eval_batch_size = 32   # nombre de données dans un lot d'évaluation.\n",
    "\n",
    "\n",
    "train_loader = torch.utils.data.DataLoader(train_dataset, batch_size=train_batch_size, shuffle=True)\n",
    "\n",
    "val_loader   = torch.utils.data.DataLoader(val_dataset, batch_size=eval_batch_size, shuffle=False)\n",
    "test_loader  = torch.utils.data.DataLoader(test_dataset, batch_size=eval_batch_size, shuffle=False)"
   ]
  },
  {
   "cell_type": "markdown",
   "metadata": {
    "colab_type": "text",
    "id": "Ia3ai-GvavmP",
    "lines_to_next_cell": 0
   },
   "source": [
    "## Boucle d'entraînement simple\n"
   ]
  },
  {
   "cell_type": "markdown",
   "metadata": {
    "colab_type": "text",
    "id": "v9wNZrTnavmQ",
    "lines_to_next_cell": 0
   },
   "source": [
    "Nous définissons ici notre procédure d’entraînement pour une époque.\n"
   ]
  },
  {
   "cell_type": "code",
   "execution_count": 19,
   "metadata": {
    "colab": {},
    "colab_type": "code",
    "id": "ZyK9xCsZavmR"
   },
   "outputs": [],
   "source": [
    "def train(epoch, model, train_loader, optimizer, device):\n",
    "    \n",
    "    # activer le mode d'entraînement\n",
    "    model.train()\n",
    "    \n",
    "    torch.set_grad_enabled(True)\n",
    "    \n",
    "    total_loss = 0\n",
    "    correct = 0\n",
    "    \n",
    "    # itération sur les mini-lots\n",
    "    for batch_idx, (data, target) in enumerate(train_loader):\n",
    "        \n",
    "        # transférer les données sur l'appareil choisi\n",
    "        data, target = data.to(device), target.to(device)\n",
    "        \n",
    "        # réinitialiser les gradients à zéro\n",
    "        optimizer.zero_grad()\n",
    "        \n",
    "        # propagation avant sur les données\n",
    "        prediction = model(data)\n",
    "        \n",
    "        # calculer la fonction de coût en fonction des objectifs\n",
    "        loss = cost_function(prediction, target)\n",
    "        \n",
    "        # exécuter la rétropropagation\n",
    "        loss.backward()\n",
    "        \n",
    "        # exécuter une étape d'optimisation\n",
    "        optimizer.step()\n",
    "        \n",
    "        # accumuler les pertes\n",
    "        total_loss += loss.item()*len(data)\n",
    "        \n",
    "        # calculer le nombre de prédictions correctes\n",
    "        _, pred_classes = torch.max(prediction, dim=1)        \n",
    "        correct += pred_classes.eq(target.view_as(pred_classes)).sum().item()\n",
    "         \n",
    "        \n",
    "    # calculer le coût moyen par époque\n",
    "    mean_loss = total_loss/len(train_loader.dataset)\n",
    "    \n",
    "    # calculer l'exactitude\n",
    "    acc = correct / len(train_loader.dataset)\n",
    "        \n",
    "    print(\"Époque d'entraînement: {}   Perte moyenne: {:.5f}   Exac: {}/{} ({:.3f}%)\".format(\n",
    "        epoch, mean_loss, correct, len(train_loader.dataset),\n",
    "        100. * acc))   \n",
    "    \n",
    "    # retourner la perte moyenne et l'exactitude\n",
    "    return mean_loss, acc"
   ]
  },
  {
   "cell_type": "markdown",
   "metadata": {
    "colab_type": "text",
    "id": "PxG666rmavmU",
    "lines_to_next_cell": 0
   },
   "source": [
    "## Procédure d'évaluation\n"
   ]
  },
  {
   "cell_type": "markdown",
   "metadata": {
    "colab_type": "text",
    "id": "vGexbWaHavmU",
    "lines_to_next_cell": 0
   },
   "source": [
    "Nous définissons ici notre procédure d'évaluation du modèle. <br/> Outre le passage du modèle en mode **eval**, il est essentiel de désactiver le calcul du gradient. <br/> Pour ce faire, PyTorch offre un ensemble de gestionnaires de contexte pour <a href=\"https://pytorch.org/docs/0.4.0/torch.html#locally-disabling-gradient-computation\">désactiver/activer localement le calcul de gradient </a>:\n",
    "\n",
    "<ol>\n",
    "<li>\n",
    "`torch.no_grad()`: désactiver le calcul du gradient.\n",
    "</li>\n",
    "<li>\n",
    "`torch.enable_grad()`: activer le calcul du gradient.\n",
    "</li>\n",
    "<li>\n",
    "`torch.set_grad_enabled(bool)`: activer/désactiver le calcul du gradient.\n",
    "</li>\n",
    "</ol>"
   ]
  },
  {
   "cell_type": "code",
   "execution_count": 20,
   "metadata": {
    "colab": {},
    "colab_type": "code",
    "id": "8gQj9W5LavmU"
   },
   "outputs": [],
   "source": [
    "def evaluate(model, eval_loader, device):\n",
    "    \n",
    "    # activer le mode d'évaluation\n",
    "    model.eval()\n",
    "    \n",
    "    total_loss = 0\n",
    "    correct = 0\n",
    "    \n",
    "    with torch.no_grad():\n",
    "    \n",
    "        # itération sur les lots\n",
    "        for batch_idx, (data, target) in enumerate(eval_loader):\n",
    "\n",
    "            # transférer les données sur l'appareil choisi\n",
    "            data, target = data.to(device), target.to(device)\n",
    "\n",
    "            # propagation avant sur les données\n",
    "            prediction = model(data)\n",
    "\n",
    "            # calculer la fonction de coût en fonction des objectifs\n",
    "            loss = cost_function(prediction, target)           \n",
    "\n",
    "\n",
    "            # accumuler les pertes\n",
    "            total_loss += loss.item()*len(data)\n",
    "\n",
    "            # calculer le nombre de prédictions correctes\n",
    "            _, pred_classes = torch.max(prediction, dim=1) \n",
    "            correct += pred_classes.eq(target.view_as(pred_classes)).sum().item()         \n",
    "          \n",
    "    \n",
    "    # calculer le coût moyen par époque\n",
    "    mean_loss = total_loss/len(eval_loader.dataset)\n",
    "    \n",
    "    # calculer l'exactitude\n",
    "    acc = correct / len(eval_loader.dataset)\n",
    "        \n",
    "    print('Eval:  Perte moyenne: {:.5f}   Exac: {}/{} ({:.3f}%)'.format(\n",
    "        mean_loss, correct, len(eval_loader.dataset),\n",
    "        100. * acc)) \n",
    "    \n",
    "    # retourner la perte moyenne et l'exactitude\n",
    "    return mean_loss, acc"
   ]
  },
  {
   "cell_type": "markdown",
   "metadata": {
    "colab_type": "text",
    "id": "fMUyZNxdavmW",
    "lines_to_next_cell": 0
   },
   "source": [
    "## Attribution de points de contrôle (*checkpointing*)\n"
   ]
  },
  {
   "cell_type": "markdown",
   "metadata": {
    "colab_type": "text",
    "id": "lQLklQXAavmW",
    "lines_to_next_cell": 0
   },
   "source": [
    "Pour les phases d’entraînement qui nécessitent beaucoup de temps, il est recommandé d'enregistrer périodiquement les paramètres du modèle. Cette étape est communément appelée <b>attribution de points de contrôle (checkpointing)</b>.\n",
    "\n",
    "PyTorch offre <a href=\"http://pytorch.org/docs/master/notes/serialization.html\">un mécanisme simple</a> pour effectuer cette opération.\n"
   ]
  },
  {
   "cell_type": "markdown",
   "metadata": {
    "colab_type": "text",
    "id": "Ld-Y2gF-avmX",
    "lines_to_next_cell": 0
   },
   "source": [
    "Nous implémentons deux méthodes ici :\n",
    "\n",
    "<ul>\n",
    "<li> la première pour <b> sauvegarder </b> un modèle,</li>\n",
    "<li> la deuxième pour <b> charger </b> un point de contrôle d'un modèle.</li>\n",
    "</ul>"
   ]
  },
  {
   "cell_type": "code",
   "execution_count": 21,
   "metadata": {
    "colab": {},
    "colab_type": "code",
    "id": "dMmNpma2avmX"
   },
   "outputs": [],
   "source": [
    "def save_model(epoch, model, path='./'):\n",
    "    \n",
    "    # créer le nom du fichier indexé par la valeur d'époque\n",
    "    filename = path + 'neural_network_{}.pt'.format(epoch)\n",
    "    \n",
    "    # sauvegarder les paramètres du modèle\n",
    "    torch.save(model.state_dict(), filename)\n",
    "    \n",
    "    \n",
    "    return model\n",
    "    "
   ]
  },
  {
   "cell_type": "code",
   "execution_count": 22,
   "metadata": {
    "colab": {},
    "colab_type": "code",
    "id": "2ZptgqQRavmZ"
   },
   "outputs": [],
   "source": [
    "def load_model(epoch, model, path='./'):\n",
    "    \n",
    "    # créer le nom du fichier indexé par la valeur d'époque\n",
    "    filename = path + 'neural_network_{}.pt'.format(epoch)\n",
    "    \n",
    "    # charger les paramètres du modèle sauvegardé\n",
    "    model.load_state_dict(torch.load(filename))\n",
    "    \n",
    "    \n",
    "    return model"
   ]
  },
  {
   "cell_type": "markdown",
   "metadata": {
    "colab_type": "text",
    "id": "ve8sOocWavma",
    "lines_to_next_cell": 0
   },
   "source": [
    "Il est également possible d'enregistrer l'état de l'optimiseur dans PyTorch, ce qui est très important lorsque nous voulons reprendre l’entraînement du modèle à partir d'une certaine sauvegarde. Pour plus d'informations, veuillez consulter <a href='https://discuss.pytorch.org/t/saving-and-loading-a-model-in-pytorch/2610/3'>l'URL suivant</a>.\n"
   ]
  },
  {
   "cell_type": "markdown",
   "metadata": {
    "colab_type": "text",
    "id": "8lcAP8-1avma",
    "lines_to_next_cell": 0
   },
   "source": [
    "## Rassembler le tout\n"
   ]
  },
  {
   "cell_type": "code",
   "execution_count": 23,
   "metadata": {
    "colab": {
     "base_uri": "https://localhost:8080/",
     "height": 1000
    },
    "colab_type": "code",
    "id": "keMpyePsavmb",
    "outputId": "638ef04a-0f0e-4e8a-8b50-23884324a79b"
   },
   "outputs": [
    {
     "name": "stdout",
     "output_type": "stream",
     "text": [
      "Époque d'entraînement: 1   Perte moyenne: 0.82669   Exac: 275/625 (44.000%)\n",
      "Eval:  Perte moyenne: 0.69597   Exac: 99/209 (47.368%)\n",
      "Époque d'entraînement: 2   Perte moyenne: 0.66111   Exac: 397/625 (63.520%)\n",
      "Eval:  Perte moyenne: 0.65175   Exac: 144/209 (68.900%)\n",
      "Époque d'entraînement: 3   Perte moyenne: 0.63141   Exac: 421/625 (67.360%)\n",
      "Eval:  Perte moyenne: 0.62352   Exac: 145/209 (69.378%)\n",
      "Époque d'entraînement: 4   Perte moyenne: 0.61599   Exac: 423/625 (67.680%)\n",
      "Eval:  Perte moyenne: 0.61681   Exac: 142/209 (67.943%)\n",
      "Époque d'entraînement: 5   Perte moyenne: 0.61261   Exac: 431/625 (68.960%)\n",
      "Eval:  Perte moyenne: 0.60453   Exac: 142/209 (67.943%)\n",
      "Époque d'entraînement: 6   Perte moyenne: 0.61117   Exac: 426/625 (68.160%)\n",
      "Eval:  Perte moyenne: 0.60108   Exac: 144/209 (68.900%)\n",
      "Époque d'entraînement: 7   Perte moyenne: 0.60210   Exac: 427/625 (68.320%)\n",
      "Eval:  Perte moyenne: 0.59878   Exac: 143/209 (68.421%)\n",
      "Époque d'entraînement: 8   Perte moyenne: 0.60072   Exac: 427/625 (68.320%)\n",
      "Eval:  Perte moyenne: 0.59606   Exac: 144/209 (68.900%)\n",
      "Époque d'entraînement: 9   Perte moyenne: 0.59455   Exac: 429/625 (68.640%)\n",
      "Eval:  Perte moyenne: 0.58268   Exac: 145/209 (69.378%)\n",
      "Époque d'entraînement: 10   Perte moyenne: 0.58700   Exac: 429/625 (68.640%)\n",
      "Eval:  Perte moyenne: 0.57752   Exac: 146/209 (69.856%)\n",
      "Époque d'entraînement: 11   Perte moyenne: 0.57737   Exac: 435/625 (69.600%)\n",
      "Eval:  Perte moyenne: 0.56965   Exac: 146/209 (69.856%)\n",
      "Époque d'entraînement: 12   Perte moyenne: 0.56613   Exac: 445/625 (71.200%)\n",
      "Eval:  Perte moyenne: 0.56516   Exac: 146/209 (69.856%)\n",
      "Époque d'entraînement: 13   Perte moyenne: 0.55887   Exac: 454/625 (72.640%)\n",
      "Eval:  Perte moyenne: 0.55602   Exac: 151/209 (72.249%)\n",
      "Époque d'entraînement: 14   Perte moyenne: 0.55907   Exac: 456/625 (72.960%)\n",
      "Eval:  Perte moyenne: 0.56250   Exac: 147/209 (70.335%)\n",
      "Époque d'entraînement: 15   Perte moyenne: 0.54461   Exac: 462/625 (73.920%)\n",
      "Eval:  Perte moyenne: 0.53498   Exac: 152/209 (72.727%)\n",
      "Époque d'entraînement: 16   Perte moyenne: 0.52883   Exac: 471/625 (75.360%)\n",
      "Eval:  Perte moyenne: 0.52431   Exac: 156/209 (74.641%)\n",
      "Époque d'entraînement: 17   Perte moyenne: 0.50891   Exac: 478/625 (76.480%)\n",
      "Eval:  Perte moyenne: 0.52312   Exac: 157/209 (75.120%)\n",
      "Époque d'entraînement: 18   Perte moyenne: 0.49627   Exac: 483/625 (77.280%)\n",
      "Eval:  Perte moyenne: 0.50566   Exac: 161/209 (77.033%)\n",
      "Époque d'entraînement: 19   Perte moyenne: 0.48700   Exac: 485/625 (77.600%)\n",
      "Eval:  Perte moyenne: 0.51311   Exac: 165/209 (78.947%)\n",
      "Époque d'entraînement: 20   Perte moyenne: 0.49819   Exac: 480/625 (76.800%)\n",
      "Eval:  Perte moyenne: 0.50521   Exac: 163/209 (77.990%)\n",
      "Époque d'entraînement: 21   Perte moyenne: 0.46607   Exac: 498/625 (79.680%)\n",
      "Eval:  Perte moyenne: 0.50268   Exac: 158/209 (75.598%)\n",
      "Époque d'entraînement: 22   Perte moyenne: 0.48540   Exac: 484/625 (77.440%)\n",
      "Eval:  Perte moyenne: 0.50149   Exac: 163/209 (77.990%)\n",
      "Époque d'entraînement: 23   Perte moyenne: 0.47134   Exac: 483/625 (77.280%)\n",
      "Eval:  Perte moyenne: 0.50674   Exac: 164/209 (78.469%)\n",
      "Époque d'entraînement: 24   Perte moyenne: 0.46481   Exac: 492/625 (78.720%)\n",
      "Eval:  Perte moyenne: 0.50154   Exac: 164/209 (78.469%)\n",
      "Époque d'entraînement: 25   Perte moyenne: 0.46043   Exac: 494/625 (79.040%)\n",
      "Eval:  Perte moyenne: 0.49345   Exac: 167/209 (79.904%)\n",
      "Époque d'entraînement: 26   Perte moyenne: 0.44816   Exac: 496/625 (79.360%)\n",
      "Eval:  Perte moyenne: 0.49766   Exac: 165/209 (78.947%)\n",
      "Époque d'entraînement: 27   Perte moyenne: 0.44127   Exac: 498/625 (79.680%)\n",
      "Eval:  Perte moyenne: 0.50072   Exac: 166/209 (79.426%)\n",
      "Époque d'entraînement: 28   Perte moyenne: 0.44017   Exac: 507/625 (81.120%)\n",
      "Eval:  Perte moyenne: 0.49737   Exac: 163/209 (77.990%)\n",
      "Époque d'entraînement: 29   Perte moyenne: 0.43723   Exac: 502/625 (80.320%)\n",
      "Eval:  Perte moyenne: 0.51149   Exac: 166/209 (79.426%)\n",
      "Époque d'entraînement: 30   Perte moyenne: 0.43729   Exac: 506/625 (80.960%)\n",
      "Eval:  Perte moyenne: 0.50325   Exac: 167/209 (79.904%)\n",
      "Époque d'entraînement: 31   Perte moyenne: 0.44262   Exac: 501/625 (80.160%)\n",
      "Eval:  Perte moyenne: 0.51388   Exac: 164/209 (78.469%)\n",
      "Époque d'entraînement: 32   Perte moyenne: 0.45369   Exac: 500/625 (80.000%)\n",
      "Eval:  Perte moyenne: 0.50466   Exac: 167/209 (79.904%)\n",
      "Époque d'entraînement: 33   Perte moyenne: 0.45676   Exac: 497/625 (79.520%)\n",
      "Eval:  Perte moyenne: 0.51477   Exac: 160/209 (76.555%)\n",
      "Époque d'entraînement: 34   Perte moyenne: 0.45612   Exac: 497/625 (79.520%)\n",
      "Eval:  Perte moyenne: 0.50982   Exac: 163/209 (77.990%)\n",
      "Époque d'entraînement: 35   Perte moyenne: 0.43095   Exac: 507/625 (81.120%)\n",
      "Eval:  Perte moyenne: 0.50017   Exac: 168/209 (80.383%)\n",
      "Époque d'entraînement: 36   Perte moyenne: 0.42578   Exac: 508/625 (81.280%)\n",
      "Eval:  Perte moyenne: 0.49845   Exac: 166/209 (79.426%)\n",
      "Époque d'entraînement: 37   Perte moyenne: 0.42918   Exac: 507/625 (81.120%)\n",
      "Eval:  Perte moyenne: 0.51367   Exac: 167/209 (79.904%)\n",
      "Époque d'entraînement: 38   Perte moyenne: 0.43003   Exac: 504/625 (80.640%)\n",
      "Eval:  Perte moyenne: 0.51591   Exac: 162/209 (77.512%)\n",
      "Époque d'entraînement: 39   Perte moyenne: 0.43331   Exac: 504/625 (80.640%)\n",
      "Eval:  Perte moyenne: 0.52294   Exac: 162/209 (77.512%)\n",
      "Époque d'entraînement: 40   Perte moyenne: 0.42899   Exac: 504/625 (80.640%)\n",
      "Eval:  Perte moyenne: 0.50765   Exac: 163/209 (77.990%)\n",
      "Époque d'entraînement: 41   Perte moyenne: 0.42353   Exac: 511/625 (81.760%)\n",
      "Eval:  Perte moyenne: 0.53098   Exac: 160/209 (76.555%)\n",
      "Époque d'entraînement: 42   Perte moyenne: 0.43162   Exac: 510/625 (81.600%)\n",
      "Eval:  Perte moyenne: 0.51242   Exac: 165/209 (78.947%)\n",
      "Époque d'entraînement: 43   Perte moyenne: 0.42274   Exac: 508/625 (81.280%)\n",
      "Eval:  Perte moyenne: 0.52351   Exac: 161/209 (77.033%)\n",
      "Époque d'entraînement: 44   Perte moyenne: 0.41901   Exac: 512/625 (81.920%)\n",
      "Eval:  Perte moyenne: 0.51061   Exac: 166/209 (79.426%)\n",
      "Époque d'entraînement: 45   Perte moyenne: 0.41774   Exac: 508/625 (81.280%)\n",
      "Eval:  Perte moyenne: 0.51765   Exac: 169/209 (80.861%)\n",
      "Époque d'entraînement: 46   Perte moyenne: 0.42539   Exac: 512/625 (81.920%)\n",
      "Eval:  Perte moyenne: 0.49882   Exac: 169/209 (80.861%)\n",
      "Époque d'entraînement: 47   Perte moyenne: 0.42986   Exac: 510/625 (81.600%)\n",
      "Eval:  Perte moyenne: 0.52549   Exac: 161/209 (77.033%)\n",
      "Époque d'entraînement: 48   Perte moyenne: 0.42133   Exac: 510/625 (81.600%)\n",
      "Eval:  Perte moyenne: 0.51714   Exac: 165/209 (78.947%)\n",
      "Époque d'entraînement: 49   Perte moyenne: 0.42430   Exac: 511/625 (81.760%)\n",
      "Eval:  Perte moyenne: 0.51036   Exac: 169/209 (80.861%)\n",
      "Époque d'entraînement: 50   Perte moyenne: 0.41490   Exac: 515/625 (82.400%)\n",
      "Eval:  Perte moyenne: 0.49750   Exac: 170/209 (81.340%)\n",
      "Époque d'entraînement: 51   Perte moyenne: 0.40705   Exac: 515/625 (82.400%)\n",
      "Eval:  Perte moyenne: 0.51579   Exac: 167/209 (79.904%)\n",
      "Époque d'entraînement: 52   Perte moyenne: 0.41079   Exac: 515/625 (82.400%)\n",
      "Eval:  Perte moyenne: 0.51171   Exac: 169/209 (80.861%)\n",
      "Époque d'entraînement: 53   Perte moyenne: 0.40665   Exac: 512/625 (81.920%)\n",
      "Eval:  Perte moyenne: 0.51348   Exac: 169/209 (80.861%)\n",
      "Époque d'entraînement: 54   Perte moyenne: 0.40773   Exac: 510/625 (81.600%)\n",
      "Eval:  Perte moyenne: 0.50584   Exac: 170/209 (81.340%)\n",
      "Époque d'entraînement: 55   Perte moyenne: 0.40528   Exac: 514/625 (82.240%)\n",
      "Eval:  Perte moyenne: 0.51098   Exac: 169/209 (80.861%)\n",
      "Époque d'entraînement: 56   Perte moyenne: 0.40169   Exac: 516/625 (82.560%)\n",
      "Eval:  Perte moyenne: 0.51603   Exac: 169/209 (80.861%)\n",
      "Époque d'entraînement: 57   Perte moyenne: 0.40443   Exac: 515/625 (82.400%)\n",
      "Eval:  Perte moyenne: 0.51208   Exac: 169/209 (80.861%)\n",
      "Époque d'entraînement: 58   Perte moyenne: 0.40677   Exac: 512/625 (81.920%)\n",
      "Eval:  Perte moyenne: 0.51689   Exac: 168/209 (80.383%)\n",
      "Époque d'entraînement: 59   Perte moyenne: 0.40295   Exac: 515/625 (82.400%)\n",
      "Eval:  Perte moyenne: 0.50207   Exac: 168/209 (80.383%)\n",
      "Époque d'entraînement: 60   Perte moyenne: 0.41354   Exac: 513/625 (82.080%)\n",
      "Eval:  Perte moyenne: 0.51340   Exac: 170/209 (81.340%)\n",
      "Époque d'entraînement: 61   Perte moyenne: 0.40447   Exac: 517/625 (82.720%)\n",
      "Eval:  Perte moyenne: 0.51662   Exac: 167/209 (79.904%)\n",
      "Époque d'entraînement: 62   Perte moyenne: 0.40276   Exac: 520/625 (83.200%)\n",
      "Eval:  Perte moyenne: 0.51596   Exac: 168/209 (80.383%)\n",
      "Époque d'entraînement: 63   Perte moyenne: 0.40671   Exac: 509/625 (81.440%)\n",
      "Eval:  Perte moyenne: 0.52560   Exac: 164/209 (78.469%)\n",
      "Époque d'entraînement: 64   Perte moyenne: 0.40590   Exac: 512/625 (81.920%)\n",
      "Eval:  Perte moyenne: 0.54552   Exac: 169/209 (80.861%)\n",
      "Époque d'entraînement: 65   Perte moyenne: 0.41163   Exac: 514/625 (82.240%)\n",
      "Eval:  Perte moyenne: 0.50450   Exac: 171/209 (81.818%)\n",
      "Époque d'entraînement: 66   Perte moyenne: 0.40486   Exac: 510/625 (81.600%)\n",
      "Eval:  Perte moyenne: 0.51603   Exac: 169/209 (80.861%)\n",
      "Époque d'entraînement: 67   Perte moyenne: 0.40354   Exac: 512/625 (81.920%)\n",
      "Eval:  Perte moyenne: 0.53236   Exac: 169/209 (80.861%)\n",
      "Époque d'entraînement: 68   Perte moyenne: 0.40674   Exac: 517/625 (82.720%)\n",
      "Eval:  Perte moyenne: 0.52243   Exac: 170/209 (81.340%)\n",
      "Époque d'entraînement: 69   Perte moyenne: 0.39861   Exac: 514/625 (82.240%)\n",
      "Eval:  Perte moyenne: 0.51513   Exac: 170/209 (81.340%)\n",
      "Époque d'entraînement: 70   Perte moyenne: 0.39501   Exac: 516/625 (82.560%)\n",
      "Eval:  Perte moyenne: 0.51965   Exac: 170/209 (81.340%)\n",
      "Époque d'entraînement: 71   Perte moyenne: 0.40384   Exac: 515/625 (82.400%)\n",
      "Eval:  Perte moyenne: 0.53967   Exac: 170/209 (81.340%)\n",
      "Époque d'entraînement: 72   Perte moyenne: 0.39575   Exac: 515/625 (82.400%)\n",
      "Eval:  Perte moyenne: 0.54079   Exac: 169/209 (80.861%)\n",
      "Époque d'entraînement: 73   Perte moyenne: 0.41207   Exac: 503/625 (80.480%)\n",
      "Eval:  Perte moyenne: 0.51060   Exac: 172/209 (82.297%)\n",
      "Époque d'entraînement: 74   Perte moyenne: 0.39802   Exac: 515/625 (82.400%)\n",
      "Eval:  Perte moyenne: 0.50302   Exac: 169/209 (80.861%)\n",
      "Époque d'entraînement: 75   Perte moyenne: 0.39220   Exac: 518/625 (82.880%)\n",
      "Eval:  Perte moyenne: 0.52859   Exac: 169/209 (80.861%)\n",
      "Époque d'entraînement: 76   Perte moyenne: 0.39656   Exac: 512/625 (81.920%)\n",
      "Eval:  Perte moyenne: 0.51436   Exac: 171/209 (81.818%)\n",
      "Époque d'entraînement: 77   Perte moyenne: 0.39145   Exac: 519/625 (83.040%)\n",
      "Eval:  Perte moyenne: 0.53645   Exac: 169/209 (80.861%)\n",
      "Époque d'entraînement: 78   Perte moyenne: 0.39334   Exac: 517/625 (82.720%)\n",
      "Eval:  Perte moyenne: 0.53281   Exac: 170/209 (81.340%)\n",
      "Époque d'entraînement: 79   Perte moyenne: 0.39815   Exac: 515/625 (82.400%)\n",
      "Eval:  Perte moyenne: 0.53625   Exac: 171/209 (81.818%)\n",
      "Époque d'entraînement: 80   Perte moyenne: 0.39783   Exac: 516/625 (82.560%)\n",
      "Eval:  Perte moyenne: 0.55439   Exac: 165/209 (78.947%)\n",
      "Époque d'entraînement: 81   Perte moyenne: 0.42876   Exac: 504/625 (80.640%)\n",
      "Eval:  Perte moyenne: 0.55882   Exac: 167/209 (79.904%)\n",
      "Époque d'entraînement: 82   Perte moyenne: 0.43476   Exac: 497/625 (79.520%)\n",
      "Eval:  Perte moyenne: 0.53700   Exac: 167/209 (79.904%)\n",
      "Époque d'entraînement: 83   Perte moyenne: 0.40508   Exac: 512/625 (81.920%)\n",
      "Eval:  Perte moyenne: 0.54264   Exac: 167/209 (79.904%)\n",
      "Époque d'entraînement: 84   Perte moyenne: 0.40325   Exac: 515/625 (82.400%)\n",
      "Eval:  Perte moyenne: 0.54721   Exac: 170/209 (81.340%)\n",
      "Époque d'entraînement: 85   Perte moyenne: 0.40475   Exac: 513/625 (82.080%)\n",
      "Eval:  Perte moyenne: 0.52622   Exac: 169/209 (80.861%)\n",
      "Époque d'entraînement: 86   Perte moyenne: 0.39416   Exac: 518/625 (82.880%)\n",
      "Eval:  Perte moyenne: 0.53282   Exac: 171/209 (81.818%)\n",
      "Époque d'entraînement: 87   Perte moyenne: 0.39871   Exac: 516/625 (82.560%)\n",
      "Eval:  Perte moyenne: 0.51514   Exac: 169/209 (80.861%)\n",
      "Époque d'entraînement: 88   Perte moyenne: 0.39338   Exac: 513/625 (82.080%)\n",
      "Eval:  Perte moyenne: 0.53511   Exac: 170/209 (81.340%)\n",
      "Époque d'entraînement: 89   Perte moyenne: 0.38846   Exac: 519/625 (83.040%)\n",
      "Eval:  Perte moyenne: 0.52646   Exac: 171/209 (81.818%)\n",
      "Époque d'entraînement: 90   Perte moyenne: 0.38506   Exac: 525/625 (84.000%)\n",
      "Eval:  Perte moyenne: 0.53982   Exac: 170/209 (81.340%)\n",
      "Époque d'entraînement: 91   Perte moyenne: 0.39396   Exac: 514/625 (82.240%)\n",
      "Eval:  Perte moyenne: 0.53156   Exac: 169/209 (80.861%)\n",
      "Époque d'entraînement: 92   Perte moyenne: 0.39150   Exac: 511/625 (81.760%)\n",
      "Eval:  Perte moyenne: 0.52424   Exac: 170/209 (81.340%)\n",
      "Époque d'entraînement: 93   Perte moyenne: 0.38880   Exac: 519/625 (83.040%)\n",
      "Eval:  Perte moyenne: 0.53259   Exac: 172/209 (82.297%)\n",
      "Époque d'entraînement: 94   Perte moyenne: 0.38527   Exac: 516/625 (82.560%)\n",
      "Eval:  Perte moyenne: 0.54343   Exac: 171/209 (81.818%)\n",
      "Époque d'entraînement: 95   Perte moyenne: 0.38233   Exac: 521/625 (83.360%)\n",
      "Eval:  Perte moyenne: 0.55508   Exac: 169/209 (80.861%)\n",
      "Époque d'entraînement: 96   Perte moyenne: 0.38985   Exac: 519/625 (83.040%)\n",
      "Eval:  Perte moyenne: 0.52917   Exac: 171/209 (81.818%)\n",
      "Époque d'entraînement: 97   Perte moyenne: 0.38830   Exac: 517/625 (82.720%)\n",
      "Eval:  Perte moyenne: 0.54741   Exac: 172/209 (82.297%)\n",
      "Époque d'entraînement: 98   Perte moyenne: 0.38575   Exac: 517/625 (82.720%)\n",
      "Eval:  Perte moyenne: 0.53059   Exac: 173/209 (82.775%)\n",
      "Époque d'entraînement: 99   Perte moyenne: 0.38476   Exac: 520/625 (83.200%)\n",
      "Eval:  Perte moyenne: 0.54084   Exac: 172/209 (82.297%)\n",
      "Époque d'entraînement: 100   Perte moyenne: 0.38348   Exac: 521/625 (83.360%)\n",
      "Eval:  Perte moyenne: 0.55011   Exac: 170/209 (81.340%)\n",
      "Époque d'entraînement: 101   Perte moyenne: 0.39069   Exac: 514/625 (82.240%)\n",
      "Eval:  Perte moyenne: 0.54557   Exac: 173/209 (82.775%)\n",
      "Époque d'entraînement: 102   Perte moyenne: 0.38530   Exac: 520/625 (83.200%)\n",
      "Eval:  Perte moyenne: 0.55731   Exac: 171/209 (81.818%)\n",
      "Époque d'entraînement: 103   Perte moyenne: 0.38386   Exac: 514/625 (82.240%)\n",
      "Eval:  Perte moyenne: 0.55117   Exac: 172/209 (82.297%)\n",
      "Époque d'entraînement: 104   Perte moyenne: 0.38128   Exac: 518/625 (82.880%)\n",
      "Eval:  Perte moyenne: 0.53140   Exac: 171/209 (81.818%)\n",
      "Époque d'entraînement: 105   Perte moyenne: 0.39057   Exac: 515/625 (82.400%)\n",
      "Eval:  Perte moyenne: 0.52422   Exac: 169/209 (80.861%)\n",
      "Époque d'entraînement: 106   Perte moyenne: 0.38181   Exac: 522/625 (83.520%)\n",
      "Eval:  Perte moyenne: 0.54568   Exac: 174/209 (83.254%)\n",
      "Époque d'entraînement: 107   Perte moyenne: 0.37953   Exac: 520/625 (83.200%)\n",
      "Eval:  Perte moyenne: 0.55121   Exac: 172/209 (82.297%)\n",
      "Époque d'entraînement: 108   Perte moyenne: 0.37725   Exac: 525/625 (84.000%)\n",
      "Eval:  Perte moyenne: 0.55389   Exac: 171/209 (81.818%)\n",
      "Époque d'entraînement: 109   Perte moyenne: 0.37980   Exac: 524/625 (83.840%)\n",
      "Eval:  Perte moyenne: 0.54617   Exac: 171/209 (81.818%)\n",
      "Époque d'entraînement: 110   Perte moyenne: 0.38019   Exac: 517/625 (82.720%)\n",
      "Eval:  Perte moyenne: 0.55920   Exac: 171/209 (81.818%)\n",
      "Époque d'entraînement: 111   Perte moyenne: 0.37404   Exac: 527/625 (84.320%)\n",
      "Eval:  Perte moyenne: 0.54398   Exac: 172/209 (82.297%)\n",
      "Époque d'entraînement: 112   Perte moyenne: 0.38093   Exac: 521/625 (83.360%)\n",
      "Eval:  Perte moyenne: 0.55697   Exac: 172/209 (82.297%)\n",
      "Époque d'entraînement: 113   Perte moyenne: 0.37959   Exac: 522/625 (83.520%)\n",
      "Eval:  Perte moyenne: 0.55691   Exac: 171/209 (81.818%)\n",
      "Époque d'entraînement: 114   Perte moyenne: 0.38245   Exac: 523/625 (83.680%)\n",
      "Eval:  Perte moyenne: 0.55407   Exac: 171/209 (81.818%)\n",
      "Époque d'entraînement: 115   Perte moyenne: 0.38065   Exac: 523/625 (83.680%)\n",
      "Eval:  Perte moyenne: 0.55903   Exac: 171/209 (81.818%)\n",
      "Époque d'entraînement: 116   Perte moyenne: 0.37243   Exac: 525/625 (84.000%)\n",
      "Eval:  Perte moyenne: 0.57284   Exac: 170/209 (81.340%)\n",
      "Époque d'entraînement: 117   Perte moyenne: 0.37707   Exac: 520/625 (83.200%)\n",
      "Eval:  Perte moyenne: 0.58426   Exac: 173/209 (82.775%)\n",
      "Époque d'entraînement: 118   Perte moyenne: 0.37513   Exac: 525/625 (84.000%)\n",
      "Eval:  Perte moyenne: 0.55882   Exac: 173/209 (82.775%)\n",
      "Époque d'entraînement: 119   Perte moyenne: 0.37400   Exac: 524/625 (83.840%)\n",
      "Eval:  Perte moyenne: 0.58551   Exac: 171/209 (81.818%)\n",
      "Époque d'entraînement: 120   Perte moyenne: 0.39284   Exac: 520/625 (83.200%)\n",
      "Eval:  Perte moyenne: 0.58440   Exac: 168/209 (80.383%)\n",
      "Époque d'entraînement: 121   Perte moyenne: 0.39802   Exac: 515/625 (82.400%)\n",
      "Eval:  Perte moyenne: 0.57077   Exac: 171/209 (81.818%)\n",
      "Époque d'entraînement: 122   Perte moyenne: 0.37712   Exac: 522/625 (83.520%)\n",
      "Eval:  Perte moyenne: 0.57876   Exac: 173/209 (82.775%)\n",
      "Époque d'entraînement: 123   Perte moyenne: 0.37784   Exac: 528/625 (84.480%)\n",
      "Eval:  Perte moyenne: 0.56752   Exac: 173/209 (82.775%)\n",
      "Époque d'entraînement: 124   Perte moyenne: 0.37189   Exac: 529/625 (84.640%)\n",
      "Eval:  Perte moyenne: 0.58487   Exac: 172/209 (82.297%)\n",
      "Époque d'entraînement: 125   Perte moyenne: 0.37070   Exac: 530/625 (84.800%)\n",
      "Eval:  Perte moyenne: 0.54698   Exac: 168/209 (80.383%)\n",
      "Époque d'entraînement: 126   Perte moyenne: 0.37901   Exac: 519/625 (83.040%)\n",
      "Eval:  Perte moyenne: 0.58905   Exac: 169/209 (80.861%)\n",
      "Époque d'entraînement: 127   Perte moyenne: 0.37216   Exac: 522/625 (83.520%)\n",
      "Eval:  Perte moyenne: 0.55117   Exac: 171/209 (81.818%)\n",
      "Époque d'entraînement: 128   Perte moyenne: 0.37411   Exac: 525/625 (84.000%)\n",
      "Eval:  Perte moyenne: 0.58049   Exac: 169/209 (80.861%)\n",
      "Époque d'entraînement: 129   Perte moyenne: 0.37149   Exac: 519/625 (83.040%)\n",
      "Eval:  Perte moyenne: 0.57903   Exac: 169/209 (80.861%)\n",
      "Époque d'entraînement: 130   Perte moyenne: 0.37098   Exac: 528/625 (84.480%)\n",
      "Eval:  Perte moyenne: 0.59163   Exac: 173/209 (82.775%)\n",
      "Époque d'entraînement: 131   Perte moyenne: 0.38007   Exac: 519/625 (83.040%)\n",
      "Eval:  Perte moyenne: 0.58830   Exac: 170/209 (81.340%)\n",
      "Époque d'entraînement: 132   Perte moyenne: 0.37207   Exac: 527/625 (84.320%)\n",
      "Eval:  Perte moyenne: 0.56079   Exac: 171/209 (81.818%)\n",
      "Époque d'entraînement: 133   Perte moyenne: 0.38987   Exac: 519/625 (83.040%)\n",
      "Eval:  Perte moyenne: 0.58726   Exac: 175/209 (83.732%)\n",
      "Époque d'entraînement: 134   Perte moyenne: 0.37068   Exac: 518/625 (82.880%)\n",
      "Eval:  Perte moyenne: 0.57925   Exac: 172/209 (82.297%)\n",
      "Époque d'entraînement: 135   Perte moyenne: 0.37191   Exac: 527/625 (84.320%)\n",
      "Eval:  Perte moyenne: 0.58491   Exac: 172/209 (82.297%)\n",
      "Époque d'entraînement: 136   Perte moyenne: 0.37213   Exac: 525/625 (84.000%)\n",
      "Eval:  Perte moyenne: 0.57920   Exac: 173/209 (82.775%)\n",
      "Époque d'entraînement: 137   Perte moyenne: 0.37479   Exac: 520/625 (83.200%)\n",
      "Eval:  Perte moyenne: 0.60298   Exac: 171/209 (81.818%)\n",
      "Époque d'entraînement: 138   Perte moyenne: 0.36875   Exac: 525/625 (84.000%)\n",
      "Eval:  Perte moyenne: 0.56671   Exac: 172/209 (82.297%)\n",
      "Époque d'entraînement: 139   Perte moyenne: 0.37568   Exac: 520/625 (83.200%)\n",
      "Eval:  Perte moyenne: 0.60353   Exac: 174/209 (83.254%)\n",
      "Époque d'entraînement: 140   Perte moyenne: 0.39557   Exac: 519/625 (83.040%)\n",
      "Eval:  Perte moyenne: 0.57456   Exac: 171/209 (81.818%)\n",
      "Époque d'entraînement: 141   Perte moyenne: 0.37618   Exac: 522/625 (83.520%)\n",
      "Eval:  Perte moyenne: 0.58931   Exac: 173/209 (82.775%)\n",
      "Époque d'entraînement: 142   Perte moyenne: 0.37337   Exac: 523/625 (83.680%)\n",
      "Eval:  Perte moyenne: 0.56702   Exac: 172/209 (82.297%)\n",
      "Époque d'entraînement: 143   Perte moyenne: 0.36795   Exac: 522/625 (83.520%)\n",
      "Eval:  Perte moyenne: 0.57470   Exac: 169/209 (80.861%)\n",
      "Époque d'entraînement: 144   Perte moyenne: 0.36902   Exac: 532/625 (85.120%)\n",
      "Eval:  Perte moyenne: 0.58266   Exac: 171/209 (81.818%)\n",
      "Époque d'entraînement: 145   Perte moyenne: 0.36944   Exac: 526/625 (84.160%)\n",
      "Eval:  Perte moyenne: 0.59510   Exac: 167/209 (79.904%)\n",
      "Époque d'entraînement: 146   Perte moyenne: 0.37183   Exac: 522/625 (83.520%)\n",
      "Eval:  Perte moyenne: 0.59384   Exac: 171/209 (81.818%)\n",
      "Époque d'entraînement: 147   Perte moyenne: 0.36679   Exac: 529/625 (84.640%)\n",
      "Eval:  Perte moyenne: 0.59910   Exac: 173/209 (82.775%)\n",
      "Époque d'entraînement: 148   Perte moyenne: 0.36909   Exac: 529/625 (84.640%)\n",
      "Eval:  Perte moyenne: 0.58857   Exac: 170/209 (81.340%)\n",
      "Époque d'entraînement: 149   Perte moyenne: 0.36735   Exac: 527/625 (84.320%)\n",
      "Eval:  Perte moyenne: 0.60124   Exac: 171/209 (81.818%)\n",
      "Époque d'entraînement: 150   Perte moyenne: 0.36595   Exac: 525/625 (84.000%)\n",
      "Eval:  Perte moyenne: 0.59212   Exac: 168/209 (80.383%)\n",
      "Époque d'entraînement: 151   Perte moyenne: 0.36658   Exac: 530/625 (84.800%)\n",
      "Eval:  Perte moyenne: 0.57765   Exac: 171/209 (81.818%)\n",
      "Époque d'entraînement: 152   Perte moyenne: 0.36406   Exac: 529/625 (84.640%)\n",
      "Eval:  Perte moyenne: 0.61539   Exac: 170/209 (81.340%)\n",
      "Époque d'entraînement: 153   Perte moyenne: 0.36377   Exac: 525/625 (84.000%)\n",
      "Eval:  Perte moyenne: 0.57781   Exac: 174/209 (83.254%)\n",
      "Époque d'entraînement: 154   Perte moyenne: 0.35754   Exac: 533/625 (85.280%)\n",
      "Eval:  Perte moyenne: 0.62580   Exac: 169/209 (80.861%)\n",
      "Époque d'entraînement: 155   Perte moyenne: 0.37638   Exac: 528/625 (84.480%)\n",
      "Eval:  Perte moyenne: 0.65680   Exac: 166/209 (79.426%)\n",
      "Époque d'entraînement: 156   Perte moyenne: 0.38740   Exac: 515/625 (82.400%)\n",
      "Eval:  Perte moyenne: 0.60651   Exac: 166/209 (79.426%)\n",
      "Époque d'entraînement: 157   Perte moyenne: 0.36717   Exac: 523/625 (83.680%)\n",
      "Eval:  Perte moyenne: 0.62615   Exac: 172/209 (82.297%)\n",
      "Époque d'entraînement: 158   Perte moyenne: 0.36532   Exac: 524/625 (83.840%)\n",
      "Eval:  Perte moyenne: 0.56922   Exac: 170/209 (81.340%)\n",
      "Époque d'entraînement: 159   Perte moyenne: 0.36538   Exac: 518/625 (82.880%)\n",
      "Eval:  Perte moyenne: 0.59799   Exac: 173/209 (82.775%)\n",
      "Époque d'entraînement: 160   Perte moyenne: 0.37126   Exac: 518/625 (82.880%)\n",
      "Eval:  Perte moyenne: 0.60070   Exac: 168/209 (80.383%)\n",
      "Époque d'entraînement: 161   Perte moyenne: 0.36846   Exac: 523/625 (83.680%)\n",
      "Eval:  Perte moyenne: 0.61783   Exac: 169/209 (80.861%)\n",
      "Époque d'entraînement: 162   Perte moyenne: 0.36910   Exac: 528/625 (84.480%)\n",
      "Eval:  Perte moyenne: 0.57509   Exac: 168/209 (80.383%)\n",
      "Époque d'entraînement: 163   Perte moyenne: 0.36566   Exac: 527/625 (84.320%)\n",
      "Eval:  Perte moyenne: 0.58777   Exac: 170/209 (81.340%)\n",
      "Époque d'entraînement: 164   Perte moyenne: 0.36287   Exac: 527/625 (84.320%)\n",
      "Eval:  Perte moyenne: 0.64361   Exac: 168/209 (80.383%)\n",
      "Époque d'entraînement: 165   Perte moyenne: 0.38015   Exac: 515/625 (82.400%)\n",
      "Eval:  Perte moyenne: 0.61008   Exac: 172/209 (82.297%)\n",
      "Époque d'entraînement: 166   Perte moyenne: 0.36384   Exac: 525/625 (84.000%)\n",
      "Eval:  Perte moyenne: 0.60025   Exac: 171/209 (81.818%)\n",
      "Époque d'entraînement: 167   Perte moyenne: 0.36353   Exac: 528/625 (84.480%)\n",
      "Eval:  Perte moyenne: 0.61918   Exac: 168/209 (80.383%)\n",
      "Époque d'entraînement: 168   Perte moyenne: 0.35849   Exac: 524/625 (83.840%)\n",
      "Eval:  Perte moyenne: 0.62625   Exac: 172/209 (82.297%)\n",
      "Époque d'entraînement: 169   Perte moyenne: 0.36186   Exac: 526/625 (84.160%)\n",
      "Eval:  Perte moyenne: 0.60303   Exac: 171/209 (81.818%)\n",
      "Époque d'entraînement: 170   Perte moyenne: 0.37087   Exac: 527/625 (84.320%)\n",
      "Eval:  Perte moyenne: 0.60207   Exac: 172/209 (82.297%)\n",
      "Époque d'entraînement: 171   Perte moyenne: 0.36295   Exac: 523/625 (83.680%)\n",
      "Eval:  Perte moyenne: 0.57974   Exac: 173/209 (82.775%)\n",
      "Époque d'entraînement: 172   Perte moyenne: 0.36285   Exac: 525/625 (84.000%)\n",
      "Eval:  Perte moyenne: 0.62233   Exac: 170/209 (81.340%)\n",
      "Époque d'entraînement: 173   Perte moyenne: 0.35624   Exac: 530/625 (84.800%)\n",
      "Eval:  Perte moyenne: 0.58499   Exac: 172/209 (82.297%)\n",
      "Époque d'entraînement: 174   Perte moyenne: 0.35677   Exac: 524/625 (83.840%)\n",
      "Eval:  Perte moyenne: 0.62142   Exac: 174/209 (83.254%)\n",
      "Époque d'entraînement: 175   Perte moyenne: 0.36560   Exac: 530/625 (84.800%)\n",
      "Eval:  Perte moyenne: 0.61107   Exac: 172/209 (82.297%)\n",
      "Époque d'entraînement: 176   Perte moyenne: 0.35917   Exac: 527/625 (84.320%)\n",
      "Eval:  Perte moyenne: 0.62744   Exac: 172/209 (82.297%)\n",
      "Époque d'entraînement: 177   Perte moyenne: 0.35540   Exac: 532/625 (85.120%)\n",
      "Eval:  Perte moyenne: 0.59999   Exac: 172/209 (82.297%)\n",
      "Époque d'entraînement: 178   Perte moyenne: 0.35736   Exac: 529/625 (84.640%)\n",
      "Eval:  Perte moyenne: 0.61432   Exac: 172/209 (82.297%)\n",
      "Époque d'entraînement: 179   Perte moyenne: 0.35977   Exac: 530/625 (84.800%)\n",
      "Eval:  Perte moyenne: 0.63158   Exac: 171/209 (81.818%)\n",
      "Époque d'entraînement: 180   Perte moyenne: 0.35196   Exac: 531/625 (84.960%)\n",
      "Eval:  Perte moyenne: 0.62966   Exac: 169/209 (80.861%)\n",
      "Époque d'entraînement: 181   Perte moyenne: 0.35920   Exac: 527/625 (84.320%)\n",
      "Eval:  Perte moyenne: 0.62455   Exac: 173/209 (82.775%)\n",
      "Époque d'entraînement: 182   Perte moyenne: 0.35606   Exac: 532/625 (85.120%)\n",
      "Eval:  Perte moyenne: 0.60746   Exac: 170/209 (81.340%)\n",
      "Époque d'entraînement: 183   Perte moyenne: 0.35499   Exac: 524/625 (83.840%)\n",
      "Eval:  Perte moyenne: 0.61403   Exac: 170/209 (81.340%)\n",
      "Époque d'entraînement: 184   Perte moyenne: 0.35468   Exac: 532/625 (85.120%)\n",
      "Eval:  Perte moyenne: 0.59984   Exac: 171/209 (81.818%)\n",
      "Époque d'entraînement: 185   Perte moyenne: 0.35638   Exac: 530/625 (84.800%)\n",
      "Eval:  Perte moyenne: 0.65437   Exac: 172/209 (82.297%)\n",
      "Époque d'entraînement: 186   Perte moyenne: 0.35103   Exac: 531/625 (84.960%)\n",
      "Eval:  Perte moyenne: 0.64567   Exac: 168/209 (80.383%)\n",
      "Époque d'entraînement: 187   Perte moyenne: 0.36452   Exac: 527/625 (84.320%)\n",
      "Eval:  Perte moyenne: 0.64006   Exac: 173/209 (82.775%)\n",
      "Époque d'entraînement: 188   Perte moyenne: 0.35943   Exac: 532/625 (85.120%)\n",
      "Eval:  Perte moyenne: 0.61513   Exac: 168/209 (80.383%)\n",
      "Époque d'entraînement: 189   Perte moyenne: 0.36313   Exac: 526/625 (84.160%)\n",
      "Eval:  Perte moyenne: 0.64500   Exac: 168/209 (80.383%)\n",
      "Époque d'entraînement: 190   Perte moyenne: 0.35237   Exac: 532/625 (85.120%)\n",
      "Eval:  Perte moyenne: 0.63239   Exac: 171/209 (81.818%)\n",
      "Époque d'entraînement: 191   Perte moyenne: 0.35721   Exac: 526/625 (84.160%)\n",
      "Eval:  Perte moyenne: 0.65140   Exac: 172/209 (82.297%)\n",
      "Époque d'entraînement: 192   Perte moyenne: 0.35550   Exac: 529/625 (84.640%)\n",
      "Eval:  Perte moyenne: 0.63104   Exac: 169/209 (80.861%)\n",
      "Époque d'entraînement: 193   Perte moyenne: 0.35371   Exac: 533/625 (85.280%)\n",
      "Eval:  Perte moyenne: 0.62307   Exac: 173/209 (82.775%)\n",
      "Époque d'entraînement: 194   Perte moyenne: 0.35159   Exac: 531/625 (84.960%)\n",
      "Eval:  Perte moyenne: 0.61827   Exac: 169/209 (80.861%)\n",
      "Époque d'entraînement: 195   Perte moyenne: 0.39451   Exac: 521/625 (83.360%)\n",
      "Eval:  Perte moyenne: 0.67327   Exac: 166/209 (79.426%)\n",
      "Époque d'entraînement: 196   Perte moyenne: 0.38654   Exac: 524/625 (83.840%)\n",
      "Eval:  Perte moyenne: 0.70690   Exac: 168/209 (80.383%)\n",
      "Époque d'entraînement: 197   Perte moyenne: 0.35953   Exac: 527/625 (84.320%)\n",
      "Eval:  Perte moyenne: 0.65103   Exac: 171/209 (81.818%)\n",
      "Époque d'entraînement: 198   Perte moyenne: 0.35620   Exac: 525/625 (84.000%)\n",
      "Eval:  Perte moyenne: 0.64331   Exac: 171/209 (81.818%)\n",
      "Époque d'entraînement: 199   Perte moyenne: 0.35209   Exac: 533/625 (85.280%)\n",
      "Eval:  Perte moyenne: 0.65693   Exac: 169/209 (80.861%)\n",
      "Époque d'entraînement: 200   Perte moyenne: 0.35662   Exac: 529/625 (84.640%)\n",
      "Eval:  Perte moyenne: 0.66904   Exac: 170/209 (81.340%)\n",
      "\n",
      "\n",
      "\n",
      "Optimisation finie.\n",
      "\n"
     ]
    }
   ],
   "source": [
    "# Maximum d'époques\n",
    "numEpochs = 200\n",
    "\n",
    "# Fréquence de sauvegarde\n",
    "checkpoint_freq = 10\n",
    "\n",
    "# Répertoire pour la sauvegarde des données\n",
    "path = './'\n",
    "\n",
    "# Accumulateurs de coûts moyens obtenus par époque\n",
    "train_losses = []\n",
    "val_losses = []\n",
    "\n",
    "# Accumulateurs de performance par époque\n",
    "train_accuracies = []\n",
    "val_accuracies = []\n",
    "\n",
    "# Définition du modèle\n",
    "neural_net = NeuralNet()\n",
    "\n",
    "# Charger le modèle sur l'appareil choisi\n",
    "neural_net = neural_net.to(device)\n",
    "\n",
    "# Définition de l'optimiseur\n",
    "optimizer = optim.Adam(neural_net.parameters(), lr=0.001) \n",
    "# optimizer = optim.SGD(neural_net.parameters(), lr=0.001) \n",
    "\n",
    "\n",
    "# Boucle d'apprentissage\n",
    "for epoch in range(1, numEpochs + 1):\n",
    "    \n",
    "    # entraîner le modèle avec l'ensemble des données d'entraînement\n",
    "    train_loss, train_acc = train(epoch, neural_net, train_loader, optimizer, device)   \n",
    "    \n",
    "    # évaluer le modèle avec l'ensemble des données de validation\n",
    "    val_loss, val_acc = evaluate(neural_net, val_loader, device)       \n",
    "    \n",
    "    # Sauvegarder les coûts obtenus\n",
    "    train_losses.append(train_loss)    \n",
    "    val_losses.append(val_loss)\n",
    "    \n",
    "    # Sauvegarder les performances\n",
    "    train_accuracies.append(train_acc)    \n",
    "    val_accuracies.append(val_acc)\n",
    "    \n",
    "    # Point de contrôle\n",
    "    if epoch % checkpoint_freq ==0:\n",
    "        save_model(epoch, neural_net, path)\n",
    "\n",
    "# Sauvegarder le modèle à la fin de l'entraînement\n",
    "save_model(numEpochs, neural_net, path)\n",
    "    \n",
    "print(\"\\n\\n\\nOptimisation finie.\\n\")    \n"
   ]
  },
  {
   "cell_type": "markdown",
   "metadata": {
    "colab_type": "text",
    "id": "86OZRLrjavmd",
    "lines_to_next_cell": 0
   },
   "source": [
    "## Interpréter la sortie du réseau de neurones\n"
   ]
  },
  {
   "cell_type": "code",
   "execution_count": 24,
   "metadata": {
    "colab": {
     "base_uri": "https://localhost:8080/",
     "height": 191
    },
    "colab_type": "code",
    "id": "mklvQruYavme",
    "outputId": "193eeca0-db5e-477b-818d-7b5e6d883848"
   },
   "outputs": [
    {
     "name": "stdout",
     "output_type": "stream",
     "text": [
      "tensor([[0.9435, 0.0565],\n",
      "        [0.6777, 0.3223],\n",
      "        [0.5894, 0.4106],\n",
      "        [0.5691, 0.4309],\n",
      "        [0.8601, 0.1399],\n",
      "        [0.9518, 0.0482],\n",
      "        [0.8308, 0.1692],\n",
      "        [0.8338, 0.1662],\n",
      "        [0.0085, 0.9915],\n",
      "        [0.0123, 0.9877]], grad_fn=<SoftmaxBackward>)\n"
     ]
    }
   ],
   "source": [
    "# Activer le mode d'évaluation\n",
    "neural_net = neural_net.eval()\n",
    "\n",
    "# Sélectionner les 10 premiers points de données de l'ensemble de validation\n",
    "data, target = val_dataset[0:10]\n",
    "data = data.to(device)\n",
    "\n",
    "# Exécution du réseau de neurones\n",
    "output = neural_net(data)   # équivalent à neural_net.forward(data)\n",
    "\n",
    "# Transformer la sortie en une distribution de probabilité avec une fonction softmax\n",
    "output_proba = F.softmax(output, dim=1)\n",
    "\n",
    "# Imprimer la probabilité\n",
    "print(output_proba)"
   ]
  },
  {
   "cell_type": "code",
   "execution_count": 25,
   "metadata": {
    "colab": {
     "base_uri": "https://localhost:8080/",
     "height": 87
    },
    "colab_type": "code",
    "id": "RvIEqKt0qjeT",
    "outputId": "f1c4e779-e9e1-4873-be1e-1366fb515836"
   },
   "outputs": [
    {
     "name": "stdout",
     "output_type": "stream",
     "text": [
      "Prédictions du modèle\n",
      "tensor([0, 0, 0, 0, 0, 0, 0, 0, 1, 1])\n",
      "Cibles\n",
      "tensor([0, 0, 0, 0, 0, 0, 0, 1, 1, 1])\n"
     ]
    }
   ],
   "source": [
    "# Pour chaque exemple, récupérez la classe avec la plus grande probabilité.\n",
    "_, prediction = torch.max(output_proba, dim=1)\n",
    "\n",
    "print(\"Prédictions du modèle\")\n",
    "print(prediction)\n",
    "\n",
    "print(\"Cibles\")\n",
    "print(target)"
   ]
  },
  {
   "cell_type": "markdown",
   "metadata": {
    "colab_type": "text",
    "id": "V11J3Jihavmy",
    "lines_to_next_cell": 0
   },
   "source": [
    "## Visualisation de la courbe d'apprentissage\n"
   ]
  },
  {
   "cell_type": "markdown",
   "metadata": {
    "colab_type": "text",
    "id": "j9_9C_tXavmz",
    "lines_to_next_cell": 0
   },
   "source": [
    "La visualisation de la courbe d'apprentissage permet de détecter des problèmes potentiels qui se sont produits pendant l'apprentissage, par exemple, du surapprentissage.\n"
   ]
  },
  {
   "cell_type": "code",
   "execution_count": 26,
   "metadata": {
    "colab": {
     "base_uri": "https://localhost:8080/",
     "height": 283
    },
    "colab_type": "code",
    "id": "iNcbpl0tavm0",
    "outputId": "fa201aa2-5e25-4701-c0a9-33415773d68b"
   },
   "outputs": [
    {
     "data": {
      "image/png": "[encoded data removed]",
      "text/plain": [
       "<Figure size 432x288 with 1 Axes>"
      ]
     },
     "metadata": {
      "needs_background": "light"
     },
     "output_type": "display_data"
    }
   ],
   "source": [
    "import matplotlib.pyplot as plt\n",
    "%matplotlib inline\n",
    "\n",
    "x = list(range(len(train_losses)))\n",
    "\n",
    "ax = plt.subplot(111)\n",
    "plt.plot(x, train_losses, 'r', label=\"Entraînement\")\n",
    "plt.plot(x, val_losses, 'g', label=\"Validation\")\n",
    "plt.xlabel('Époque')\n",
    "plt.ylabel('Perte entropie croisée')\n",
    "plt.grid()\n",
    "leg = plt.legend(loc='best', ncol=2, mode=\"expand\", shadow=False, fancybox=False)\n",
    "leg.get_frame().set_alpha(0.99)"
   ]
  },
  {
   "cell_type": "code",
   "execution_count": 27,
   "metadata": {
    "colab": {
     "base_uri": "https://localhost:8080/",
     "height": 283
    },
    "colab_type": "code",
    "id": "g-VGQ2pMavm4",
    "outputId": "267e91d4-48e3-413d-e2e2-0feac7335035"
   },
   "outputs": [
    {
     "data": {
      "image/png": "[encoded data removed]",
      "text/plain": [
       "<Figure size 432x288 with 1 Axes>"
      ]
     },
     "metadata": {
      "needs_background": "light"
     },
     "output_type": "display_data"
    }
   ],
   "source": [
    "x = list(range(len(train_accuracies)))\n",
    "\n",
    "ax = plt.subplot(111)\n",
    "plt.plot(x, train_accuracies, 'r', label=\"Entraînement\")\n",
    "plt.plot(x, val_accuracies, 'g', label=\"Validation\")\n",
    "plt.xlabel('Époque')\n",
    "plt.ylabel('Exactitude')\n",
    "plt.grid()\n",
    "leg = plt.legend(loc='best', ncol=2, mode=\"expand\", shadow=False, fancybox=False)\n",
    "leg.get_frame().set_alpha(0.99)"
   ]
  },
  {
   "cell_type": "markdown",
   "metadata": {
    "colab_type": "text",
    "id": "8oktkpkuqjet",
    "lines_to_next_cell": 0
   },
   "source": [
    "**Questions**:\n",
    "\n",
    "* Qu'observez-vous dans les graphiques précédents ?\n",
    "* À quelle époque est-il intéressant d'extraire les paramètres du modèle pour l'inférence ?\n"
   ]
  },
  {
   "cell_type": "markdown",
   "metadata": {
    "colab_type": "text",
    "id": "qwhRt39yzug-",
    "lines_to_next_cell": 0
   },
   "source": [
    "**Réponses possibles:**\n",
    "\n",
    "* Le modèle apprend puisque la perte d'entraînement diminue. Cependant, nous pouvons observer en comparant les deux courbes de perte ( entraînement et validation) que le modèle commence à surapprendre à l'époque 25 par rapport à l'entropie croisée. Néanmoins, l'exactitude continue à augmenter jusqu'à l'époque 100.\n",
    "* Autour de l'époque 125 où l'exactitude sur l'ensemble de validation est maximale. La mesure de performance est plus importante que la perte car c'est la mesure utilisée pour déterminer le meilleur modèle (c'est-à-dire la sélection du modèle). La perte d'entraînement n'est qu'un substitut nécessaire pour générer la rétroaction pour un modèle particulier. Un autre modèle pourrait utiliser une autre fonction de perte.\n"
   ]
  },
  {
   "cell_type": "markdown",
   "metadata": {
    "colab_type": "text",
    "id": "XK_eUsq3avm8",
    "lines_to_next_cell": 0
   },
   "source": [
    "# Comment évaluer un modèle sur l'ensemble d’évaluation?\n"
   ]
  },
  {
   "cell_type": "markdown",
   "metadata": {
    "colab_type": "text",
    "id": "4UREO5elavm8",
    "lines_to_next_cell": 0
   },
   "source": [
    "Nous pouvons enfin évaluer notre modèle sur notre ensemble de données d'évaluation.\n"
   ]
  },
  {
   "cell_type": "code",
   "execution_count": 28,
   "metadata": {
    "colab": {
     "base_uri": "https://localhost:8080/",
     "height": 35
    },
    "colab_type": "code",
    "id": "pPWvDM-qavm8",
    "outputId": "b39e294a-47fb-401a-ffa4-5d2a407f0980"
   },
   "outputs": [
    {
     "name": "stdout",
     "output_type": "stream",
     "text": [
      "Eval:  Perte moyenne: 0.53942   Exac: 164/209 (78.469%)\n"
     ]
    }
   ],
   "source": [
    "test_loss, test_acc = evaluate(neural_net, test_loader, device)"
   ]
  },
  {
   "cell_type": "markdown",
   "metadata": {
    "colab_type": "text",
    "id": "EvP_-KUwqjez",
    "lines_to_next_cell": 0
   },
   "source": [
    "**Questions**:\n",
    "\n",
    "A) Comparer les métriques de validation et d’évaluation. <br/>\n"
   ]
  },
  {
   "cell_type": "markdown",
   "metadata": {
    "colab_type": "text",
    "id": "Ov4CKUFh5tun",
    "lines_to_next_cell": 0
   },
   "source": [
    "**Réponse possible** : On observe un écart entre les deux mesures (validation : 81,8%, évaluation: 78,5%). Nous expliquons cette différence par le petit nombre d'exemples utilisés dans les deux ensembles (~ 209 exemples). Cela signifie que nos estimations actuelles peuvent présenter une variance de quelques pourcents. Pour l'évaluer plus précisément, nous pourrions utiliser une validation croisée k-fois.\n"
   ]
  }
 ],
 "metadata": {
  "jupytext": {
   "cell_metadata_filter": "id,colab_type,outputId,colab,-all",
   "main_language": "python",
   "notebook_metadata_filter": "-all"
  },
  "kernelspec": {
   "display_name": "Python 3",
   "language": "python",
   "name": "python3"
  },
  "language_info": {
   "codemirror_mode": {
    "name": "ipython",
    "version": 3
   },
   "file_extension": ".py",
   "mimetype": "text/x-python",
   "name": "python",
   "nbconvert_exporter": "python",
   "pygments_lexer": "ipython3",
   "version": "3.7.6"
  }
 },
 "nbformat": 4,
 "nbformat_minor": 4
}
